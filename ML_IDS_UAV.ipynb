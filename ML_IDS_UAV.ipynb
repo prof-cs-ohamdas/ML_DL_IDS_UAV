{
  "nbformat": 4,
  "nbformat_minor": 0,
  "metadata": {
    "colab": {
      "provenance": [],
      "name": "ML_IDS_UAV.ipynb",
      "authorship_tag": "ABX9TyOc/1cnmAHHkosDRhrJyn69",
      "include_colab_link": true
    },
    "kernelspec": {
      "name": "python3",
      "display_name": "Python 3"
    },
    "language_info": {
      "name": "python"
    }
  },
  "cells": [
    {
      "cell_type": "markdown",
      "metadata": {
        "id": "view-in-github",
        "colab_type": "text"
      },
      "source": [
        "<a href=\"https://colab.research.google.com/github/prof-cs-ohamdas/ML_DL_IDS_UAV/blob/main/ML_IDS_UAV.ipynb\" target=\"_parent\"><img src=\"https://colab.research.google.com/assets/colab-badge.svg\" alt=\"Open In Colab\"/></a>"
      ]
    },
    {
      "cell_type": "markdown",
      "source": [],
      "metadata": {
        "id": "cNAUZTbDxNVe"
      }
    },
    {
      "cell_type": "code",
      "execution_count": 1,
      "metadata": {
        "id": "D93iHbMPtTrC"
      },
      "outputs": [],
      "source": [
        "import pandas as pd\n",
        "import numpy as np\n",
        "from sklearn.model_selection import train_test_split\n",
        "from sklearn.preprocessing import StandardScaler, LabelEncoder\n",
        "from sklearn.metrics import accuracy_score, classification_report\n",
        "from sklearn.linear_model import LogisticRegression\n",
        "from sklearn.neighbors import KNeighborsClassifier\n",
        "from sklearn.svm import SVC\n",
        "import warnings\n",
        "import numpy as np\n",
        "import pandas as pd\n",
        "from sklearn.model_selection import train_test_split\n",
        "from sklearn.preprocessing import StandardScaler, LabelEncoder\n",
        "from sklearn.metrics import accuracy_score, classification_report, confusion_matrix\n",
        "from sklearn.linear_model import LogisticRegression\n",
        "from sklearn.neighbors import KNeighborsClassifier\n",
        "from sklearn.svm import SVC\n",
        "from sklearn.neural_network import MLPClassifier"
      ]
    },
    {
      "cell_type": "code",
      "source": [
        "# Try import pennylane (QML). If not available, we'll fall back to classical surrogate.\n",
        "try:\n",
        "    import pennylane as qml\n",
        "    from pennylane import numpy as pnp\n",
        "    from pennylane.optimize import AdamOptimizer\n",
        "    QML_AVAILABLE = True\n",
        "    print(\"[INFO] pennylane imported: QML enabled.\")\n",
        "except Exception:\n",
        "    qml = None\n",
        "    pnp = None\n",
        "    AdamOptimizer = None\n",
        "    QML_AVAILABLE = False\n",
        "    warnings.warn(\n",
        "        \"pennylane not available — QML will fall back to a classical MLP surrogate. \"\n",
        "        \"To enable QML, install pennylane: pip install pennylane\"\n",
        "    )"
      ],
      "metadata": {
        "colab": {
          "base_uri": "https://localhost:8080/"
        },
        "id": "49vhE4uDxMhd",
        "outputId": "cae9655f-c5bb-4ad0-8710-89758f4f9f4c"
      },
      "execution_count": 2,
      "outputs": [
        {
          "output_type": "stream",
          "name": "stderr",
          "text": [
            "/tmp/ipython-input-3721627334.py:13: UserWarning: pennylane not available — QML will fall back to a classical MLP surrogate. To enable QML, install pennylane: pip install pennylane\n",
            "  warnings.warn(\n"
          ]
        }
      ]
    }
  ]
}
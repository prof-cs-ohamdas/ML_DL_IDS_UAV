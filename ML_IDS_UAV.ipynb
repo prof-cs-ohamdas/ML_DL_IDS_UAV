{
  "nbformat": 4,
  "nbformat_minor": 0,
  "metadata": {
    "colab": {
      "provenance": [],
      "name": "ML_IDS_UAV.ipynb",
      "authorship_tag": "ABX9TyMIny0eu77/0oVki8NEqlK8",
      "include_colab_link": true
    },
    "kernelspec": {
      "name": "python3",
      "display_name": "Python 3"
    },
    "language_info": {
      "name": "python"
    }
  },
  "cells": [
    {
      "cell_type": "markdown",
      "metadata": {
        "id": "view-in-github",
        "colab_type": "text"
      },
      "source": [
        "<a href=\"https://colab.research.google.com/github/prof-cs-ohamdas/ML_DL_IDS_UAV/blob/main/ML_IDS_UAV.ipynb\" target=\"_parent\"><img src=\"https://colab.research.google.com/assets/colab-badge.svg\" alt=\"Open In Colab\"/></a>"
      ]
    },
    {
      "cell_type": "markdown",
      "source": [],
      "metadata": {
        "id": "cNAUZTbDxNVe"
      }
    },
    {
      "cell_type": "code",
      "execution_count": 29,
      "metadata": {
        "id": "D93iHbMPtTrC"
      },
      "outputs": [],
      "source": [
        "import pandas as pd\n",
        "import numpy as np\n",
        "from sklearn.model_selection import train_test_split\n",
        "from sklearn.preprocessing import StandardScaler, LabelEncoder\n",
        "from sklearn.metrics import accuracy_score, classification_report\n",
        "from sklearn.linear_model import LogisticRegression\n",
        "from sklearn.neighbors import KNeighborsClassifier\n",
        "from sklearn.svm import SVC\n",
        "import warnings\n",
        "import numpy as np\n",
        "import pandas as pd\n",
        "from sklearn.model_selection import train_test_split\n",
        "from sklearn.preprocessing import StandardScaler, LabelEncoder\n",
        "from sklearn.metrics import accuracy_score, classification_report, confusion_matrix\n",
        "from sklearn.linear_model import LogisticRegression\n",
        "from sklearn.neighbors import KNeighborsClassifier\n",
        "from sklearn.svm import SVC\n",
        "from sklearn.neural_network import MLPClassifier"
      ]
    },
    {
      "cell_type": "code",
      "source": [
        "# Try import pennylane (QML). If not available, we'll fall back to classical surrogate.\n",
        "try:\n",
        "    import pennylane as qml\n",
        "    from pennylane import numpy as pnp\n",
        "    from pennylane.optimize import AdamOptimizer\n",
        "    QML_AVAILABLE = True\n",
        "    print(\"[INFO] pennylane imported: QML enabled.\")\n",
        "except Exception:\n",
        "    qml = None\n",
        "    pnp = None\n",
        "    AdamOptimizer = None\n",
        "    QML_AVAILABLE = False\n",
        "    warnings.warn(\n",
        "        \"pennylane not available — QML will fall back to a classical MLP surrogate. \"\n",
        "        \"To enable QML, install pennylane: pip install pennylane\"\n",
        "    )"
      ],
      "metadata": {
        "colab": {
          "base_uri": "https://localhost:8080/"
        },
        "id": "49vhE4uDxMhd",
        "outputId": "a9a153ef-f91a-47e1-d326-bce3a0b85d74"
      },
      "execution_count": 30,
      "outputs": [
        {
          "output_type": "stream",
          "name": "stderr",
          "text": [
            "/tmp/ipython-input-3721627334.py:13: UserWarning: pennylane not available — QML will fall back to a classical MLP surrogate. To enable QML, install pennylane: pip install pennylane\n",
            "  warnings.warn(\n"
          ]
        }
      ]
    },
    {
      "cell_type": "markdown",
      "source": [
        "Data Set load from Github"
      ],
      "metadata": {
        "id": "gtyQ-3f7K3QE"
      }
    },
    {
      "cell_type": "code",
      "source": [
        "import pandas as pd\n",
        "\n",
        "url = \"https://raw.githubusercontent.com/prof-cs-ohamdas/ML_DL_IDS_UAV/main/drone_communication_dataset.csv\"\n",
        "df = pd.read_csv(url)\n",
        "\n",
        "print(f\"[INFO] Dataset loaded: {df.shape[0]} rows, {df.shape[1]} columns\")\n"
      ],
      "metadata": {
        "colab": {
          "base_uri": "https://localhost:8080/"
        },
        "id": "tn35PkjeKj2N",
        "outputId": "aec54189-0f93-4ed1-c0a2-81436617cf37"
      },
      "execution_count": 31,
      "outputs": [
        {
          "output_type": "stream",
          "name": "stdout",
          "text": [
            "[INFO] Dataset loaded: 45289 rows, 35 columns\n"
          ]
        },
        {
          "output_type": "stream",
          "name": "stderr",
          "text": [
            "/usr/local/lib/python3.12/dist-packages/jupyter_client/session.py:203: DeprecationWarning: datetime.datetime.utcnow() is deprecated and scheduled for removal in a future version. Use timezone-aware objects to represent datetimes in UTC: datetime.datetime.now(datetime.UTC).\n",
            "  return datetime.utcnow().replace(tzinfo=utc)\n"
          ]
        }
      ]
    },
    {
      "cell_type": "code",
      "source": [
        "!git clone https://github.com/prof-cs-ohamdas/ML_DL_IDS_UAV.git\n",
        "%cd ML_DL_IDS_UAV\n",
        "\n",
        "import pandas as pd\n",
        "df = pd.read_csv(\"drone_communication_dataset.csv\")\n",
        "print(f\"[INFO] Dataset loaded: {df.shape[0]} rows, {df.shape[1]} columns\")\n"
      ],
      "metadata": {
        "colab": {
          "base_uri": "https://localhost:8080/"
        },
        "id": "_SXlx0eCKzx7",
        "outputId": "9e528600-954b-457b-e430-d99808db8641"
      },
      "execution_count": 32,
      "outputs": [
        {
          "output_type": "stream",
          "name": "stdout",
          "text": [
            "fatal: destination path 'ML_DL_IDS_UAV' already exists and is not an empty directory.\n",
            "/content/ML_DL_IDS_UAV\n",
            "[INFO] Dataset loaded: 45289 rows, 35 columns\n"
          ]
        },
        {
          "output_type": "stream",
          "name": "stderr",
          "text": [
            "/usr/local/lib/python3.12/dist-packages/jupyter_client/session.py:203: DeprecationWarning: datetime.datetime.utcnow() is deprecated and scheduled for removal in a future version. Use timezone-aware objects to represent datetimes in UTC: datetime.datetime.now(datetime.UTC).\n",
            "  return datetime.utcnow().replace(tzinfo=utc)\n"
          ]
        }
      ]
    },
    {
      "cell_type": "code",
      "source": [
        "from google.colab import data_table\n",
        "data_table.enable_dataframe_formatter()\n",
        "\n",
        "df\n"
      ],
      "metadata": {
        "colab": {
          "base_uri": "https://localhost:8080/",
          "height": 671
        },
        "id": "Gsu1D-0NS1tI",
        "outputId": "5fb7bd86-9d42-473d-862c-feefbb396fda"
      },
      "execution_count": 33,
      "outputs": [
        {
          "output_type": "stream",
          "name": "stdout",
          "text": [
            "Warning: total number of rows (45289) exceeds max_rows (20000). Falling back to pandas display.\n"
          ]
        },
        {
          "output_type": "stream",
          "name": "stderr",
          "text": [
            "/usr/local/lib/python3.12/dist-packages/jupyter_client/session.py:203: DeprecationWarning: datetime.datetime.utcnow() is deprecated and scheduled for removal in a future version. Use timezone-aware objects to represent datetimes in UTC: datetime.datetime.now(datetime.UTC).\n",
            "  return datetime.utcnow().replace(tzinfo=utc)\n"
          ]
        },
        {
          "output_type": "execute_result",
          "data": {
            "text/plain": [
              "                 timestamp  signal_strength  packet_loss_rate  \\\n",
              "0      2019-11-01 00:00:00              -60                 0   \n",
              "1      2019-11-01 01:00:00              -64                 0   \n",
              "2      2019-11-01 02:00:00              -60                 0   \n",
              "3      2019-11-01 03:00:00              -60                 0   \n",
              "4      2019-11-01 04:00:00              -69                 0   \n",
              "...                    ...              ...               ...   \n",
              "45284  2024-12-30 20:00:00              -60                 0   \n",
              "45285  2024-12-30 21:00:00              -66                 0   \n",
              "45286  2024-12-30 22:00:00              -60                12   \n",
              "45287  2024-12-30 23:00:00              -60                 0   \n",
              "45288  2024-12-31 00:00:00              -60                 0   \n",
              "\n",
              "       round_trip_time communication_protocol  frequency_band encryption_type  \\\n",
              "0                   50                 ZigBee             5.0             AES   \n",
              "1                   50                   LoRa             2.4             AES   \n",
              "2                  194                 ZigBee             2.4             AES   \n",
              "3                   50                  Wi-Fi             2.4             AES   \n",
              "4                   50                  Wi-Fi             2.4      Plain-text   \n",
              "...                ...                    ...             ...             ...   \n",
              "45284               50                   LoRa           915.0      Plain-text   \n",
              "45285               50                 ZigBee             2.4             RSA   \n",
              "45286               50                 ZigBee             2.4             RSA   \n",
              "45287               50                  Wi-Fi             2.4      Plain-text   \n",
              "45288               50                 ZigBee             2.4             AES   \n",
              "\n",
              "                           drone_gps_coordinates  altitude  speed_trajectory  \\\n",
              "0        (-11.69864152850468, 86.89778588010734)       291                60   \n",
              "1       (66.98918792506822, -140.91891468822496)       100                48   \n",
              "2        (-31.711586784829194, 36.5632095665857)       226                30   \n",
              "3         (3.5943733073538198, 74.7992608739666)       100                30   \n",
              "4        (41.4738797417983, -100.00817301602393)       100                30   \n",
              "...                                          ...       ...               ...   \n",
              "45284  (62.250807704044774, -151.05594484833514)       100                30   \n",
              "45285  (-44.694536026285874, 164.52171076223817)       100                30   \n",
              "45286  (-89.91726166541113, -120.42483221247912)       100                30   \n",
              "45287    (-55.27640423530802, 61.96296050101765)       100                30   \n",
              "45288   (-20.40399630934833, 27.695846703234537)       100                30   \n",
              "\n",
              "       ...  intrusion_detection_flags  temporal_patterns  label_normal  \\\n",
              "0      ...                          0                  0             0   \n",
              "1      ...                          0                  0             0   \n",
              "2      ...                          0                  0             0   \n",
              "3      ...                          0                  0             1   \n",
              "4      ...                          0                  0             0   \n",
              "...    ...                        ...                ...           ...   \n",
              "45284  ...                          0                  0             0   \n",
              "45285  ...                          0                  0             0   \n",
              "45286  ...                          0                  1             0   \n",
              "45287  ...                          0                  1             0   \n",
              "45288  ...                          0                  0             0   \n",
              "\n",
              "       label_spoofing  label_mitm  label_ddos  label_gps_spoofing  \\\n",
              "0                   0           0           0                   0   \n",
              "1                   0           0           0                   0   \n",
              "2                   0           0           0                   0   \n",
              "3                   0           0           0                   0   \n",
              "4                   0           0           0                   0   \n",
              "...               ...         ...         ...                 ...   \n",
              "45284               0           0           0                   0   \n",
              "45285               0           0           0                   0   \n",
              "45286               0           0           1                   1   \n",
              "45287               0           0           0                   0   \n",
              "45288               0           0           0                   0   \n",
              "\n",
              "       label_malware  label_jamming  label_protocol_exploit  \n",
              "0                  0              0                       0  \n",
              "1                  0              0                       0  \n",
              "2                  0              0                       0  \n",
              "3                  0              1                       0  \n",
              "4                  0              0                       0  \n",
              "...              ...            ...                     ...  \n",
              "45284              0              0                       0  \n",
              "45285              0              0                       0  \n",
              "45286              0              1                       0  \n",
              "45287              0              0                       0  \n",
              "45288              0              0                       0  \n",
              "\n",
              "[45289 rows x 35 columns]"
            ],
            "text/html": [
              "\n",
              "  <div id=\"df-236e8bb5-dec9-4150-8eba-0fc43c13e3f9\" class=\"colab-df-container\">\n",
              "    <div>\n",
              "<style scoped>\n",
              "    .dataframe tbody tr th:only-of-type {\n",
              "        vertical-align: middle;\n",
              "    }\n",
              "\n",
              "    .dataframe tbody tr th {\n",
              "        vertical-align: top;\n",
              "    }\n",
              "\n",
              "    .dataframe thead th {\n",
              "        text-align: right;\n",
              "    }\n",
              "</style>\n",
              "<table border=\"1\" class=\"dataframe\">\n",
              "  <thead>\n",
              "    <tr style=\"text-align: right;\">\n",
              "      <th></th>\n",
              "      <th>timestamp</th>\n",
              "      <th>signal_strength</th>\n",
              "      <th>packet_loss_rate</th>\n",
              "      <th>round_trip_time</th>\n",
              "      <th>communication_protocol</th>\n",
              "      <th>frequency_band</th>\n",
              "      <th>encryption_type</th>\n",
              "      <th>drone_gps_coordinates</th>\n",
              "      <th>altitude</th>\n",
              "      <th>speed_trajectory</th>\n",
              "      <th>...</th>\n",
              "      <th>intrusion_detection_flags</th>\n",
              "      <th>temporal_patterns</th>\n",
              "      <th>label_normal</th>\n",
              "      <th>label_spoofing</th>\n",
              "      <th>label_mitm</th>\n",
              "      <th>label_ddos</th>\n",
              "      <th>label_gps_spoofing</th>\n",
              "      <th>label_malware</th>\n",
              "      <th>label_jamming</th>\n",
              "      <th>label_protocol_exploit</th>\n",
              "    </tr>\n",
              "  </thead>\n",
              "  <tbody>\n",
              "    <tr>\n",
              "      <th>0</th>\n",
              "      <td>2019-11-01 00:00:00</td>\n",
              "      <td>-60</td>\n",
              "      <td>0</td>\n",
              "      <td>50</td>\n",
              "      <td>ZigBee</td>\n",
              "      <td>5.0</td>\n",
              "      <td>AES</td>\n",
              "      <td>(-11.69864152850468, 86.89778588010734)</td>\n",
              "      <td>291</td>\n",
              "      <td>60</td>\n",
              "      <td>...</td>\n",
              "      <td>0</td>\n",
              "      <td>0</td>\n",
              "      <td>0</td>\n",
              "      <td>0</td>\n",
              "      <td>0</td>\n",
              "      <td>0</td>\n",
              "      <td>0</td>\n",
              "      <td>0</td>\n",
              "      <td>0</td>\n",
              "      <td>0</td>\n",
              "    </tr>\n",
              "    <tr>\n",
              "      <th>1</th>\n",
              "      <td>2019-11-01 01:00:00</td>\n",
              "      <td>-64</td>\n",
              "      <td>0</td>\n",
              "      <td>50</td>\n",
              "      <td>LoRa</td>\n",
              "      <td>2.4</td>\n",
              "      <td>AES</td>\n",
              "      <td>(66.98918792506822, -140.91891468822496)</td>\n",
              "      <td>100</td>\n",
              "      <td>48</td>\n",
              "      <td>...</td>\n",
              "      <td>0</td>\n",
              "      <td>0</td>\n",
              "      <td>0</td>\n",
              "      <td>0</td>\n",
              "      <td>0</td>\n",
              "      <td>0</td>\n",
              "      <td>0</td>\n",
              "      <td>0</td>\n",
              "      <td>0</td>\n",
              "      <td>0</td>\n",
              "    </tr>\n",
              "    <tr>\n",
              "      <th>2</th>\n",
              "      <td>2019-11-01 02:00:00</td>\n",
              "      <td>-60</td>\n",
              "      <td>0</td>\n",
              "      <td>194</td>\n",
              "      <td>ZigBee</td>\n",
              "      <td>2.4</td>\n",
              "      <td>AES</td>\n",
              "      <td>(-31.711586784829194, 36.5632095665857)</td>\n",
              "      <td>226</td>\n",
              "      <td>30</td>\n",
              "      <td>...</td>\n",
              "      <td>0</td>\n",
              "      <td>0</td>\n",
              "      <td>0</td>\n",
              "      <td>0</td>\n",
              "      <td>0</td>\n",
              "      <td>0</td>\n",
              "      <td>0</td>\n",
              "      <td>0</td>\n",
              "      <td>0</td>\n",
              "      <td>0</td>\n",
              "    </tr>\n",
              "    <tr>\n",
              "      <th>3</th>\n",
              "      <td>2019-11-01 03:00:00</td>\n",
              "      <td>-60</td>\n",
              "      <td>0</td>\n",
              "      <td>50</td>\n",
              "      <td>Wi-Fi</td>\n",
              "      <td>2.4</td>\n",
              "      <td>AES</td>\n",
              "      <td>(3.5943733073538198, 74.7992608739666)</td>\n",
              "      <td>100</td>\n",
              "      <td>30</td>\n",
              "      <td>...</td>\n",
              "      <td>0</td>\n",
              "      <td>0</td>\n",
              "      <td>1</td>\n",
              "      <td>0</td>\n",
              "      <td>0</td>\n",
              "      <td>0</td>\n",
              "      <td>0</td>\n",
              "      <td>0</td>\n",
              "      <td>1</td>\n",
              "      <td>0</td>\n",
              "    </tr>\n",
              "    <tr>\n",
              "      <th>4</th>\n",
              "      <td>2019-11-01 04:00:00</td>\n",
              "      <td>-69</td>\n",
              "      <td>0</td>\n",
              "      <td>50</td>\n",
              "      <td>Wi-Fi</td>\n",
              "      <td>2.4</td>\n",
              "      <td>Plain-text</td>\n",
              "      <td>(41.4738797417983, -100.00817301602393)</td>\n",
              "      <td>100</td>\n",
              "      <td>30</td>\n",
              "      <td>...</td>\n",
              "      <td>0</td>\n",
              "      <td>0</td>\n",
              "      <td>0</td>\n",
              "      <td>0</td>\n",
              "      <td>0</td>\n",
              "      <td>0</td>\n",
              "      <td>0</td>\n",
              "      <td>0</td>\n",
              "      <td>0</td>\n",
              "      <td>0</td>\n",
              "    </tr>\n",
              "    <tr>\n",
              "      <th>...</th>\n",
              "      <td>...</td>\n",
              "      <td>...</td>\n",
              "      <td>...</td>\n",
              "      <td>...</td>\n",
              "      <td>...</td>\n",
              "      <td>...</td>\n",
              "      <td>...</td>\n",
              "      <td>...</td>\n",
              "      <td>...</td>\n",
              "      <td>...</td>\n",
              "      <td>...</td>\n",
              "      <td>...</td>\n",
              "      <td>...</td>\n",
              "      <td>...</td>\n",
              "      <td>...</td>\n",
              "      <td>...</td>\n",
              "      <td>...</td>\n",
              "      <td>...</td>\n",
              "      <td>...</td>\n",
              "      <td>...</td>\n",
              "      <td>...</td>\n",
              "    </tr>\n",
              "    <tr>\n",
              "      <th>45284</th>\n",
              "      <td>2024-12-30 20:00:00</td>\n",
              "      <td>-60</td>\n",
              "      <td>0</td>\n",
              "      <td>50</td>\n",
              "      <td>LoRa</td>\n",
              "      <td>915.0</td>\n",
              "      <td>Plain-text</td>\n",
              "      <td>(62.250807704044774, -151.05594484833514)</td>\n",
              "      <td>100</td>\n",
              "      <td>30</td>\n",
              "      <td>...</td>\n",
              "      <td>0</td>\n",
              "      <td>0</td>\n",
              "      <td>0</td>\n",
              "      <td>0</td>\n",
              "      <td>0</td>\n",
              "      <td>0</td>\n",
              "      <td>0</td>\n",
              "      <td>0</td>\n",
              "      <td>0</td>\n",
              "      <td>0</td>\n",
              "    </tr>\n",
              "    <tr>\n",
              "      <th>45285</th>\n",
              "      <td>2024-12-30 21:00:00</td>\n",
              "      <td>-66</td>\n",
              "      <td>0</td>\n",
              "      <td>50</td>\n",
              "      <td>ZigBee</td>\n",
              "      <td>2.4</td>\n",
              "      <td>RSA</td>\n",
              "      <td>(-44.694536026285874, 164.52171076223817)</td>\n",
              "      <td>100</td>\n",
              "      <td>30</td>\n",
              "      <td>...</td>\n",
              "      <td>0</td>\n",
              "      <td>0</td>\n",
              "      <td>0</td>\n",
              "      <td>0</td>\n",
              "      <td>0</td>\n",
              "      <td>0</td>\n",
              "      <td>0</td>\n",
              "      <td>0</td>\n",
              "      <td>0</td>\n",
              "      <td>0</td>\n",
              "    </tr>\n",
              "    <tr>\n",
              "      <th>45286</th>\n",
              "      <td>2024-12-30 22:00:00</td>\n",
              "      <td>-60</td>\n",
              "      <td>12</td>\n",
              "      <td>50</td>\n",
              "      <td>ZigBee</td>\n",
              "      <td>2.4</td>\n",
              "      <td>RSA</td>\n",
              "      <td>(-89.91726166541113, -120.42483221247912)</td>\n",
              "      <td>100</td>\n",
              "      <td>30</td>\n",
              "      <td>...</td>\n",
              "      <td>0</td>\n",
              "      <td>1</td>\n",
              "      <td>0</td>\n",
              "      <td>0</td>\n",
              "      <td>0</td>\n",
              "      <td>1</td>\n",
              "      <td>1</td>\n",
              "      <td>0</td>\n",
              "      <td>1</td>\n",
              "      <td>0</td>\n",
              "    </tr>\n",
              "    <tr>\n",
              "      <th>45287</th>\n",
              "      <td>2024-12-30 23:00:00</td>\n",
              "      <td>-60</td>\n",
              "      <td>0</td>\n",
              "      <td>50</td>\n",
              "      <td>Wi-Fi</td>\n",
              "      <td>2.4</td>\n",
              "      <td>Plain-text</td>\n",
              "      <td>(-55.27640423530802, 61.96296050101765)</td>\n",
              "      <td>100</td>\n",
              "      <td>30</td>\n",
              "      <td>...</td>\n",
              "      <td>0</td>\n",
              "      <td>1</td>\n",
              "      <td>0</td>\n",
              "      <td>0</td>\n",
              "      <td>0</td>\n",
              "      <td>0</td>\n",
              "      <td>0</td>\n",
              "      <td>0</td>\n",
              "      <td>0</td>\n",
              "      <td>0</td>\n",
              "    </tr>\n",
              "    <tr>\n",
              "      <th>45288</th>\n",
              "      <td>2024-12-31 00:00:00</td>\n",
              "      <td>-60</td>\n",
              "      <td>0</td>\n",
              "      <td>50</td>\n",
              "      <td>ZigBee</td>\n",
              "      <td>2.4</td>\n",
              "      <td>AES</td>\n",
              "      <td>(-20.40399630934833, 27.695846703234537)</td>\n",
              "      <td>100</td>\n",
              "      <td>30</td>\n",
              "      <td>...</td>\n",
              "      <td>0</td>\n",
              "      <td>0</td>\n",
              "      <td>0</td>\n",
              "      <td>0</td>\n",
              "      <td>0</td>\n",
              "      <td>0</td>\n",
              "      <td>0</td>\n",
              "      <td>0</td>\n",
              "      <td>0</td>\n",
              "      <td>0</td>\n",
              "    </tr>\n",
              "  </tbody>\n",
              "</table>\n",
              "<p>45289 rows × 35 columns</p>\n",
              "</div>\n",
              "    <div class=\"colab-df-buttons\">\n",
              "\n",
              "  <div class=\"colab-df-container\">\n",
              "    <button class=\"colab-df-convert\" onclick=\"convertToInteractive('df-236e8bb5-dec9-4150-8eba-0fc43c13e3f9')\"\n",
              "            title=\"Convert this dataframe to an interactive table.\"\n",
              "            style=\"display:none;\">\n",
              "\n",
              "  <svg xmlns=\"http://www.w3.org/2000/svg\" height=\"24px\" viewBox=\"0 -960 960 960\">\n",
              "    <path d=\"M120-120v-720h720v720H120Zm60-500h600v-160H180v160Zm220 220h160v-160H400v160Zm0 220h160v-160H400v160ZM180-400h160v-160H180v160Zm440 0h160v-160H620v160ZM180-180h160v-160H180v160Zm440 0h160v-160H620v160Z\"/>\n",
              "  </svg>\n",
              "    </button>\n",
              "\n",
              "  <style>\n",
              "    .colab-df-container {\n",
              "      display:flex;\n",
              "      gap: 12px;\n",
              "    }\n",
              "\n",
              "    .colab-df-convert {\n",
              "      background-color: #E8F0FE;\n",
              "      border: none;\n",
              "      border-radius: 50%;\n",
              "      cursor: pointer;\n",
              "      display: none;\n",
              "      fill: #1967D2;\n",
              "      height: 32px;\n",
              "      padding: 0 0 0 0;\n",
              "      width: 32px;\n",
              "    }\n",
              "\n",
              "    .colab-df-convert:hover {\n",
              "      background-color: #E2EBFA;\n",
              "      box-shadow: 0px 1px 2px rgba(60, 64, 67, 0.3), 0px 1px 3px 1px rgba(60, 64, 67, 0.15);\n",
              "      fill: #174EA6;\n",
              "    }\n",
              "\n",
              "    .colab-df-buttons div {\n",
              "      margin-bottom: 4px;\n",
              "    }\n",
              "\n",
              "    [theme=dark] .colab-df-convert {\n",
              "      background-color: #3B4455;\n",
              "      fill: #D2E3FC;\n",
              "    }\n",
              "\n",
              "    [theme=dark] .colab-df-convert:hover {\n",
              "      background-color: #434B5C;\n",
              "      box-shadow: 0px 1px 3px 1px rgba(0, 0, 0, 0.15);\n",
              "      filter: drop-shadow(0px 1px 2px rgba(0, 0, 0, 0.3));\n",
              "      fill: #FFFFFF;\n",
              "    }\n",
              "  </style>\n",
              "\n",
              "    <script>\n",
              "      const buttonEl =\n",
              "        document.querySelector('#df-236e8bb5-dec9-4150-8eba-0fc43c13e3f9 button.colab-df-convert');\n",
              "      buttonEl.style.display =\n",
              "        google.colab.kernel.accessAllowed ? 'block' : 'none';\n",
              "\n",
              "      async function convertToInteractive(key) {\n",
              "        const element = document.querySelector('#df-236e8bb5-dec9-4150-8eba-0fc43c13e3f9');\n",
              "        const dataTable =\n",
              "          await google.colab.kernel.invokeFunction('convertToInteractive',\n",
              "                                                    [key], {});\n",
              "        if (!dataTable) return;\n",
              "\n",
              "        const docLinkHtml = 'Like what you see? Visit the ' +\n",
              "          '<a target=\"_blank\" href=https://colab.research.google.com/notebooks/data_table.ipynb>data table notebook</a>'\n",
              "          + ' to learn more about interactive tables.';\n",
              "        element.innerHTML = '';\n",
              "        dataTable['output_type'] = 'display_data';\n",
              "        await google.colab.output.renderOutput(dataTable, element);\n",
              "        const docLink = document.createElement('div');\n",
              "        docLink.innerHTML = docLinkHtml;\n",
              "        element.appendChild(docLink);\n",
              "      }\n",
              "    </script>\n",
              "  </div>\n",
              "\n",
              "\n",
              "    <div id=\"df-e5591c59-0e97-412f-98f3-1c762e0512f5\">\n",
              "      <button class=\"colab-df-quickchart\" onclick=\"quickchart('df-e5591c59-0e97-412f-98f3-1c762e0512f5')\"\n",
              "                title=\"Suggest charts\"\n",
              "                style=\"display:none;\">\n",
              "\n",
              "<svg xmlns=\"http://www.w3.org/2000/svg\" height=\"24px\"viewBox=\"0 0 24 24\"\n",
              "     width=\"24px\">\n",
              "    <g>\n",
              "        <path d=\"M19 3H5c-1.1 0-2 .9-2 2v14c0 1.1.9 2 2 2h14c1.1 0 2-.9 2-2V5c0-1.1-.9-2-2-2zM9 17H7v-7h2v7zm4 0h-2V7h2v10zm4 0h-2v-4h2v4z\"/>\n",
              "    </g>\n",
              "</svg>\n",
              "      </button>\n",
              "\n",
              "<style>\n",
              "  .colab-df-quickchart {\n",
              "      --bg-color: #E8F0FE;\n",
              "      --fill-color: #1967D2;\n",
              "      --hover-bg-color: #E2EBFA;\n",
              "      --hover-fill-color: #174EA6;\n",
              "      --disabled-fill-color: #AAA;\n",
              "      --disabled-bg-color: #DDD;\n",
              "  }\n",
              "\n",
              "  [theme=dark] .colab-df-quickchart {\n",
              "      --bg-color: #3B4455;\n",
              "      --fill-color: #D2E3FC;\n",
              "      --hover-bg-color: #434B5C;\n",
              "      --hover-fill-color: #FFFFFF;\n",
              "      --disabled-bg-color: #3B4455;\n",
              "      --disabled-fill-color: #666;\n",
              "  }\n",
              "\n",
              "  .colab-df-quickchart {\n",
              "    background-color: var(--bg-color);\n",
              "    border: none;\n",
              "    border-radius: 50%;\n",
              "    cursor: pointer;\n",
              "    display: none;\n",
              "    fill: var(--fill-color);\n",
              "    height: 32px;\n",
              "    padding: 0;\n",
              "    width: 32px;\n",
              "  }\n",
              "\n",
              "  .colab-df-quickchart:hover {\n",
              "    background-color: var(--hover-bg-color);\n",
              "    box-shadow: 0 1px 2px rgba(60, 64, 67, 0.3), 0 1px 3px 1px rgba(60, 64, 67, 0.15);\n",
              "    fill: var(--button-hover-fill-color);\n",
              "  }\n",
              "\n",
              "  .colab-df-quickchart-complete:disabled,\n",
              "  .colab-df-quickchart-complete:disabled:hover {\n",
              "    background-color: var(--disabled-bg-color);\n",
              "    fill: var(--disabled-fill-color);\n",
              "    box-shadow: none;\n",
              "  }\n",
              "\n",
              "  .colab-df-spinner {\n",
              "    border: 2px solid var(--fill-color);\n",
              "    border-color: transparent;\n",
              "    border-bottom-color: var(--fill-color);\n",
              "    animation:\n",
              "      spin 1s steps(1) infinite;\n",
              "  }\n",
              "\n",
              "  @keyframes spin {\n",
              "    0% {\n",
              "      border-color: transparent;\n",
              "      border-bottom-color: var(--fill-color);\n",
              "      border-left-color: var(--fill-color);\n",
              "    }\n",
              "    20% {\n",
              "      border-color: transparent;\n",
              "      border-left-color: var(--fill-color);\n",
              "      border-top-color: var(--fill-color);\n",
              "    }\n",
              "    30% {\n",
              "      border-color: transparent;\n",
              "      border-left-color: var(--fill-color);\n",
              "      border-top-color: var(--fill-color);\n",
              "      border-right-color: var(--fill-color);\n",
              "    }\n",
              "    40% {\n",
              "      border-color: transparent;\n",
              "      border-right-color: var(--fill-color);\n",
              "      border-top-color: var(--fill-color);\n",
              "    }\n",
              "    60% {\n",
              "      border-color: transparent;\n",
              "      border-right-color: var(--fill-color);\n",
              "    }\n",
              "    80% {\n",
              "      border-color: transparent;\n",
              "      border-right-color: var(--fill-color);\n",
              "      border-bottom-color: var(--fill-color);\n",
              "    }\n",
              "    90% {\n",
              "      border-color: transparent;\n",
              "      border-bottom-color: var(--fill-color);\n",
              "    }\n",
              "  }\n",
              "</style>\n",
              "\n",
              "      <script>\n",
              "        async function quickchart(key) {\n",
              "          const quickchartButtonEl =\n",
              "            document.querySelector('#' + key + ' button');\n",
              "          quickchartButtonEl.disabled = true;  // To prevent multiple clicks.\n",
              "          quickchartButtonEl.classList.add('colab-df-spinner');\n",
              "          try {\n",
              "            const charts = await google.colab.kernel.invokeFunction(\n",
              "                'suggestCharts', [key], {});\n",
              "          } catch (error) {\n",
              "            console.error('Error during call to suggestCharts:', error);\n",
              "          }\n",
              "          quickchartButtonEl.classList.remove('colab-df-spinner');\n",
              "          quickchartButtonEl.classList.add('colab-df-quickchart-complete');\n",
              "        }\n",
              "        (() => {\n",
              "          let quickchartButtonEl =\n",
              "            document.querySelector('#df-e5591c59-0e97-412f-98f3-1c762e0512f5 button');\n",
              "          quickchartButtonEl.style.display =\n",
              "            google.colab.kernel.accessAllowed ? 'block' : 'none';\n",
              "        })();\n",
              "      </script>\n",
              "    </div>\n",
              "\n",
              "  <div id=\"id_493b56b1-380a-4168-a660-7b919497300b\">\n",
              "    <style>\n",
              "      .colab-df-generate {\n",
              "        background-color: #E8F0FE;\n",
              "        border: none;\n",
              "        border-radius: 50%;\n",
              "        cursor: pointer;\n",
              "        display: none;\n",
              "        fill: #1967D2;\n",
              "        height: 32px;\n",
              "        padding: 0 0 0 0;\n",
              "        width: 32px;\n",
              "      }\n",
              "\n",
              "      .colab-df-generate:hover {\n",
              "        background-color: #E2EBFA;\n",
              "        box-shadow: 0px 1px 2px rgba(60, 64, 67, 0.3), 0px 1px 3px 1px rgba(60, 64, 67, 0.15);\n",
              "        fill: #174EA6;\n",
              "      }\n",
              "\n",
              "      [theme=dark] .colab-df-generate {\n",
              "        background-color: #3B4455;\n",
              "        fill: #D2E3FC;\n",
              "      }\n",
              "\n",
              "      [theme=dark] .colab-df-generate:hover {\n",
              "        background-color: #434B5C;\n",
              "        box-shadow: 0px 1px 3px 1px rgba(0, 0, 0, 0.15);\n",
              "        filter: drop-shadow(0px 1px 2px rgba(0, 0, 0, 0.3));\n",
              "        fill: #FFFFFF;\n",
              "      }\n",
              "    </style>\n",
              "    <button class=\"colab-df-generate\" onclick=\"generateWithVariable('df')\"\n",
              "            title=\"Generate code using this dataframe.\"\n",
              "            style=\"display:none;\">\n",
              "\n",
              "  <svg xmlns=\"http://www.w3.org/2000/svg\" height=\"24px\"viewBox=\"0 0 24 24\"\n",
              "       width=\"24px\">\n",
              "    <path d=\"M7,19H8.4L18.45,9,17,7.55,7,17.6ZM5,21V16.75L18.45,3.32a2,2,0,0,1,2.83,0l1.4,1.43a1.91,1.91,0,0,1,.58,1.4,1.91,1.91,0,0,1-.58,1.4L9.25,21ZM18.45,9,17,7.55Zm-12,3A5.31,5.31,0,0,0,4.9,8.1,5.31,5.31,0,0,0,1,6.5,5.31,5.31,0,0,0,4.9,4.9,5.31,5.31,0,0,0,6.5,1,5.31,5.31,0,0,0,8.1,4.9,5.31,5.31,0,0,0,12,6.5,5.46,5.46,0,0,0,6.5,12Z\"/>\n",
              "  </svg>\n",
              "    </button>\n",
              "    <script>\n",
              "      (() => {\n",
              "      const buttonEl =\n",
              "        document.querySelector('#id_493b56b1-380a-4168-a660-7b919497300b button.colab-df-generate');\n",
              "      buttonEl.style.display =\n",
              "        google.colab.kernel.accessAllowed ? 'block' : 'none';\n",
              "\n",
              "      buttonEl.onclick = () => {\n",
              "        google.colab.notebook.generateWithVariable('df');\n",
              "      }\n",
              "      })();\n",
              "    </script>\n",
              "  </div>\n",
              "\n",
              "    </div>\n",
              "  </div>\n"
            ],
            "application/vnd.google.colaboratory.intrinsic+json": {
              "type": "dataframe",
              "variable_name": "df"
            }
          },
          "metadata": {},
          "execution_count": 33
        }
      ]
    },
    {
      "cell_type": "code",
      "source": [
        "# -------------------------\n",
        "# 2. Inspect label columns\n",
        "# -------------------------\n",
        "label_cols = [c for c in df.columns if c.startswith(\"label_\")]\n",
        "if not label_cols:\n",
        "    raise ValueError(\"No label_* columns found in dataset. Need label columns for supervised training.\")\n",
        "print(f\"[INFO] label columns detected: {label_cols}\")\n"
      ],
      "metadata": {
        "colab": {
          "base_uri": "https://localhost:8080/"
        },
        "id": "ja1DkrxhTL-v",
        "outputId": "ef642635-82e3-4336-ec7a-1cdc4d32eef6"
      },
      "execution_count": 34,
      "outputs": [
        {
          "output_type": "stream",
          "name": "stdout",
          "text": [
            "[INFO] label columns detected: ['label_normal', 'label_spoofing', 'label_mitm', 'label_ddos', 'label_gps_spoofing', 'label_malware', 'label_jamming', 'label_protocol_exploit']\n"
          ]
        }
      ]
    },
    {
      "cell_type": "code",
      "source": [
        "# -------------------------\n",
        "# 3. Create multi-class target (attack_type)\n",
        "# -------------------------\n",
        "# Each row is assumed to have a one-hot label across label_* columns; idxmax gives the label name.\n",
        "df[\"attack_type_raw\"] = df[label_cols].idxmax(axis=1)  # e.g. 'label_ddos'\n",
        "df[\"attack_type\"] = df[\"attack_type_raw\"].str.replace(\"label_\", \"\", regex=False)\n"
      ],
      "metadata": {
        "colab": {
          "base_uri": "https://localhost:8080/"
        },
        "id": "fpTSxv96TnkQ",
        "outputId": "3fc83c11-0ff6-437d-b375-0faa3e1c1e30"
      },
      "execution_count": 35,
      "outputs": [
        {
          "output_type": "stream",
          "name": "stderr",
          "text": [
            "/usr/local/lib/python3.12/dist-packages/jupyter_client/session.py:203: DeprecationWarning: datetime.datetime.utcnow() is deprecated and scheduled for removal in a future version. Use timezone-aware objects to represent datetimes in UTC: datetime.datetime.now(datetime.UTC).\n",
            "  return datetime.utcnow().replace(tzinfo=utc)\n"
          ]
        }
      ]
    },
    {
      "cell_type": "code",
      "source": [
        "# -------------------------\n",
        "# 4. Create binary target for QML: normal vs attack\n",
        "#    Strategy: try to find explicit 'normal' label; otherwise assume the most frequent label is 'normal'\n",
        "# -------------------------\n",
        "normal_label_col = next((c for c in label_cols if \"normal\" in c.lower()), None)\n",
        "if normal_label_col:\n",
        "    print(f\"[INFO] Found explicit normal label column: {normal_label_col}\")\n",
        "    df[\"is_attack\"] = (df[normal_label_col] == 0).astype(int)  # 1 -> attack, 0 -> normal\n",
        "else:\n",
        "    # No explicit 'label_normal' column. We'll assume the most frequent label is 'normal'.\n",
        "    most_freq_label = df[\"attack_type\"].mode().iloc[0]\n",
        "    print(f\"[WARN] No explicit 'label_normal' column. Treating most frequent label '{most_freq_label}' as NORMAL.\")\n",
        "    df[\"is_attack\"] = (df[\"attack_type\"] != most_freq_label).astype(int)\n"
      ],
      "metadata": {
        "colab": {
          "base_uri": "https://localhost:8080/"
        },
        "id": "uF6O8fVMTqRZ",
        "outputId": "dadd19fd-2392-457f-a320-bd6ae26906f2"
      },
      "execution_count": 36,
      "outputs": [
        {
          "output_type": "stream",
          "name": "stdout",
          "text": [
            "[INFO] Found explicit normal label column: label_normal\n"
          ]
        },
        {
          "output_type": "stream",
          "name": "stderr",
          "text": [
            "/usr/local/lib/python3.12/dist-packages/jupyter_client/session.py:203: DeprecationWarning: datetime.datetime.utcnow() is deprecated and scheduled for removal in a future version. Use timezone-aware objects to represent datetimes in UTC: datetime.datetime.now(datetime.UTC).\n",
            "  return datetime.utcnow().replace(tzinfo=utc)\n"
          ]
        }
      ]
    },
    {
      "cell_type": "code",
      "source": [
        "# -------------------------\n",
        "# 5. Drop non-useful columns\n",
        "# -------------------------\n",
        "cols_to_drop = []\n",
        "for c in [\"timestamp\", \"drone_gps_coordinates\", \"attack_type_raw\"]:\n",
        "    if c in df.columns:\n",
        "        cols_to_drop.append(c)\n",
        "\n",
        "# We'll keep numeric/categorical features; drop label_* originals after deriving targets\n",
        "cols_to_drop += label_cols\n",
        "df = df.drop(columns=cols_to_drop)\n",
        "print(f\"[INFO] Dropped columns: {cols_to_drop}\")\n"
      ],
      "metadata": {
        "colab": {
          "base_uri": "https://localhost:8080/"
        },
        "id": "f4iy-21dTxuc",
        "outputId": "0b5110f6-1823-4f95-900f-7523ff28a7ac"
      },
      "execution_count": 37,
      "outputs": [
        {
          "output_type": "stream",
          "name": "stdout",
          "text": [
            "[INFO] Dropped columns: ['timestamp', 'drone_gps_coordinates', 'attack_type_raw', 'label_normal', 'label_spoofing', 'label_mitm', 'label_ddos', 'label_gps_spoofing', 'label_malware', 'label_jamming', 'label_protocol_exploit']\n"
          ]
        },
        {
          "output_type": "stream",
          "name": "stderr",
          "text": [
            "/usr/local/lib/python3.12/dist-packages/jupyter_client/session.py:203: DeprecationWarning: datetime.datetime.utcnow() is deprecated and scheduled for removal in a future version. Use timezone-aware objects to represent datetimes in UTC: datetime.datetime.now(datetime.UTC).\n",
            "  return datetime.utcnow().replace(tzinfo=utc)\n"
          ]
        }
      ]
    },
    {
      "cell_type": "code",
      "source": [
        "# -------------------------\n",
        "# 6. Prepare features and encode categorical columns\n",
        "# -------------------------\n",
        "# Identify object (text) columns except 'attack_type' (we'll encode it separately)\n",
        "categorical_cols = df.select_dtypes(include=[\"object\"]).columns.tolist()\n",
        "if \"attack_type\" in categorical_cols:\n",
        "    categorical_cols.remove(\"attack_type\")\n",
        "\n",
        "print(f\"[INFO] Categorical columns to encode: {categorical_cols}\")\n",
        "\n",
        "# One-hot encode categorical cols (safe for models)\n",
        "df_enc = pd.get_dummies(df, columns=categorical_cols, drop_first=True)\n",
        "\n",
        "# Final feature matrix X and labels y_multi (multi-class) and y_bin (binary)\n",
        "X = df_enc.drop(columns=[\"attack_type\", \"is_attack\"])\n",
        "y_multi = df_enc[\"attack_type\"]\n",
        "y_bin = df_enc[\"is_attack\"]\n",
        "\n",
        "# Encode multi-class labels to integers\n",
        "le = LabelEncoder()\n",
        "y_multi_enc = le.fit_transform(y_multi)\n",
        "print(f\"[INFO] Multi-class labels found: {list(le.classes_)}\")"
      ],
      "metadata": {
        "colab": {
          "base_uri": "https://localhost:8080/"
        },
        "id": "vsyMhJ1GT5lX",
        "outputId": "e5a3ec2b-dcfe-4204-cb33-0d99c7492bce"
      },
      "execution_count": 38,
      "outputs": [
        {
          "output_type": "stream",
          "name": "stdout",
          "text": [
            "[INFO] Categorical columns to encode: ['communication_protocol', 'encryption_type']\n",
            "[INFO] Multi-class labels found: ['ddos', 'gps_spoofing', 'jamming', 'malware', 'mitm', 'normal', 'protocol_exploit', 'spoofing']\n"
          ]
        },
        {
          "output_type": "stream",
          "name": "stderr",
          "text": [
            "/usr/local/lib/python3.12/dist-packages/jupyter_client/session.py:203: DeprecationWarning: datetime.datetime.utcnow() is deprecated and scheduled for removal in a future version. Use timezone-aware objects to represent datetimes in UTC: datetime.datetime.now(datetime.UTC).\n",
            "  return datetime.utcnow().replace(tzinfo=utc)\n"
          ]
        }
      ]
    },
    {
      "cell_type": "code",
      "source": [
        "# -------------------------\n",
        "# 7. Train/test split\n",
        "# -------------------------\n",
        "# Classical (multi-class) models\n",
        "X_train_m, X_test_m, y_train_m, y_test_m = train_test_split(\n",
        "    X, y_multi_enc, test_size=0.20, random_state=42, stratify=y_multi_enc\n",
        ")\n",
        "\n",
        "# QML (binary) - use the same feature set but we'll restrict to smaller feature subset for QNN\n",
        "X_train_b, X_test_b, y_train_b, y_test_b = train_test_split(\n",
        "    X, y_bin, test_size=0.20, random_state=42, stratify=y_bin\n",
        ")\n",
        "\n",
        "# Standardize (important for SVM and many models)\n",
        "scaler = StandardScaler()\n",
        "X_train_m_scaled = scaler.fit_transform(X_train_m)\n",
        "X_test_m_scaled = scaler.transform(X_test_m)\n",
        "\n",
        "X_train_b_scaled = scaler.transform(X_train_b)  # use same scaler (fit on multi-class training)\n",
        "X_test_b_scaled = scaler.transform(X_test_b)\n",
        "\n",
        "print(f\"[INFO] Feature dimension: {X_train_m_scaled.shape[1]}\")\n"
      ],
      "metadata": {
        "colab": {
          "base_uri": "https://localhost:8080/"
        },
        "id": "UxiLY3w3T98F",
        "outputId": "f0ebf8ac-d68a-45e2-f2e4-dc6df45118bf"
      },
      "execution_count": 39,
      "outputs": [
        {
          "output_type": "stream",
          "name": "stdout",
          "text": [
            "[INFO] Feature dimension: 27\n"
          ]
        },
        {
          "output_type": "stream",
          "name": "stderr",
          "text": [
            "/usr/local/lib/python3.12/dist-packages/jupyter_client/session.py:203: DeprecationWarning: datetime.datetime.utcnow() is deprecated and scheduled for removal in a future version. Use timezone-aware objects to represent datetimes in UTC: datetime.datetime.now(datetime.UTC).\n",
            "  return datetime.utcnow().replace(tzinfo=utc)\n"
          ]
        }
      ]
    },
    {
      "cell_type": "code",
      "source": [
        "# -------------------------\n",
        "# 8. Train classical multi-class models\n",
        "# -------------------------\n",
        "models = {\n",
        "    \"Logistic Regression\": LogisticRegression(max_iter=2000, random_state=42),\n",
        "    \"KNN\": KNeighborsClassifier(n_neighbors=5),\n",
        "    \"SVM\": SVC(kernel=\"rbf\", probability=True, random_state=42)\n",
        "}\n",
        "\n",
        "results = {}\n",
        "for name, model in models.items():\n",
        "    print(f\"\\n[TRAIN] {name} (multi-class)...\")\n",
        "    model.fit(X_train_m_scaled, y_train_m)\n",
        "    preds = model.predict(X_test_m_scaled)\n",
        "    acc = accuracy_score(y_test_m, preds)\n",
        "    results[name] = {\"model\": model, \"accuracy\": acc, \"y_pred\": preds}\n",
        "    print(f\"[RESULT] {name} accuracy: {acc:.4f}\")\n",
        "    print(classification_report(y_test_m, preds, target_names=le.classes_))\n"
      ],
      "metadata": {
        "colab": {
          "base_uri": "https://localhost:8080/"
        },
        "id": "lPk5aObnUBcT",
        "outputId": "267175c1-f541-4d06-bce1-745ceb7a78d9"
      },
      "execution_count": 40,
      "outputs": [
        {
          "output_type": "stream",
          "name": "stderr",
          "text": [
            "/usr/local/lib/python3.12/dist-packages/sklearn/linear_model/_logistic.py:451: DeprecationWarning: scipy.optimize: The `disp` and `iprint` options of the L-BFGS-B solver are deprecated and will be removed in SciPy 1.18.0.\n",
            "  opt_res = optimize.minimize(\n"
          ]
        },
        {
          "output_type": "stream",
          "name": "stdout",
          "text": [
            "\n",
            "[TRAIN] Logistic Regression (multi-class)...\n"
          ]
        },
        {
          "output_type": "stream",
          "name": "stderr",
          "text": [
            "/usr/local/lib/python3.12/dist-packages/jupyter_client/session.py:203: DeprecationWarning: datetime.datetime.utcnow() is deprecated and scheduled for removal in a future version. Use timezone-aware objects to represent datetimes in UTC: datetime.datetime.now(datetime.UTC).\n",
            "  return datetime.utcnow().replace(tzinfo=utc)\n"
          ]
        },
        {
          "output_type": "stream",
          "name": "stdout",
          "text": [
            "[RESULT] Logistic Regression accuracy: 0.7250\n",
            "                  precision    recall  f1-score   support\n",
            "\n",
            "            ddos       0.00      0.00      0.00       605\n",
            "    gps_spoofing       0.00      0.00      0.00       286\n",
            "         jamming       0.00      0.00      0.00       429\n",
            "         malware       0.00      0.00      0.00       409\n",
            "            mitm       0.00      0.00      0.00       237\n",
            "          normal       0.72      1.00      0.84      6567\n",
            "protocol_exploit       0.00      0.00      0.00       118\n",
            "        spoofing       0.00      0.00      0.00       407\n",
            "\n",
            "        accuracy                           0.72      9058\n",
            "       macro avg       0.09      0.12      0.11      9058\n",
            "    weighted avg       0.53      0.72      0.61      9058\n",
            "\n",
            "\n",
            "[TRAIN] KNN (multi-class)...\n"
          ]
        },
        {
          "output_type": "stream",
          "name": "stderr",
          "text": [
            "/usr/local/lib/python3.12/dist-packages/sklearn/metrics/_classification.py:1565: UndefinedMetricWarning: Precision is ill-defined and being set to 0.0 in labels with no predicted samples. Use `zero_division` parameter to control this behavior.\n",
            "  _warn_prf(average, modifier, f\"{metric.capitalize()} is\", len(result))\n",
            "/usr/local/lib/python3.12/dist-packages/sklearn/metrics/_classification.py:1565: UndefinedMetricWarning: Precision is ill-defined and being set to 0.0 in labels with no predicted samples. Use `zero_division` parameter to control this behavior.\n",
            "  _warn_prf(average, modifier, f\"{metric.capitalize()} is\", len(result))\n",
            "/usr/local/lib/python3.12/dist-packages/sklearn/metrics/_classification.py:1565: UndefinedMetricWarning: Precision is ill-defined and being set to 0.0 in labels with no predicted samples. Use `zero_division` parameter to control this behavior.\n",
            "  _warn_prf(average, modifier, f\"{metric.capitalize()} is\", len(result))\n",
            "/usr/local/lib/python3.12/dist-packages/jupyter_client/session.py:203: DeprecationWarning: datetime.datetime.utcnow() is deprecated and scheduled for removal in a future version. Use timezone-aware objects to represent datetimes in UTC: datetime.datetime.now(datetime.UTC).\n",
            "  return datetime.utcnow().replace(tzinfo=utc)\n"
          ]
        },
        {
          "output_type": "stream",
          "name": "stdout",
          "text": [
            "[RESULT] KNN accuracy: 0.6862\n",
            "                  precision    recall  f1-score   support\n",
            "\n",
            "            ddos       0.09      0.03      0.05       605\n",
            "    gps_spoofing       0.03      0.01      0.01       286\n",
            "         jamming       0.05      0.01      0.02       429\n",
            "         malware       0.07      0.01      0.02       409\n",
            "            mitm       0.04      0.00      0.01       237\n",
            "          normal       0.73      0.94      0.82      6567\n",
            "protocol_exploit       0.00      0.00      0.00       118\n",
            "        spoofing       0.04      0.00      0.00       407\n",
            "\n",
            "        accuracy                           0.69      9058\n",
            "       macro avg       0.13      0.13      0.12      9058\n",
            "    weighted avg       0.54      0.69      0.60      9058\n",
            "\n",
            "\n",
            "[TRAIN] SVM (multi-class)...\n"
          ]
        },
        {
          "output_type": "stream",
          "name": "stderr",
          "text": [
            "/usr/local/lib/python3.12/dist-packages/jupyter_client/session.py:203: DeprecationWarning: datetime.datetime.utcnow() is deprecated and scheduled for removal in a future version. Use timezone-aware objects to represent datetimes in UTC: datetime.datetime.now(datetime.UTC).\n",
            "  return datetime.utcnow().replace(tzinfo=utc)\n"
          ]
        },
        {
          "output_type": "stream",
          "name": "stdout",
          "text": [
            "[RESULT] SVM accuracy: 0.7250\n",
            "                  precision    recall  f1-score   support\n",
            "\n",
            "            ddos       0.00      0.00      0.00       605\n",
            "    gps_spoofing       0.00      0.00      0.00       286\n",
            "         jamming       0.00      0.00      0.00       429\n",
            "         malware       0.00      0.00      0.00       409\n",
            "            mitm       0.00      0.00      0.00       237\n",
            "          normal       0.72      1.00      0.84      6567\n",
            "protocol_exploit       0.00      0.00      0.00       118\n",
            "        spoofing       0.00      0.00      0.00       407\n",
            "\n",
            "        accuracy                           0.72      9058\n",
            "       macro avg       0.09      0.12      0.11      9058\n",
            "    weighted avg       0.53      0.72      0.61      9058\n",
            "\n"
          ]
        },
        {
          "output_type": "stream",
          "name": "stderr",
          "text": [
            "/usr/local/lib/python3.12/dist-packages/sklearn/metrics/_classification.py:1565: UndefinedMetricWarning: Precision is ill-defined and being set to 0.0 in labels with no predicted samples. Use `zero_division` parameter to control this behavior.\n",
            "  _warn_prf(average, modifier, f\"{metric.capitalize()} is\", len(result))\n",
            "/usr/local/lib/python3.12/dist-packages/sklearn/metrics/_classification.py:1565: UndefinedMetricWarning: Precision is ill-defined and being set to 0.0 in labels with no predicted samples. Use `zero_division` parameter to control this behavior.\n",
            "  _warn_prf(average, modifier, f\"{metric.capitalize()} is\", len(result))\n",
            "/usr/local/lib/python3.12/dist-packages/sklearn/metrics/_classification.py:1565: UndefinedMetricWarning: Precision is ill-defined and being set to 0.0 in labels with no predicted samples. Use `zero_division` parameter to control this behavior.\n",
            "  _warn_prf(average, modifier, f\"{metric.capitalize()} is\", len(result))\n",
            "/usr/local/lib/python3.12/dist-packages/jupyter_client/session.py:203: DeprecationWarning: datetime.datetime.utcnow() is deprecated and scheduled for removal in a future version. Use timezone-aware objects to represent datetimes in UTC: datetime.datetime.now(datetime.UTC).\n",
            "  return datetime.utcnow().replace(tzinfo=utc)\n"
          ]
        }
      ]
    },
    {
      "cell_type": "code",
      "source": [
        "# -------------------------\n",
        "# 9. QML binary classifier (QNN) OR MLP surrogate if pennylane unavailable\n",
        "#    We'll use a small subset of features for the QNN (e.g., first 3 principal features)\n",
        "# -------------------------\n",
        "# Choose k features for the QNN (low-dim). We'll pick the first 3 numeric columns (after encoding).\n",
        "k_qnn = 3\n",
        "if X_train_b_scaled.shape[1] < k_qnn:\n",
        "    k_qnn = X_train_b_scaled.shape[1]\n",
        "\n",
        "X_train_q = X_train_b_scaled[:, :k_qnn]\n",
        "X_test_q = X_test_b_scaled[:, :k_qnn]\n",
        "\n",
        "if QML_AVAILABLE:\n",
        "    print(\"\\n[QML] Training Quantum Neural Network (binary)...\")\n",
        "    n_qubits = k_qnn\n",
        "    dev = qml.device(\"default.qubit\", wires=n_qubits)\n",
        "\n",
        "    # Variational circuit: AngleEmbedding + StronglyEntanglingLayers\n",
        "    def quantum_circuit(params, x=None):\n",
        "        # angle embedding expects length==n_qubits\n",
        "        x_padded = np.resize(x, n_qubits)  # truncate or pad\n",
        "        qml.AngleEmbedding(x_padded, wires=range(n_qubits))\n",
        "        qml.StronglyEntanglingLayers(params, wires=range(n_qubits))\n",
        "        return qml.expval(qml.PauliZ(0))\n",
        "\n",
        "    n_layers = 2\n",
        "    params_shape = qml.StronglyEntanglingLayers.shape(n_layers=n_layers, n_wires=n_qubits)\n",
        "    params = pnp.random.random(params_shape, requires_grad=True)\n",
        "\n",
        "    @qml.qnode(dev, interface=\"autograd\")\n",
        "    def qnode(params, x):\n",
        "        return quantum_circuit(params, x)\n",
        "\n",
        "    def qnn_predict_prob(params, x):\n",
        "        # map expectation [-1,1] -> [0,1]\n",
        "        return (qnode(params, x) + 1) / 2\n",
        "\n",
        "    # Prepare pnp arrays\n",
        "    X_train_q_p = pnp.array(X_train_q, requires_grad=False)\n",
        "    X_test_q_p = pnp.array(X_test_q, requires_grad=False)\n",
        "    y_train_q_p = pnp.array(y_train_b.values, requires_grad=False)\n",
        "\n",
        "    opt = AdamOptimizer(stepsize=0.2)\n",
        "\n",
        "    def cost(params, X, y):\n",
        "        preds = pnp.array([qnn_predict_prob(params, X[i]) for i in range(len(X))])\n",
        "        return pnp.mean((preds - y) ** 2)\n",
        "\n",
        "    epochs = 15\n",
        "    for epoch in range(epochs):\n",
        "        params = opt.step(lambda v: cost(v, X_train_q_p, y_train_q_p), params)\n",
        "        if (epoch + 1) % 5 == 0 or epoch == 0:\n",
        "            c = cost(params, X_train_q_p, y_train_q_p)\n",
        "            print(f\" Epoch {epoch+1}/{epochs}  cost: {c:.4f}\")\n",
        "\n",
        "    # Evaluate QNN\n",
        "    q_probs = [qnn_predict_prob(params, x) for x in X_test_q_p]\n",
        "    q_preds = [1 if float(p) > 0.5 else 0 for p in q_probs]\n",
        "    q_acc = accuracy_score(y_test_b, q_preds)\n",
        "    print(f\"\\n[QNN RESULT] Binary QNN accuracy: {q_acc:.4f}\")\n",
        "    print(classification_report(y_test_b, q_preds))\n",
        "    results[\"Quantum QNN (binary)\"] = {\"model\": \"pennylane_qnn\", \"accuracy\": q_acc, \"y_pred\": q_preds}\n",
        "else:\n",
        "    # Fallback: small MLP surrogate\n",
        "    print(\"\\n[QML fallback] pennylane unavailable: training MLP surrogate (binary)...\")\n",
        "    mlp = MLPClassifier(hidden_layer_sizes=(64, 32), max_iter=300, random_state=42)\n",
        "    mlp.fit(X_train_q, y_train_b)\n",
        "    mlp_preds = mlp.predict(X_test_q)\n",
        "    mlp_acc = accuracy_score(y_test_b, mlp_preds)\n",
        "    print(f\"[MLP surrogate] Binary accuracy: {mlp_acc:.4f}\")\n",
        "    print(classification_report(y_test_b, mlp_preds))\n",
        "    results[\"QNN surrogate (MLP)\"] = {\"model\": mlp, \"accuracy\": mlp_acc, \"y_pred\": mlp_preds}\n"
      ],
      "metadata": {
        "colab": {
          "base_uri": "https://localhost:8080/"
        },
        "id": "2VlWbZZ6UGVu",
        "outputId": "c1c1b07b-c07c-4a62-ab8a-94a559d9e217"
      },
      "execution_count": 41,
      "outputs": [
        {
          "output_type": "stream",
          "name": "stdout",
          "text": [
            "\n",
            "[QML fallback] pennylane unavailable: training MLP surrogate (binary)...\n"
          ]
        },
        {
          "output_type": "stream",
          "name": "stderr",
          "text": [
            "/usr/local/lib/python3.12/dist-packages/jupyter_client/session.py:203: DeprecationWarning: datetime.datetime.utcnow() is deprecated and scheduled for removal in a future version. Use timezone-aware objects to represent datetimes in UTC: datetime.datetime.now(datetime.UTC).\n",
            "  return datetime.utcnow().replace(tzinfo=utc)\n"
          ]
        },
        {
          "output_type": "stream",
          "name": "stdout",
          "text": [
            "[MLP surrogate] Binary accuracy: 0.8982\n",
            "              precision    recall  f1-score   support\n",
            "\n",
            "           0       0.00      0.00      0.00       922\n",
            "           1       0.90      1.00      0.95      8136\n",
            "\n",
            "    accuracy                           0.90      9058\n",
            "   macro avg       0.45      0.50      0.47      9058\n",
            "weighted avg       0.81      0.90      0.85      9058\n",
            "\n"
          ]
        },
        {
          "output_type": "stream",
          "name": "stderr",
          "text": [
            "/usr/local/lib/python3.12/dist-packages/sklearn/metrics/_classification.py:1565: UndefinedMetricWarning: Precision is ill-defined and being set to 0.0 in labels with no predicted samples. Use `zero_division` parameter to control this behavior.\n",
            "  _warn_prf(average, modifier, f\"{metric.capitalize()} is\", len(result))\n",
            "/usr/local/lib/python3.12/dist-packages/sklearn/metrics/_classification.py:1565: UndefinedMetricWarning: Precision is ill-defined and being set to 0.0 in labels with no predicted samples. Use `zero_division` parameter to control this behavior.\n",
            "  _warn_prf(average, modifier, f\"{metric.capitalize()} is\", len(result))\n",
            "/usr/local/lib/python3.12/dist-packages/sklearn/metrics/_classification.py:1565: UndefinedMetricWarning: Precision is ill-defined and being set to 0.0 in labels with no predicted samples. Use `zero_division` parameter to control this behavior.\n",
            "  _warn_prf(average, modifier, f\"{metric.capitalize()} is\", len(result))\n",
            "/usr/local/lib/python3.12/dist-packages/jupyter_client/session.py:203: DeprecationWarning: datetime.datetime.utcnow() is deprecated and scheduled for removal in a future version. Use timezone-aware objects to represent datetimes in UTC: datetime.datetime.now(datetime.UTC).\n",
            "  return datetime.utcnow().replace(tzinfo=utc)\n"
          ]
        }
      ]
    },
    {
      "cell_type": "code",
      "source": [
        "# -------------------------\n",
        "# 10. Sanity checks\n",
        "# -------------------------\n",
        "print(\"\\n[Sanity Checks]\")\n",
        "for name, info in results.items():\n",
        "    pred = info[\"y_pred\"]\n",
        "    if len(pred) != X_test_m_scaled.shape[0] and (\"binary\" not in name.lower() and \"qnn\" not in name.lower() and \"surrogate\" not in name.lower()):\n",
        "        print(f\" [WARN] {name} prediction length ({len(pred)}) != multi-class test size ({X_test_m_scaled.shape[0]})\")\n",
        "    else:\n",
        "        print(f\" [OK] {name} predictions ready (accuracy {info['accuracy']:.4f})\")\n",
        "\n",
        "print(\"\\n[Done] IDS training & evaluation complete.\")\n"
      ],
      "metadata": {
        "colab": {
          "base_uri": "https://localhost:8080/"
        },
        "id": "qmsKRUEPUJxL",
        "outputId": "c7f37636-c70a-4b07-cb36-1cdb2309abcd"
      },
      "execution_count": 42,
      "outputs": [
        {
          "output_type": "stream",
          "name": "stdout",
          "text": [
            "\n",
            "[Sanity Checks]\n",
            " [OK] Logistic Regression predictions ready (accuracy 0.7250)\n",
            " [OK] KNN predictions ready (accuracy 0.6862)\n",
            " [OK] SVM predictions ready (accuracy 0.7250)\n",
            " [OK] QNN surrogate (MLP) predictions ready (accuracy 0.8982)\n",
            "\n",
            "[Done] IDS training & evaluation complete.\n"
          ]
        }
      ]
    },
    {
      "cell_type": "markdown",
      "source": [
        "**Graph Neural Networks (GNNs)**"
      ],
      "metadata": {
        "id": "IJ7lz7-yZ6BK"
      }
    },
    {
      "cell_type": "code",
      "source": [
        "import pandas as pd\n",
        "import torch\n",
        "from sklearn.model_selection import train_test_split\n",
        "from sklearn.preprocessing import StandardScaler, LabelEncoder\n",
        "from torch_geometric.data import Data\n",
        "from torch_geometric.nn import GCNConv\n",
        "import torch.nn.functional as F"
      ],
      "metadata": {
        "id": "VkjabEfhYzo6"
      },
      "execution_count": 48,
      "outputs": []
    },
    {
      "cell_type": "code",
      "source": [
        "# The data loading and preprocessing have been done in cell hAaESYBRdi5-,\n",
        "# resulting in X and y variables. We will use those here.\n",
        "# No preprocessing needed in this cell."
      ],
      "metadata": {
        "id": "_tOi8Hw0Y55R"
      },
      "execution_count": 45,
      "outputs": []
    },
    {
      "cell_type": "code",
      "source": [
        "# -------------------------\n",
        "# 2. Build Graph\n",
        "# -------------------------\n",
        "# For simplicity: connect each node to its k nearest neighbors\n",
        "from sklearn.neighbors import kneighbors_graph\n",
        "import numpy as np\n",
        "\n",
        "k = 5\n",
        "adj = kneighbors_graph(X, k, mode=\"connectivity\", include_self=False)\n",
        "edge_index = torch.tensor(np.array(adj.nonzero()), dtype=torch.long)\n",
        "\n",
        "# Convert to PyTorch Geometric Data\n",
        "data = Data(\n",
        "    x=torch.tensor(X.values, dtype=torch.float), # Use .values here\n",
        "    y=torch.tensor(y, dtype=torch.long),\n",
        "    edge_index=edge_index\n",
        ")\n",
        "\n",
        "# Train/test split\n",
        "num_nodes = data.num_nodes\n",
        "train_mask = torch.zeros(num_nodes, dtype=torch.bool)\n",
        "test_mask = torch.zeros(num_nodes, dtype=torch.bool)\n",
        "\n",
        "train_idx, test_idx = train_test_split(range(num_nodes), test_size=0.2, stratify=y, random_state=42)\n",
        "train_mask[train_idx] = True\n",
        "test_mask[test_idx] = True\n",
        "data.train_mask = train_mask\n",
        "data.test_mask = test_mask"
      ],
      "metadata": {
        "colab": {
          "base_uri": "https://localhost:8080/",
          "height": 289
        },
        "id": "QuFVwJXyY94G",
        "outputId": "57ade07f-9ed6-4f3b-9987-a71499af879e"
      },
      "execution_count": 49,
      "outputs": [
        {
          "output_type": "error",
          "ename": "TypeError",
          "evalue": "can't convert np.ndarray of type numpy.object_. The only supported types are: float64, float32, float16, complex64, complex128, int64, int32, int16, int8, uint64, uint32, uint16, uint8, and bool.",
          "traceback": [
            "\u001b[0;31m---------------------------------------------------------------------------\u001b[0m",
            "\u001b[0;31mTypeError\u001b[0m                                 Traceback (most recent call last)",
            "\u001b[0;32m/tmp/ipython-input-3319607413.py\u001b[0m in \u001b[0;36m<cell line: 0>\u001b[0;34m()\u001b[0m\n\u001b[1;32m     12\u001b[0m \u001b[0;31m# Convert to PyTorch Geometric Data\u001b[0m\u001b[0;34m\u001b[0m\u001b[0;34m\u001b[0m\u001b[0m\n\u001b[1;32m     13\u001b[0m data = Data(\n\u001b[0;32m---> 14\u001b[0;31m     \u001b[0mx\u001b[0m\u001b[0;34m=\u001b[0m\u001b[0mtorch\u001b[0m\u001b[0;34m.\u001b[0m\u001b[0mtensor\u001b[0m\u001b[0;34m(\u001b[0m\u001b[0mX\u001b[0m\u001b[0;34m.\u001b[0m\u001b[0mvalues\u001b[0m\u001b[0;34m,\u001b[0m \u001b[0mdtype\u001b[0m\u001b[0;34m=\u001b[0m\u001b[0mtorch\u001b[0m\u001b[0;34m.\u001b[0m\u001b[0mfloat\u001b[0m\u001b[0;34m)\u001b[0m\u001b[0;34m,\u001b[0m \u001b[0;31m# Use .values here\u001b[0m\u001b[0;34m\u001b[0m\u001b[0;34m\u001b[0m\u001b[0m\n\u001b[0m\u001b[1;32m     15\u001b[0m     \u001b[0my\u001b[0m\u001b[0;34m=\u001b[0m\u001b[0mtorch\u001b[0m\u001b[0;34m.\u001b[0m\u001b[0mtensor\u001b[0m\u001b[0;34m(\u001b[0m\u001b[0my\u001b[0m\u001b[0;34m,\u001b[0m \u001b[0mdtype\u001b[0m\u001b[0;34m=\u001b[0m\u001b[0mtorch\u001b[0m\u001b[0;34m.\u001b[0m\u001b[0mlong\u001b[0m\u001b[0;34m)\u001b[0m\u001b[0;34m,\u001b[0m\u001b[0;34m\u001b[0m\u001b[0;34m\u001b[0m\u001b[0m\n\u001b[1;32m     16\u001b[0m     \u001b[0medge_index\u001b[0m\u001b[0;34m=\u001b[0m\u001b[0medge_index\u001b[0m\u001b[0;34m\u001b[0m\u001b[0;34m\u001b[0m\u001b[0m\n",
            "\u001b[0;31mTypeError\u001b[0m: can't convert np.ndarray of type numpy.object_. The only supported types are: float64, float32, float16, complex64, complex128, int64, int32, int16, int8, uint64, uint32, uint16, uint8, and bool."
          ]
        },
        {
          "output_type": "stream",
          "name": "stderr",
          "text": [
            "/usr/local/lib/python3.12/dist-packages/jupyter_client/session.py:203: DeprecationWarning: datetime.datetime.utcnow() is deprecated and scheduled for removal in a future version. Use timezone-aware objects to represent datetimes in UTC: datetime.datetime.now(datetime.UTC).\n",
            "  return datetime.utcnow().replace(tzinfo=utc)\n"
          ]
        }
      ]
    },
    {
      "cell_type": "code",
      "source": [
        "# -------------------------\n",
        "# 3. Define GNN Model\n",
        "# -------------------------\n",
        "class GNN(torch.nn.Module):\n",
        "    def __init__(self, in_channels, hidden_channels, out_channels):\n",
        "        super(GNN, self).__init__()\n",
        "        self.conv1 = GCNConv(in_channels, hidden_channels)\n",
        "        self.conv2 = GCNConv(hidden_channels, out_channels)\n",
        "\n",
        "    def forward(self, x, edge_index):\n",
        "        x = self.conv1(x, edge_index)\n",
        "        x = F.relu(x)\n",
        "        x = self.conv2(x, edge_index)\n",
        "        return x\n",
        "\n",
        "model = GNN(in_channels=data.num_node_features, hidden_channels=32, out_channels=len(le.classes_))\n",
        "\n",
        "optimizer = torch.optim.Adam(model.parameters(), lr=0.01, weight_decay=5e-4)\n",
        "loss_fn = torch.nn.CrossEntropyLoss()\n"
      ],
      "metadata": {
        "id": "yNan-8IfZBix"
      },
      "execution_count": null,
      "outputs": []
    },
    {
      "cell_type": "code",
      "source": [
        "# -------------------------\n",
        "# 4. Train\n",
        "# -------------------------\n",
        "for epoch in range(50):\n",
        "    model.train()\n",
        "    optimizer.zero_grad()\n",
        "    out = model(data.x, data.edge_index)\n",
        "    loss = loss_fn(out[data.train_mask], data.y[data.train_mask])\n",
        "    loss.backward()\n",
        "    optimizer.step()\n",
        "    if epoch % 10 == 0:\n",
        "        print(f\"Epoch {epoch}, Loss: {loss.item():.4f}\")"
      ],
      "metadata": {
        "id": "zGMuJR-YZCbd"
      },
      "execution_count": null,
      "outputs": []
    },
    {
      "cell_type": "code",
      "source": [
        "# -------------------------\n",
        "# 5. Test\n",
        "# -------------------------\n",
        "model.eval()\n",
        "preds = out.argmax(dim=1)\n",
        "correct = preds[data.test_mask].eq(data.y[data.test_mask]).sum().item()\n",
        "acc = correct / data.test_mask.sum().item()\n",
        "print(f\"Test Accuracy: {acc:.4f}\")"
      ],
      "metadata": {
        "id": "qzYFPnbxZFR0"
      },
      "execution_count": null,
      "outputs": []
    },
    {
      "cell_type": "markdown",
      "source": [
        "**XGBoost, LightGBM, CatBoost**"
      ],
      "metadata": {
        "id": "c3ySroVas98L"
      }
    },
    {
      "cell_type": "code",
      "source": [
        "import pandas as pd\n",
        "import numpy as np\n",
        "from sklearn.model_selection import train_test_split\n",
        "from sklearn.preprocessing import StandardScaler, LabelEncoder\n",
        "from sklearn.metrics import accuracy_score, classification_report\n",
        "from sklearn.linear_model import LogisticRegression\n",
        "from sklearn.neighbors import KNeighborsClassifier\n",
        "from sklearn.svm import SVC"
      ],
      "metadata": {
        "id": "Z6I4q4r9s9ly"
      },
      "execution_count": 50,
      "outputs": []
    },
    {
      "cell_type": "code",
      "source": [
        "# Try importing XGBoost\n",
        "try:\n",
        "    from xgboost import XGBClassifier\n",
        "    xgb_available = True\n",
        "except ImportError:\n",
        "    print(\"Warning: XGBoost not installed. Skipping XGBoost.\")\n",
        "    xgb_available = False"
      ],
      "metadata": {
        "id": "ww7EfEMNtJxE"
      },
      "execution_count": 52,
      "outputs": []
    },
    {
      "cell_type": "code",
      "source": [
        "# Try importing LightGBM\n",
        "try:\n",
        "    from lightgbm import LGBMClassifier\n",
        "    lgbm_available = True\n",
        "except ImportError:\n",
        "    print(\"Warning: LightGBM not installed. Skipping LightGBM.\")\n",
        "    lgbm_available = False"
      ],
      "metadata": {
        "colab": {
          "base_uri": "https://localhost:8080/"
        },
        "id": "gTJ3OpsMtPlQ",
        "outputId": "184eb92f-565a-4875-9ce3-b41d0c04bc89"
      },
      "execution_count": 54,
      "outputs": [
        {
          "output_type": "stream",
          "name": "stderr",
          "text": [
            "/usr/local/lib/python3.12/dist-packages/jupyter_client/session.py:203: DeprecationWarning: datetime.datetime.utcnow() is deprecated and scheduled for removal in a future version. Use timezone-aware objects to represent datetimes in UTC: datetime.datetime.now(datetime.UTC).\n",
            "  return datetime.utcnow().replace(tzinfo=utc)\n"
          ]
        }
      ]
    },
    {
      "cell_type": "code",
      "source": [
        "# Try importing CatBoost\n",
        "try:\n",
        "    from catboost import CatBoostClassifier\n",
        "    catboost_available = True\n",
        "except ImportError:\n",
        "    print(\"Warning: CatBoost not installed. Skipping CatBoost.\")\n",
        "    catboost_available = False\n"
      ],
      "metadata": {
        "colab": {
          "base_uri": "https://localhost:8080/"
        },
        "id": "teTXkmFH5ek7",
        "outputId": "dd4435a6-8a6d-4e03-e73c-7124a40b3069"
      },
      "execution_count": 57,
      "outputs": [
        {
          "output_type": "stream",
          "name": "stdout",
          "text": [
            "Warning: CatBoost not installed. Skipping CatBoost.\n"
          ]
        }
      ]
    },
    {
      "cell_type": "code",
      "source": [
        "# Try importing PennyLane for QML\n",
        "try:\n",
        "    import pennylane as qml\n",
        "    from pennylane import numpy as pnp\n",
        "    pennylane_available = True\n",
        "except ImportError:\n",
        "    print(\"Warning: PennyLane not installed. Quantum ML will be skipped.\")\n",
        "    pennylane_available = False\n"
      ],
      "metadata": {
        "colab": {
          "base_uri": "https://localhost:8080/"
        },
        "id": "1NzdXs9gtUtb",
        "outputId": "5b812957-4bc4-47bd-ff4c-e4e13d77a056"
      },
      "execution_count": 60,
      "outputs": [
        {
          "output_type": "stream",
          "name": "stdout",
          "text": [
            "Warning: PennyLane not installed. Quantum ML will be skipped.\n"
          ]
        }
      ]
    },
    {
      "cell_type": "code",
      "source": [
        "# -------------------------\n",
        "# 2. Preprocess dataset\n",
        "# -------------------------\n",
        "# Drop non-useful columns (timestamp, GPS coordinates, etc.)\n",
        "drop_cols = [\"timestamp\", \"drone_gps_coordinates\"]\n",
        "df = df.drop(columns=[c for c in drop_cols if c in df.columns])\n"
      ],
      "metadata": {
        "colab": {
          "base_uri": "https://localhost:8080/"
        },
        "id": "r5X-0WdE69yI",
        "outputId": "b4969eab-94df-4a96-81df-8c931ffd3f0b"
      },
      "execution_count": 67,
      "outputs": [
        {
          "output_type": "stream",
          "name": "stderr",
          "text": [
            "/usr/local/lib/python3.12/dist-packages/jupyter_client/session.py:203: DeprecationWarning: datetime.datetime.utcnow() is deprecated and scheduled for removal in a future version. Use timezone-aware objects to represent datetimes in UTC: datetime.datetime.now(datetime.UTC).\n",
            "  return datetime.utcnow().replace(tzinfo=utc)\n"
          ]
        }
      ]
    },
    {
      "cell_type": "code",
      "source": [
        "import pandas as pd\n",
        "\n",
        "# Load dataset\n",
        "url = \"https://raw.githubusercontent.com/prof-cs-ohamdas/ML_DL_IDS_UAV/main/drone_communication_dataset.csv\"\n",
        "df = pd.read_csv(url)\n",
        "\n",
        "# Inspect columns\n",
        "print(\"Columns:\", df.columns.tolist()[:20])  # show first 20 columns\n",
        "\n",
        "# Handle label column(s)\n",
        "if \"label\" in df.columns:\n",
        "    # Case 1: dataset has a single label column\n",
        "    df[\"attack_type\"] = df[\"label\"]\n",
        "\n",
        "else:\n",
        "    # Case 2: dataset has multiple one-hot encoded labels\n",
        "    label_cols = [c for c in df.columns if \"label\" in c.lower()\n",
        "                  or c.lower() in [\"normal\", \"dos\", \"probe\", \"u2r\", \"r2l\"]]\n",
        "\n",
        "    if len(label_cols) == 0:\n",
        "        raise ValueError(\"No label columns found. Please check dataset columns.\")\n",
        "\n",
        "    # Merge into one target column\n",
        "    df[\"attack_type\"] = df[label_cols].idxmax(axis=1)\n",
        "    df[\"attack_type\"] = df[\"attack_type\"].str.replace(\"label_\", \"\", regex=False)\n",
        "    df = df.drop(columns=label_cols)\n",
        "\n",
        "print(\"\\n[INFO] ✅ attack_type column created successfully\")\n",
        "print(df[[\"attack_type\"]].head())\n",
        "\n"
      ],
      "metadata": {
        "colab": {
          "base_uri": "https://localhost:8080/"
        },
        "id": "RYWQIGDx7Cdk",
        "outputId": "f77fbcf0-fdb1-4370-8416-3bec4bc9f870"
      },
      "execution_count": 69,
      "outputs": [
        {
          "output_type": "stream",
          "name": "stdout",
          "text": [
            "Columns: ['timestamp', 'signal_strength', 'packet_loss_rate', 'round_trip_time', 'communication_protocol', 'frequency_band', 'encryption_type', 'drone_gps_coordinates', 'altitude', 'speed_trajectory', 'transmission_power', 'message_authentication_status', 'session_key_validity', 'signal_noise_ratio', 'sequence_number_gap', 'drone_identification', 'data_rate', 'network_traffic_volume', 'gps_signal_integrity', 'uplink_downlink_quality']\n",
            "\n",
            "[INFO] ✅ attack_type column created successfully\n",
            "  attack_type\n",
            "0      normal\n",
            "1      normal\n",
            "2      normal\n",
            "3      normal\n",
            "4      normal\n"
          ]
        },
        {
          "output_type": "stream",
          "name": "stderr",
          "text": [
            "/usr/local/lib/python3.12/dist-packages/jupyter_client/session.py:203: DeprecationWarning: datetime.datetime.utcnow() is deprecated and scheduled for removal in a future version. Use timezone-aware objects to represent datetimes in UTC: datetime.datetime.now(datetime.UTC).\n",
            "  return datetime.utcnow().replace(tzinfo=utc)\n"
          ]
        }
      ]
    },
    {
      "cell_type": "code",
      "source": [
        "# Encode categorical features\n",
        "categorical_cols = df.select_dtypes(include=[\"object\"]).columns.drop(\"attack_type\")\n",
        "df = pd.get_dummies(df, columns=categorical_cols)\n"
      ],
      "metadata": {
        "colab": {
          "base_uri": "https://localhost:8080/"
        },
        "id": "oTZ33vWx7F4q",
        "outputId": "6aa24b9b-1265-4cc8-bbf4-99c2e6b7d598"
      },
      "execution_count": 70,
      "outputs": [
        {
          "output_type": "stream",
          "name": "stderr",
          "text": [
            "/usr/local/lib/python3.12/dist-packages/jupyter_client/session.py:203: DeprecationWarning: datetime.datetime.utcnow() is deprecated and scheduled for removal in a future version. Use timezone-aware objects to represent datetimes in UTC: datetime.datetime.now(datetime.UTC).\n",
            "  return datetime.utcnow().replace(tzinfo=utc)\n"
          ]
        }
      ]
    },
    {
      "cell_type": "code",
      "source": [
        "# Encode target\n",
        "le = LabelEncoder()\n",
        "df[\"attack_type\"] = le.fit_transform(df[\"attack_type\"])"
      ],
      "metadata": {
        "colab": {
          "base_uri": "https://localhost:8080/"
        },
        "id": "RrqBuFeM7IYI",
        "outputId": "dc8bd328-dd78-455d-d0ca-2a9aa5aa19b0"
      },
      "execution_count": 71,
      "outputs": [
        {
          "output_type": "stream",
          "name": "stderr",
          "text": [
            "/usr/local/lib/python3.12/dist-packages/jupyter_client/session.py:203: DeprecationWarning: datetime.datetime.utcnow() is deprecated and scheduled for removal in a future version. Use timezone-aware objects to represent datetimes in UTC: datetime.datetime.now(datetime.UTC).\n",
            "  return datetime.utcnow().replace(tzinfo=utc)\n"
          ]
        }
      ]
    },
    {
      "cell_type": "code",
      "source": [
        "# -------------------------\n",
        "# 3. Train/test split\n",
        "# -------------------------\n",
        "# X and y are already prepared in cell hAaESYBRdi5-\n",
        "# No need to separate features and target again here.\n",
        "\n",
        "X_train, X_test, y_train, y_test = train_test_split(\n",
        "X, y, test_size=0.2, random_state=42, stratify=y\n",
        ")\n",
        "\n",
        "# Standardize - X is already scaled in cell hAaESYBRdi5-\n",
        "# No need to standardize again here.\n",
        "# scaler = StandardScaler()\n",
        "# X_train = scaler.fit_transform(X_train)\n",
        "# X_test = scaler.transform(X_test)"
      ],
      "metadata": {
        "colab": {
          "base_uri": "https://localhost:8080/",
          "height": 216
        },
        "id": "CRKjj2J97lIV",
        "outputId": "ec568287-dbb6-4f17-c7c8-aa4401a397b0"
      },
      "execution_count": 3,
      "outputs": [
        {
          "output_type": "error",
          "ename": "NameError",
          "evalue": "name 'train_test_split' is not defined",
          "traceback": [
            "\u001b[0;31m---------------------------------------------------------------------------\u001b[0m",
            "\u001b[0;31mNameError\u001b[0m                                 Traceback (most recent call last)",
            "\u001b[0;32m/tmp/ipython-input-2326959603.py\u001b[0m in \u001b[0;36m<cell line: 0>\u001b[0;34m()\u001b[0m\n\u001b[1;32m      5\u001b[0m \u001b[0;31m# No need to separate features and target again here.\u001b[0m\u001b[0;34m\u001b[0m\u001b[0;34m\u001b[0m\u001b[0m\n\u001b[1;32m      6\u001b[0m \u001b[0;34m\u001b[0m\u001b[0m\n\u001b[0;32m----> 7\u001b[0;31m X_train, X_test, y_train, y_test = train_test_split(\n\u001b[0m\u001b[1;32m      8\u001b[0m \u001b[0mX\u001b[0m\u001b[0;34m,\u001b[0m \u001b[0my\u001b[0m\u001b[0;34m,\u001b[0m \u001b[0mtest_size\u001b[0m\u001b[0;34m=\u001b[0m\u001b[0;36m0.2\u001b[0m\u001b[0;34m,\u001b[0m \u001b[0mrandom_state\u001b[0m\u001b[0;34m=\u001b[0m\u001b[0;36m42\u001b[0m\u001b[0;34m,\u001b[0m \u001b[0mstratify\u001b[0m\u001b[0;34m=\u001b[0m\u001b[0my\u001b[0m\u001b[0;34m\u001b[0m\u001b[0;34m\u001b[0m\u001b[0m\n\u001b[1;32m      9\u001b[0m )\n",
            "\u001b[0;31mNameError\u001b[0m: name 'train_test_split' is not defined"
          ]
        }
      ]
    },
    {
      "cell_type": "markdown",
      "source": [
        "**Federated Learning (FL)**"
      ],
      "metadata": {
        "id": "-9ncyDodaMss"
      }
    },
    {
      "cell_type": "code",
      "source": [
        "# Federated Learning IDS Example for UAV 5G Network\n",
        "# Using Flower (flwr) and Logistic Regression\n",
        "\n",
        "import flwr as fl\n",
        "import pandas as pd\n",
        "import numpy as np\n",
        "from sklearn.linear_model import LogisticRegression\n",
        "from sklearn.preprocessing import StandardScaler, LabelEncoder\n",
        "from sklearn.metrics import accuracy_score\n",
        "from sklearn.model_selection import train_test_split"
      ],
      "metadata": {
        "id": "7mVuw2YAs24J"
      },
      "execution_count": null,
      "outputs": []
    },
    {
      "cell_type": "code",
      "metadata": {
        "id": "RoH-b5aUlWF4"
      },
      "source": [
        "import pandas as pd\n",
        "import numpy as np\n",
        "from sklearn.model_selection import train_test_split\n",
        "from sklearn.preprocessing import StandardScaler, LabelEncoder\n",
        "from sklearn.metrics import accuracy_score, classification_report\n",
        "from sklearn.linear_model import LogisticRegression\n",
        "from sklearn.neighbors import KNeighborsClassifier\n",
        "from sklearn.svm import SVC\n",
        "\n",
        "# Try importing XGBoost, LightGBM, CatBoost, and PennyLane\n",
        "try:\n",
        "    from xgboost import XGBClassifier\n",
        "    xgb_available = True\n",
        "except ImportError:\n",
        "    print(\"Warning: XGBoost not installed. Skipping XGBoost.\")\n",
        "    xgb_available = False\n",
        "\n",
        "try:\n",
        "    from lightgbm import LGBMClassifier\n",
        "    lgbm_available = True\n",
        "except ImportError:\n",
        "    print(\"Warning: LightGBM not installed. Skipping LightGBM.\")\n",
        "    lgbm_available = False\n",
        "\n",
        "try:\n",
        "    from catboost import CatBoostClassifier\n",
        "    catboost_available = True\n",
        "except ImportError:\n",
        "    print(\"Warning: CatBoost not installed. Skipping CatBoost.\")\n",
        "    catboost_available = False\n",
        "\n",
        "try:\n",
        "    import pennylane as qml\n",
        "    from pennylane import numpy as pnp\n",
        "    pennylane_available = True\n",
        "except ImportError:\n",
        "    print(\"Warning: PennyLane not installed. Quantum ML will be skipped.\")\n",
        "    pennylane_available = False"
      ],
      "execution_count": null,
      "outputs": []
    },
    {
      "cell_type": "code",
      "metadata": {
        "colab": {
          "base_uri": "https://localhost:8080/"
        },
        "id": "up-L5k3OqxBM",
        "outputId": "9ddb589d-0316-43cc-f189-23bbfe2ec151"
      },
      "source": [
        "# -------------------------\n",
        "# 4. Start Federated Learning\n",
        "# -------------------------\n",
        "from flwr.server.server import ServerConfig\n",
        "import flwr as fl # Import flwr here as well\n",
        "\n",
        "def client_fn(cid: str):\n",
        "    return UAVClient(cid, client_data[int(cid)])\n",
        "\n",
        "# Define the number of clients\n",
        "num_clients = 3\n",
        "\n",
        "strategy = fl.server.strategy.FedAvg()\n",
        "fl.simulation.start_simulation(\n",
        "    client_fn=client_fn,\n",
        "    num_clients=num_clients,\n",
        "    config=ServerConfig(num_rounds=5),\n",
        "    strategy=strategy,\n",
        ")"
      ],
      "execution_count": null,
      "outputs": [
        {
          "output_type": "stream",
          "name": "stderr",
          "text": [
            "\u001b[93mWARNING \u001b[0m:   DEPRECATED FEATURE: flwr.simulation.start_simulation() is deprecated.\n",
            "\tInstead, use the `flwr run` CLI command to start a local simulation in your Flower app, as shown for example below:\n",
            "\n",
            "\t\t$ flwr new  # Create a new Flower app from a template\n",
            "\n",
            "\t\t$ flwr run  # Run the Flower app in Simulation Mode\n",
            "\n",
            "\tUsing `start_simulation()` is deprecated.\n",
            "\n",
            "            This is a deprecated feature. It will be removed\n",
            "            entirely in future versions of Flower.\n",
            "        \n",
            "WARNING:flwr:DEPRECATED FEATURE: flwr.simulation.start_simulation() is deprecated.\n",
            "\tInstead, use the `flwr run` CLI command to start a local simulation in your Flower app, as shown for example below:\n",
            "\n",
            "\t\t$ flwr new  # Create a new Flower app from a template\n",
            "\n",
            "\t\t$ flwr run  # Run the Flower app in Simulation Mode\n",
            "\n",
            "\tUsing `start_simulation()` is deprecated.\n",
            "\n",
            "            This is a deprecated feature. It will be removed\n",
            "            entirely in future versions of Flower.\n",
            "        \n",
            "\u001b[92mINFO \u001b[0m:      Starting Flower simulation, config: num_rounds=5, no round_timeout\n",
            "2025-09-10 14:03:49,091\tINFO worker.py:1771 -- Started a local Ray instance.\n",
            "/usr/local/lib/python3.12/dist-packages/jupyter_client/session.py:203: DeprecationWarning: datetime.datetime.utcnow() is deprecated and scheduled for removal in a future version. Use timezone-aware objects to represent datetimes in UTC: datetime.datetime.now(datetime.UTC).\n",
            "  return datetime.utcnow().replace(tzinfo=utc)\n",
            "\u001b[92mINFO \u001b[0m:      Flower VCE: Ray initialized with resources: {'CPU': 2.0, 'memory': 7994860340.0, 'node:172.28.0.12': 1.0, 'node:__internal_head__': 1.0, 'object_store_memory': 3997430169.0}\n",
            "\u001b[92mINFO \u001b[0m:      Optimize your simulation with Flower VCE: https://flower.ai/docs/framework/how-to-run-simulations.html\n",
            "\u001b[92mINFO \u001b[0m:      No `client_resources` specified. Using minimal resources for clients.\n",
            "\u001b[92mINFO \u001b[0m:      Flower VCE: Resources for each Virtual Client: {'num_cpus': 1, 'num_gpus': 0.0}\n",
            "\u001b[92mINFO \u001b[0m:      Flower VCE: Creating VirtualClientEngineActorPool with 2 actors\n",
            "\u001b[92mINFO \u001b[0m:      [INIT]\n",
            "\u001b[92mINFO \u001b[0m:      Requesting initial parameters from one random client\n",
            "\u001b[36m(pid=48824)\u001b[0m 2025-09-10 14:04:05.967812: E external/local_xla/xla/stream_executor/cuda/cuda_fft.cc:467] Unable to register cuFFT factory: Attempting to register factory for plugin cuFFT when one has already been registered\n",
            "\u001b[36m(pid=48823)\u001b[0m WARNING: All log messages before absl::InitializeLog() is called are written to STDERR\n",
            "\u001b[36m(pid=48823)\u001b[0m E0000 00:00:1757513046.033384   48823 cuda_dnn.cc:8579] Unable to register cuDNN factory: Attempting to register factory for plugin cuDNN when one has already been registered\n",
            "\u001b[36m(pid=48823)\u001b[0m E0000 00:00:1757513046.044969   48823 cuda_blas.cc:1407] Unable to register cuBLAS factory: Attempting to register factory for plugin cuBLAS when one has already been registered\n",
            "\u001b[36m(pid=48823)\u001b[0m W0000 00:00:1757513046.076917   48823 computation_placer.cc:177] computation placer already registered. Please check linkage and avoid linking the same target more than once.\n",
            "\u001b[36m(pid=48823)\u001b[0m W0000 00:00:1757513046.076970   48823 computation_placer.cc:177] computation placer already registered. Please check linkage and avoid linking the same target more than once.\n",
            "\u001b[36m(pid=48823)\u001b[0m W0000 00:00:1757513046.076977   48823 computation_placer.cc:177] computation placer already registered. Please check linkage and avoid linking the same target more than once.\n",
            "\u001b[36m(pid=48823)\u001b[0m W0000 00:00:1757513046.076982   48823 computation_placer.cc:177] computation placer already registered. Please check linkage and avoid linking the same target more than once.\n"
          ]
        }
      ]
    }
  ]
}
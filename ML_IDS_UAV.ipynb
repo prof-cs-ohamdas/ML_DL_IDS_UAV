{
  "nbformat": 4,
  "nbformat_minor": 0,
  "metadata": {
    "colab": {
      "provenance": [],
      "name": "ML_IDS_UAV.ipynb",
      "authorship_tag": "ABX9TyOr0BbUUgpX+xo35peG3A3c",
      "include_colab_link": true
    },
    "kernelspec": {
      "name": "python3",
      "display_name": "Python 3"
    },
    "language_info": {
      "name": "python"
    }
  },
  "cells": [
    {
      "cell_type": "markdown",
      "metadata": {
        "id": "view-in-github",
        "colab_type": "text"
      },
      "source": [
        "<a href=\"https://colab.research.google.com/github/prof-cs-ohamdas/ML_DL_IDS_UAV/blob/main/ML_IDS_UAV.ipynb\" target=\"_parent\"><img src=\"https://colab.research.google.com/assets/colab-badge.svg\" alt=\"Open In Colab\"/></a>"
      ]
    },
    {
      "cell_type": "code",
      "execution_count": 1,
      "metadata": {
        "id": "D93iHbMPtTrC"
      },
      "outputs": [],
      "source": [
        "import pandas as pd\n",
        "import numpy as np\n",
        "from sklearn.model_selection import train_test_split\n",
        "from sklearn.preprocessing import StandardScaler, LabelEncoder\n",
        "from sklearn.metrics import accuracy_score, classification_report\n",
        "from sklearn.linear_model import LogisticRegression\n",
        "from sklearn.neighbors import KNeighborsClassifier\n",
        "from sklearn.svm import SVC\n",
        "import warnings\n",
        "import numpy as np\n",
        "import pandas as pd\n",
        "from sklearn.model_selection import train_test_split\n",
        "from sklearn.preprocessing import StandardScaler, LabelEncoder\n",
        "from sklearn.metrics import accuracy_score, classification_report, confusion_matrix\n",
        "from sklearn.linear_model import LogisticRegression\n",
        "from sklearn.neighbors import KNeighborsClassifier\n",
        "from sklearn.svm import SVC\n",
        "from sklearn.neural_network import MLPClassifier"
      ]
    },
    {
      "cell_type": "code",
      "source": [
        "# Try import pennylane (QML). If not available, we'll fall back to classical surrogate.\n",
        "try:\n",
        "    import pennylane as qml\n",
        "    from pennylane import numpy as pnp\n",
        "    from pennylane.optimize import AdamOptimizer\n",
        "    QML_AVAILABLE = True\n",
        "    print(\"[INFO] pennylane imported: QML enabled.\")\n",
        "except Exception:\n",
        "    qml = None\n",
        "    pnp = None\n",
        "    AdamOptimizer = None\n",
        "    QML_AVAILABLE = False\n",
        "    warnings.warn(\n",
        "        \"pennylane not available — QML will fall back to a classical MLP surrogate. \"\n",
        "        \"To enable QML, install pennylane: pip install pennylane\"\n",
        "    )"
      ],
      "metadata": {
        "colab": {
          "base_uri": "https://localhost:8080/"
        },
        "id": "49vhE4uDxMhd",
        "outputId": "75f292fa-befa-4c6f-bfc8-05339e580876"
      },
      "execution_count": 95,
      "outputs": [
        {
          "output_type": "stream",
          "name": "stdout",
          "text": [
            "[INFO] pennylane imported: QML enabled.\n"
          ]
        }
      ]
    },
    {
      "cell_type": "markdown",
      "source": [
        "Data Set load from Github"
      ],
      "metadata": {
        "id": "gtyQ-3f7K3QE"
      }
    },
    {
      "cell_type": "code",
      "source": [
        "import pandas as pd\n",
        "\n",
        "url = \"https://raw.githubusercontent.com/prof-cs-ohamdas/ML_DL_IDS_UAV/main/drone_communication_dataset.csv\"\n",
        "df = pd.read_csv(url)\n",
        "\n",
        "print(f\"[INFO] Dataset loaded: {df.shape[0]} rows, {df.shape[1]} columns\")\n"
      ],
      "metadata": {
        "colab": {
          "base_uri": "https://localhost:8080/"
        },
        "id": "tn35PkjeKj2N",
        "outputId": "4393cd37-69e8-4371-f466-895c72a438a0"
      },
      "execution_count": 96,
      "outputs": [
        {
          "output_type": "stream",
          "name": "stdout",
          "text": [
            "[INFO] Dataset loaded: 45289 rows, 35 columns\n"
          ]
        }
      ]
    },
    {
      "cell_type": "code",
      "source": [
        "!git clone https://github.com/prof-cs-ohamdas/ML_DL_IDS_UAV.git\n",
        "%cd ML_DL_IDS_UAV\n",
        "\n",
        "import pandas as pd\n",
        "df = pd.read_csv(\"drone_communication_dataset.csv\")\n",
        "print(f\"[INFO] Dataset loaded: {df.shape[0]} rows, {df.shape[1]} columns\")\n"
      ],
      "metadata": {
        "colab": {
          "base_uri": "https://localhost:8080/"
        },
        "id": "_SXlx0eCKzx7",
        "outputId": "f5eeb845-aed1-4cf7-a9a3-77e5f0c2b385"
      },
      "execution_count": 97,
      "outputs": [
        {
          "output_type": "stream",
          "name": "stdout",
          "text": [
            "fatal: destination path 'ML_DL_IDS_UAV' already exists and is not an empty directory.\n",
            "/content/ML_DL_IDS_UAV\n",
            "[INFO] Dataset loaded: 45289 rows, 35 columns\n"
          ]
        }
      ]
    },
    {
      "cell_type": "code",
      "source": [
        "from google.colab import data_table\n",
        "data_table.enable_dataframe_formatter()\n",
        "\n",
        "df\n"
      ],
      "metadata": {
        "colab": {
          "base_uri": "https://localhost:8080/",
          "height": 635
        },
        "id": "Gsu1D-0NS1tI",
        "outputId": "3caac33a-77fe-43db-9ef4-2ca443091467"
      },
      "execution_count": 98,
      "outputs": [
        {
          "output_type": "stream",
          "name": "stdout",
          "text": [
            "Warning: total number of rows (45289) exceeds max_rows (20000). Falling back to pandas display.\n"
          ]
        },
        {
          "output_type": "execute_result",
          "data": {
            "text/plain": [
              "                 timestamp  signal_strength  packet_loss_rate  \\\n",
              "0      2019-11-01 00:00:00              -60                 0   \n",
              "1      2019-11-01 01:00:00              -64                 0   \n",
              "2      2019-11-01 02:00:00              -60                 0   \n",
              "3      2019-11-01 03:00:00              -60                 0   \n",
              "4      2019-11-01 04:00:00              -69                 0   \n",
              "...                    ...              ...               ...   \n",
              "45284  2024-12-30 20:00:00              -60                 0   \n",
              "45285  2024-12-30 21:00:00              -66                 0   \n",
              "45286  2024-12-30 22:00:00              -60                12   \n",
              "45287  2024-12-30 23:00:00              -60                 0   \n",
              "45288  2024-12-31 00:00:00              -60                 0   \n",
              "\n",
              "       round_trip_time communication_protocol  frequency_band encryption_type  \\\n",
              "0                   50                 ZigBee             5.0             AES   \n",
              "1                   50                   LoRa             2.4             AES   \n",
              "2                  194                 ZigBee             2.4             AES   \n",
              "3                   50                  Wi-Fi             2.4             AES   \n",
              "4                   50                  Wi-Fi             2.4      Plain-text   \n",
              "...                ...                    ...             ...             ...   \n",
              "45284               50                   LoRa           915.0      Plain-text   \n",
              "45285               50                 ZigBee             2.4             RSA   \n",
              "45286               50                 ZigBee             2.4             RSA   \n",
              "45287               50                  Wi-Fi             2.4      Plain-text   \n",
              "45288               50                 ZigBee             2.4             AES   \n",
              "\n",
              "                           drone_gps_coordinates  altitude  speed_trajectory  \\\n",
              "0        (-11.69864152850468, 86.89778588010734)       291                60   \n",
              "1       (66.98918792506822, -140.91891468822496)       100                48   \n",
              "2        (-31.711586784829194, 36.5632095665857)       226                30   \n",
              "3         (3.5943733073538198, 74.7992608739666)       100                30   \n",
              "4        (41.4738797417983, -100.00817301602393)       100                30   \n",
              "...                                          ...       ...               ...   \n",
              "45284  (62.250807704044774, -151.05594484833514)       100                30   \n",
              "45285  (-44.694536026285874, 164.52171076223817)       100                30   \n",
              "45286  (-89.91726166541113, -120.42483221247912)       100                30   \n",
              "45287    (-55.27640423530802, 61.96296050101765)       100                30   \n",
              "45288   (-20.40399630934833, 27.695846703234537)       100                30   \n",
              "\n",
              "       ...  intrusion_detection_flags  temporal_patterns  label_normal  \\\n",
              "0      ...                          0                  0             0   \n",
              "1      ...                          0                  0             0   \n",
              "2      ...                          0                  0             0   \n",
              "3      ...                          0                  0             1   \n",
              "4      ...                          0                  0             0   \n",
              "...    ...                        ...                ...           ...   \n",
              "45284  ...                          0                  0             0   \n",
              "45285  ...                          0                  0             0   \n",
              "45286  ...                          0                  1             0   \n",
              "45287  ...                          0                  1             0   \n",
              "45288  ...                          0                  0             0   \n",
              "\n",
              "       label_spoofing  label_mitm  label_ddos  label_gps_spoofing  \\\n",
              "0                   0           0           0                   0   \n",
              "1                   0           0           0                   0   \n",
              "2                   0           0           0                   0   \n",
              "3                   0           0           0                   0   \n",
              "4                   0           0           0                   0   \n",
              "...               ...         ...         ...                 ...   \n",
              "45284               0           0           0                   0   \n",
              "45285               0           0           0                   0   \n",
              "45286               0           0           1                   1   \n",
              "45287               0           0           0                   0   \n",
              "45288               0           0           0                   0   \n",
              "\n",
              "       label_malware  label_jamming  label_protocol_exploit  \n",
              "0                  0              0                       0  \n",
              "1                  0              0                       0  \n",
              "2                  0              0                       0  \n",
              "3                  0              1                       0  \n",
              "4                  0              0                       0  \n",
              "...              ...            ...                     ...  \n",
              "45284              0              0                       0  \n",
              "45285              0              0                       0  \n",
              "45286              0              1                       0  \n",
              "45287              0              0                       0  \n",
              "45288              0              0                       0  \n",
              "\n",
              "[45289 rows x 35 columns]"
            ],
            "text/html": [
              "\n",
              "  <div id=\"df-7149dbb7-afb0-4bec-8b63-7b4eb1566550\" class=\"colab-df-container\">\n",
              "    <div>\n",
              "<style scoped>\n",
              "    .dataframe tbody tr th:only-of-type {\n",
              "        vertical-align: middle;\n",
              "    }\n",
              "\n",
              "    .dataframe tbody tr th {\n",
              "        vertical-align: top;\n",
              "    }\n",
              "\n",
              "    .dataframe thead th {\n",
              "        text-align: right;\n",
              "    }\n",
              "</style>\n",
              "<table border=\"1\" class=\"dataframe\">\n",
              "  <thead>\n",
              "    <tr style=\"text-align: right;\">\n",
              "      <th></th>\n",
              "      <th>timestamp</th>\n",
              "      <th>signal_strength</th>\n",
              "      <th>packet_loss_rate</th>\n",
              "      <th>round_trip_time</th>\n",
              "      <th>communication_protocol</th>\n",
              "      <th>frequency_band</th>\n",
              "      <th>encryption_type</th>\n",
              "      <th>drone_gps_coordinates</th>\n",
              "      <th>altitude</th>\n",
              "      <th>speed_trajectory</th>\n",
              "      <th>...</th>\n",
              "      <th>intrusion_detection_flags</th>\n",
              "      <th>temporal_patterns</th>\n",
              "      <th>label_normal</th>\n",
              "      <th>label_spoofing</th>\n",
              "      <th>label_mitm</th>\n",
              "      <th>label_ddos</th>\n",
              "      <th>label_gps_spoofing</th>\n",
              "      <th>label_malware</th>\n",
              "      <th>label_jamming</th>\n",
              "      <th>label_protocol_exploit</th>\n",
              "    </tr>\n",
              "  </thead>\n",
              "  <tbody>\n",
              "    <tr>\n",
              "      <th>0</th>\n",
              "      <td>2019-11-01 00:00:00</td>\n",
              "      <td>-60</td>\n",
              "      <td>0</td>\n",
              "      <td>50</td>\n",
              "      <td>ZigBee</td>\n",
              "      <td>5.0</td>\n",
              "      <td>AES</td>\n",
              "      <td>(-11.69864152850468, 86.89778588010734)</td>\n",
              "      <td>291</td>\n",
              "      <td>60</td>\n",
              "      <td>...</td>\n",
              "      <td>0</td>\n",
              "      <td>0</td>\n",
              "      <td>0</td>\n",
              "      <td>0</td>\n",
              "      <td>0</td>\n",
              "      <td>0</td>\n",
              "      <td>0</td>\n",
              "      <td>0</td>\n",
              "      <td>0</td>\n",
              "      <td>0</td>\n",
              "    </tr>\n",
              "    <tr>\n",
              "      <th>1</th>\n",
              "      <td>2019-11-01 01:00:00</td>\n",
              "      <td>-64</td>\n",
              "      <td>0</td>\n",
              "      <td>50</td>\n",
              "      <td>LoRa</td>\n",
              "      <td>2.4</td>\n",
              "      <td>AES</td>\n",
              "      <td>(66.98918792506822, -140.91891468822496)</td>\n",
              "      <td>100</td>\n",
              "      <td>48</td>\n",
              "      <td>...</td>\n",
              "      <td>0</td>\n",
              "      <td>0</td>\n",
              "      <td>0</td>\n",
              "      <td>0</td>\n",
              "      <td>0</td>\n",
              "      <td>0</td>\n",
              "      <td>0</td>\n",
              "      <td>0</td>\n",
              "      <td>0</td>\n",
              "      <td>0</td>\n",
              "    </tr>\n",
              "    <tr>\n",
              "      <th>2</th>\n",
              "      <td>2019-11-01 02:00:00</td>\n",
              "      <td>-60</td>\n",
              "      <td>0</td>\n",
              "      <td>194</td>\n",
              "      <td>ZigBee</td>\n",
              "      <td>2.4</td>\n",
              "      <td>AES</td>\n",
              "      <td>(-31.711586784829194, 36.5632095665857)</td>\n",
              "      <td>226</td>\n",
              "      <td>30</td>\n",
              "      <td>...</td>\n",
              "      <td>0</td>\n",
              "      <td>0</td>\n",
              "      <td>0</td>\n",
              "      <td>0</td>\n",
              "      <td>0</td>\n",
              "      <td>0</td>\n",
              "      <td>0</td>\n",
              "      <td>0</td>\n",
              "      <td>0</td>\n",
              "      <td>0</td>\n",
              "    </tr>\n",
              "    <tr>\n",
              "      <th>3</th>\n",
              "      <td>2019-11-01 03:00:00</td>\n",
              "      <td>-60</td>\n",
              "      <td>0</td>\n",
              "      <td>50</td>\n",
              "      <td>Wi-Fi</td>\n",
              "      <td>2.4</td>\n",
              "      <td>AES</td>\n",
              "      <td>(3.5943733073538198, 74.7992608739666)</td>\n",
              "      <td>100</td>\n",
              "      <td>30</td>\n",
              "      <td>...</td>\n",
              "      <td>0</td>\n",
              "      <td>0</td>\n",
              "      <td>1</td>\n",
              "      <td>0</td>\n",
              "      <td>0</td>\n",
              "      <td>0</td>\n",
              "      <td>0</td>\n",
              "      <td>0</td>\n",
              "      <td>1</td>\n",
              "      <td>0</td>\n",
              "    </tr>\n",
              "    <tr>\n",
              "      <th>4</th>\n",
              "      <td>2019-11-01 04:00:00</td>\n",
              "      <td>-69</td>\n",
              "      <td>0</td>\n",
              "      <td>50</td>\n",
              "      <td>Wi-Fi</td>\n",
              "      <td>2.4</td>\n",
              "      <td>Plain-text</td>\n",
              "      <td>(41.4738797417983, -100.00817301602393)</td>\n",
              "      <td>100</td>\n",
              "      <td>30</td>\n",
              "      <td>...</td>\n",
              "      <td>0</td>\n",
              "      <td>0</td>\n",
              "      <td>0</td>\n",
              "      <td>0</td>\n",
              "      <td>0</td>\n",
              "      <td>0</td>\n",
              "      <td>0</td>\n",
              "      <td>0</td>\n",
              "      <td>0</td>\n",
              "      <td>0</td>\n",
              "    </tr>\n",
              "    <tr>\n",
              "      <th>...</th>\n",
              "      <td>...</td>\n",
              "      <td>...</td>\n",
              "      <td>...</td>\n",
              "      <td>...</td>\n",
              "      <td>...</td>\n",
              "      <td>...</td>\n",
              "      <td>...</td>\n",
              "      <td>...</td>\n",
              "      <td>...</td>\n",
              "      <td>...</td>\n",
              "      <td>...</td>\n",
              "      <td>...</td>\n",
              "      <td>...</td>\n",
              "      <td>...</td>\n",
              "      <td>...</td>\n",
              "      <td>...</td>\n",
              "      <td>...</td>\n",
              "      <td>...</td>\n",
              "      <td>...</td>\n",
              "      <td>...</td>\n",
              "      <td>...</td>\n",
              "    </tr>\n",
              "    <tr>\n",
              "      <th>45284</th>\n",
              "      <td>2024-12-30 20:00:00</td>\n",
              "      <td>-60</td>\n",
              "      <td>0</td>\n",
              "      <td>50</td>\n",
              "      <td>LoRa</td>\n",
              "      <td>915.0</td>\n",
              "      <td>Plain-text</td>\n",
              "      <td>(62.250807704044774, -151.05594484833514)</td>\n",
              "      <td>100</td>\n",
              "      <td>30</td>\n",
              "      <td>...</td>\n",
              "      <td>0</td>\n",
              "      <td>0</td>\n",
              "      <td>0</td>\n",
              "      <td>0</td>\n",
              "      <td>0</td>\n",
              "      <td>0</td>\n",
              "      <td>0</td>\n",
              "      <td>0</td>\n",
              "      <td>0</td>\n",
              "      <td>0</td>\n",
              "    </tr>\n",
              "    <tr>\n",
              "      <th>45285</th>\n",
              "      <td>2024-12-30 21:00:00</td>\n",
              "      <td>-66</td>\n",
              "      <td>0</td>\n",
              "      <td>50</td>\n",
              "      <td>ZigBee</td>\n",
              "      <td>2.4</td>\n",
              "      <td>RSA</td>\n",
              "      <td>(-44.694536026285874, 164.52171076223817)</td>\n",
              "      <td>100</td>\n",
              "      <td>30</td>\n",
              "      <td>...</td>\n",
              "      <td>0</td>\n",
              "      <td>0</td>\n",
              "      <td>0</td>\n",
              "      <td>0</td>\n",
              "      <td>0</td>\n",
              "      <td>0</td>\n",
              "      <td>0</td>\n",
              "      <td>0</td>\n",
              "      <td>0</td>\n",
              "      <td>0</td>\n",
              "    </tr>\n",
              "    <tr>\n",
              "      <th>45286</th>\n",
              "      <td>2024-12-30 22:00:00</td>\n",
              "      <td>-60</td>\n",
              "      <td>12</td>\n",
              "      <td>50</td>\n",
              "      <td>ZigBee</td>\n",
              "      <td>2.4</td>\n",
              "      <td>RSA</td>\n",
              "      <td>(-89.91726166541113, -120.42483221247912)</td>\n",
              "      <td>100</td>\n",
              "      <td>30</td>\n",
              "      <td>...</td>\n",
              "      <td>0</td>\n",
              "      <td>1</td>\n",
              "      <td>0</td>\n",
              "      <td>0</td>\n",
              "      <td>0</td>\n",
              "      <td>1</td>\n",
              "      <td>1</td>\n",
              "      <td>0</td>\n",
              "      <td>1</td>\n",
              "      <td>0</td>\n",
              "    </tr>\n",
              "    <tr>\n",
              "      <th>45287</th>\n",
              "      <td>2024-12-30 23:00:00</td>\n",
              "      <td>-60</td>\n",
              "      <td>0</td>\n",
              "      <td>50</td>\n",
              "      <td>Wi-Fi</td>\n",
              "      <td>2.4</td>\n",
              "      <td>Plain-text</td>\n",
              "      <td>(-55.27640423530802, 61.96296050101765)</td>\n",
              "      <td>100</td>\n",
              "      <td>30</td>\n",
              "      <td>...</td>\n",
              "      <td>0</td>\n",
              "      <td>1</td>\n",
              "      <td>0</td>\n",
              "      <td>0</td>\n",
              "      <td>0</td>\n",
              "      <td>0</td>\n",
              "      <td>0</td>\n",
              "      <td>0</td>\n",
              "      <td>0</td>\n",
              "      <td>0</td>\n",
              "    </tr>\n",
              "    <tr>\n",
              "      <th>45288</th>\n",
              "      <td>2024-12-31 00:00:00</td>\n",
              "      <td>-60</td>\n",
              "      <td>0</td>\n",
              "      <td>50</td>\n",
              "      <td>ZigBee</td>\n",
              "      <td>2.4</td>\n",
              "      <td>AES</td>\n",
              "      <td>(-20.40399630934833, 27.695846703234537)</td>\n",
              "      <td>100</td>\n",
              "      <td>30</td>\n",
              "      <td>...</td>\n",
              "      <td>0</td>\n",
              "      <td>0</td>\n",
              "      <td>0</td>\n",
              "      <td>0</td>\n",
              "      <td>0</td>\n",
              "      <td>0</td>\n",
              "      <td>0</td>\n",
              "      <td>0</td>\n",
              "      <td>0</td>\n",
              "      <td>0</td>\n",
              "    </tr>\n",
              "  </tbody>\n",
              "</table>\n",
              "<p>45289 rows × 35 columns</p>\n",
              "</div>\n",
              "    <div class=\"colab-df-buttons\">\n",
              "\n",
              "  <div class=\"colab-df-container\">\n",
              "    <button class=\"colab-df-convert\" onclick=\"convertToInteractive('df-7149dbb7-afb0-4bec-8b63-7b4eb1566550')\"\n",
              "            title=\"Convert this dataframe to an interactive table.\"\n",
              "            style=\"display:none;\">\n",
              "\n",
              "  <svg xmlns=\"http://www.w3.org/2000/svg\" height=\"24px\" viewBox=\"0 -960 960 960\">\n",
              "    <path d=\"M120-120v-720h720v720H120Zm60-500h600v-160H180v160Zm220 220h160v-160H400v160Zm0 220h160v-160H400v160ZM180-400h160v-160H180v160Zm440 0h160v-160H620v160ZM180-180h160v-160H180v160Zm440 0h160v-160H620v160Z\"/>\n",
              "  </svg>\n",
              "    </button>\n",
              "\n",
              "  <style>\n",
              "    .colab-df-container {\n",
              "      display:flex;\n",
              "      gap: 12px;\n",
              "    }\n",
              "\n",
              "    .colab-df-convert {\n",
              "      background-color: #E8F0FE;\n",
              "      border: none;\n",
              "      border-radius: 50%;\n",
              "      cursor: pointer;\n",
              "      display: none;\n",
              "      fill: #1967D2;\n",
              "      height: 32px;\n",
              "      padding: 0 0 0 0;\n",
              "      width: 32px;\n",
              "    }\n",
              "\n",
              "    .colab-df-convert:hover {\n",
              "      background-color: #E2EBFA;\n",
              "      box-shadow: 0px 1px 2px rgba(60, 64, 67, 0.3), 0px 1px 3px 1px rgba(60, 64, 67, 0.15);\n",
              "      fill: #174EA6;\n",
              "    }\n",
              "\n",
              "    .colab-df-buttons div {\n",
              "      margin-bottom: 4px;\n",
              "    }\n",
              "\n",
              "    [theme=dark] .colab-df-convert {\n",
              "      background-color: #3B4455;\n",
              "      fill: #D2E3FC;\n",
              "    }\n",
              "\n",
              "    [theme=dark] .colab-df-convert:hover {\n",
              "      background-color: #434B5C;\n",
              "      box-shadow: 0px 1px 3px 1px rgba(0, 0, 0, 0.15);\n",
              "      filter: drop-shadow(0px 1px 2px rgba(0, 0, 0, 0.3));\n",
              "      fill: #FFFFFF;\n",
              "    }\n",
              "  </style>\n",
              "\n",
              "    <script>\n",
              "      const buttonEl =\n",
              "        document.querySelector('#df-7149dbb7-afb0-4bec-8b63-7b4eb1566550 button.colab-df-convert');\n",
              "      buttonEl.style.display =\n",
              "        google.colab.kernel.accessAllowed ? 'block' : 'none';\n",
              "\n",
              "      async function convertToInteractive(key) {\n",
              "        const element = document.querySelector('#df-7149dbb7-afb0-4bec-8b63-7b4eb1566550');\n",
              "        const dataTable =\n",
              "          await google.colab.kernel.invokeFunction('convertToInteractive',\n",
              "                                                    [key], {});\n",
              "        if (!dataTable) return;\n",
              "\n",
              "        const docLinkHtml = 'Like what you see? Visit the ' +\n",
              "          '<a target=\"_blank\" href=https://colab.research.google.com/notebooks/data_table.ipynb>data table notebook</a>'\n",
              "          + ' to learn more about interactive tables.';\n",
              "        element.innerHTML = '';\n",
              "        dataTable['output_type'] = 'display_data';\n",
              "        await google.colab.output.renderOutput(dataTable, element);\n",
              "        const docLink = document.createElement('div');\n",
              "        docLink.innerHTML = docLinkHtml;\n",
              "        element.appendChild(docLink);\n",
              "      }\n",
              "    </script>\n",
              "  </div>\n",
              "\n",
              "\n",
              "    <div id=\"df-1cf28423-ddb0-41ed-8230-04738cf81944\">\n",
              "      <button class=\"colab-df-quickchart\" onclick=\"quickchart('df-1cf28423-ddb0-41ed-8230-04738cf81944')\"\n",
              "                title=\"Suggest charts\"\n",
              "                style=\"display:none;\">\n",
              "\n",
              "<svg xmlns=\"http://www.w3.org/2000/svg\" height=\"24px\"viewBox=\"0 0 24 24\"\n",
              "     width=\"24px\">\n",
              "    <g>\n",
              "        <path d=\"M19 3H5c-1.1 0-2 .9-2 2v14c0 1.1.9 2 2 2h14c1.1 0 2-.9 2-2V5c0-1.1-.9-2-2-2zM9 17H7v-7h2v7zm4 0h-2V7h2v10zm4 0h-2v-4h2v4z\"/>\n",
              "    </g>\n",
              "</svg>\n",
              "      </button>\n",
              "\n",
              "<style>\n",
              "  .colab-df-quickchart {\n",
              "      --bg-color: #E8F0FE;\n",
              "      --fill-color: #1967D2;\n",
              "      --hover-bg-color: #E2EBFA;\n",
              "      --hover-fill-color: #174EA6;\n",
              "      --disabled-fill-color: #AAA;\n",
              "      --disabled-bg-color: #DDD;\n",
              "  }\n",
              "\n",
              "  [theme=dark] .colab-df-quickchart {\n",
              "      --bg-color: #3B4455;\n",
              "      --fill-color: #D2E3FC;\n",
              "      --hover-bg-color: #434B5C;\n",
              "      --hover-fill-color: #FFFFFF;\n",
              "      --disabled-bg-color: #3B4455;\n",
              "      --disabled-fill-color: #666;\n",
              "  }\n",
              "\n",
              "  .colab-df-quickchart {\n",
              "    background-color: var(--bg-color);\n",
              "    border: none;\n",
              "    border-radius: 50%;\n",
              "    cursor: pointer;\n",
              "    display: none;\n",
              "    fill: var(--fill-color);\n",
              "    height: 32px;\n",
              "    padding: 0;\n",
              "    width: 32px;\n",
              "  }\n",
              "\n",
              "  .colab-df-quickchart:hover {\n",
              "    background-color: var(--hover-bg-color);\n",
              "    box-shadow: 0 1px 2px rgba(60, 64, 67, 0.3), 0 1px 3px 1px rgba(60, 64, 67, 0.15);\n",
              "    fill: var(--button-hover-fill-color);\n",
              "  }\n",
              "\n",
              "  .colab-df-quickchart-complete:disabled,\n",
              "  .colab-df-quickchart-complete:disabled:hover {\n",
              "    background-color: var(--disabled-bg-color);\n",
              "    fill: var(--disabled-fill-color);\n",
              "    box-shadow: none;\n",
              "  }\n",
              "\n",
              "  .colab-df-spinner {\n",
              "    border: 2px solid var(--fill-color);\n",
              "    border-color: transparent;\n",
              "    border-bottom-color: var(--fill-color);\n",
              "    animation:\n",
              "      spin 1s steps(1) infinite;\n",
              "  }\n",
              "\n",
              "  @keyframes spin {\n",
              "    0% {\n",
              "      border-color: transparent;\n",
              "      border-bottom-color: var(--fill-color);\n",
              "      border-left-color: var(--fill-color);\n",
              "    }\n",
              "    20% {\n",
              "      border-color: transparent;\n",
              "      border-left-color: var(--fill-color);\n",
              "      border-top-color: var(--fill-color);\n",
              "    }\n",
              "    30% {\n",
              "      border-color: transparent;\n",
              "      border-left-color: var(--fill-color);\n",
              "      border-top-color: var(--fill-color);\n",
              "      border-right-color: var(--fill-color);\n",
              "    }\n",
              "    40% {\n",
              "      border-color: transparent;\n",
              "      border-right-color: var(--fill-color);\n",
              "      border-top-color: var(--fill-color);\n",
              "    }\n",
              "    60% {\n",
              "      border-color: transparent;\n",
              "      border-right-color: var(--fill-color);\n",
              "    }\n",
              "    80% {\n",
              "      border-color: transparent;\n",
              "      border-right-color: var(--fill-color);\n",
              "      border-bottom-color: var(--fill-color);\n",
              "    }\n",
              "    90% {\n",
              "      border-color: transparent;\n",
              "      border-bottom-color: var(--fill-color);\n",
              "    }\n",
              "  }\n",
              "</style>\n",
              "\n",
              "      <script>\n",
              "        async function quickchart(key) {\n",
              "          const quickchartButtonEl =\n",
              "            document.querySelector('#' + key + ' button');\n",
              "          quickchartButtonEl.disabled = true;  // To prevent multiple clicks.\n",
              "          quickchartButtonEl.classList.add('colab-df-spinner');\n",
              "          try {\n",
              "            const charts = await google.colab.kernel.invokeFunction(\n",
              "                'suggestCharts', [key], {});\n",
              "          } catch (error) {\n",
              "            console.error('Error during call to suggestCharts:', error);\n",
              "          }\n",
              "          quickchartButtonEl.classList.remove('colab-df-spinner');\n",
              "          quickchartButtonEl.classList.add('colab-df-quickchart-complete');\n",
              "        }\n",
              "        (() => {\n",
              "          let quickchartButtonEl =\n",
              "            document.querySelector('#df-1cf28423-ddb0-41ed-8230-04738cf81944 button');\n",
              "          quickchartButtonEl.style.display =\n",
              "            google.colab.kernel.accessAllowed ? 'block' : 'none';\n",
              "        })();\n",
              "      </script>\n",
              "    </div>\n",
              "\n",
              "  <div id=\"id_d839ad72-d388-4ecd-82be-eca94ad665fb\">\n",
              "    <style>\n",
              "      .colab-df-generate {\n",
              "        background-color: #E8F0FE;\n",
              "        border: none;\n",
              "        border-radius: 50%;\n",
              "        cursor: pointer;\n",
              "        display: none;\n",
              "        fill: #1967D2;\n",
              "        height: 32px;\n",
              "        padding: 0 0 0 0;\n",
              "        width: 32px;\n",
              "      }\n",
              "\n",
              "      .colab-df-generate:hover {\n",
              "        background-color: #E2EBFA;\n",
              "        box-shadow: 0px 1px 2px rgba(60, 64, 67, 0.3), 0px 1px 3px 1px rgba(60, 64, 67, 0.15);\n",
              "        fill: #174EA6;\n",
              "      }\n",
              "\n",
              "      [theme=dark] .colab-df-generate {\n",
              "        background-color: #3B4455;\n",
              "        fill: #D2E3FC;\n",
              "      }\n",
              "\n",
              "      [theme=dark] .colab-df-generate:hover {\n",
              "        background-color: #434B5C;\n",
              "        box-shadow: 0px 1px 3px 1px rgba(0, 0, 0, 0.15);\n",
              "        filter: drop-shadow(0px 1px 2px rgba(0, 0, 0, 0.3));\n",
              "        fill: #FFFFFF;\n",
              "      }\n",
              "    </style>\n",
              "    <button class=\"colab-df-generate\" onclick=\"generateWithVariable('df')\"\n",
              "            title=\"Generate code using this dataframe.\"\n",
              "            style=\"display:none;\">\n",
              "\n",
              "  <svg xmlns=\"http://www.w3.org/2000/svg\" height=\"24px\"viewBox=\"0 0 24 24\"\n",
              "       width=\"24px\">\n",
              "    <path d=\"M7,19H8.4L18.45,9,17,7.55,7,17.6ZM5,21V16.75L18.45,3.32a2,2,0,0,1,2.83,0l1.4,1.43a1.91,1.91,0,0,1,.58,1.4,1.91,1.91,0,0,1-.58,1.4L9.25,21ZM18.45,9,17,7.55Zm-12,3A5.31,5.31,0,0,0,4.9,8.1,5.31,5.31,0,0,0,1,6.5,5.31,5.31,0,0,0,4.9,4.9,5.31,5.31,0,0,0,6.5,1,5.31,5.31,0,0,0,8.1,4.9,5.31,5.31,0,0,0,12,6.5,5.46,5.46,0,0,0,6.5,12Z\"/>\n",
              "  </svg>\n",
              "    </button>\n",
              "    <script>\n",
              "      (() => {\n",
              "      const buttonEl =\n",
              "        document.querySelector('#id_d839ad72-d388-4ecd-82be-eca94ad665fb button.colab-df-generate');\n",
              "      buttonEl.style.display =\n",
              "        google.colab.kernel.accessAllowed ? 'block' : 'none';\n",
              "\n",
              "      buttonEl.onclick = () => {\n",
              "        google.colab.notebook.generateWithVariable('df');\n",
              "      }\n",
              "      })();\n",
              "    </script>\n",
              "  </div>\n",
              "\n",
              "    </div>\n",
              "  </div>\n"
            ],
            "application/vnd.google.colaboratory.intrinsic+json": {
              "type": "dataframe",
              "variable_name": "df"
            }
          },
          "metadata": {},
          "execution_count": 98
        }
      ]
    },
    {
      "cell_type": "code",
      "source": [
        "# -------------------------\n",
        "# 2. Inspect label columns\n",
        "# -------------------------\n",
        "label_cols = [c for c in df.columns if c.startswith(\"label_\")]\n",
        "if not label_cols:\n",
        "    raise ValueError(\"No label_* columns found in dataset. Need label columns for supervised training.\")\n",
        "print(f\"[INFO] label columns detected: {label_cols}\")\n"
      ],
      "metadata": {
        "colab": {
          "base_uri": "https://localhost:8080/"
        },
        "id": "ja1DkrxhTL-v",
        "outputId": "91eed672-a2b5-425c-f3e4-462c86c51b87"
      },
      "execution_count": 99,
      "outputs": [
        {
          "output_type": "stream",
          "name": "stdout",
          "text": [
            "[INFO] label columns detected: ['label_normal', 'label_spoofing', 'label_mitm', 'label_ddos', 'label_gps_spoofing', 'label_malware', 'label_jamming', 'label_protocol_exploit']\n"
          ]
        }
      ]
    },
    {
      "cell_type": "code",
      "source": [
        "# -------------------------\n",
        "# 3. Create multi-class target (attack_type)\n",
        "# -------------------------\n",
        "# Each row is assumed to have a one-hot label across label_* columns; idxmax gives the label name.\n",
        "df[\"attack_type_raw\"] = df[label_cols].idxmax(axis=1)  # e.g. 'label_ddos'\n",
        "df[\"attack_type\"] = df[\"attack_type_raw\"].str.replace(\"label_\", \"\", regex=False)\n"
      ],
      "metadata": {
        "id": "fpTSxv96TnkQ"
      },
      "execution_count": 100,
      "outputs": []
    },
    {
      "cell_type": "code",
      "source": [
        "# -------------------------\n",
        "# 4. Create binary target for QML: normal vs attack\n",
        "#    Strategy: try to find explicit 'normal' label; otherwise assume the most frequent label is 'normal'\n",
        "# -------------------------\n",
        "normal_label_col = next((c for c in label_cols if \"normal\" in c.lower()), None)\n",
        "if normal_label_col:\n",
        "    print(f\"[INFO] Found explicit normal label column: {normal_label_col}\")\n",
        "    df[\"is_attack\"] = (df[normal_label_col] == 0).astype(int)  # 1 -> attack, 0 -> normal\n",
        "else:\n",
        "    # No explicit 'label_normal' column. We'll assume the most frequent label is 'normal'.\n",
        "    most_freq_label = df[\"attack_type\"].mode().iloc[0]\n",
        "    print(f\"[WARN] No explicit 'label_normal' column. Treating most frequent label '{most_freq_label}' as NORMAL.\")\n",
        "    df[\"is_attack\"] = (df[\"attack_type\"] != most_freq_label).astype(int)\n"
      ],
      "metadata": {
        "colab": {
          "base_uri": "https://localhost:8080/"
        },
        "id": "uF6O8fVMTqRZ",
        "outputId": "5be369ee-5894-4acb-dea1-4480fec7d85b"
      },
      "execution_count": 101,
      "outputs": [
        {
          "output_type": "stream",
          "name": "stdout",
          "text": [
            "[INFO] Found explicit normal label column: label_normal\n"
          ]
        }
      ]
    },
    {
      "cell_type": "code",
      "source": [
        "# -------------------------\n",
        "# 5. Drop non-useful columns\n",
        "# -------------------------\n",
        "cols_to_drop = []\n",
        "for c in [\"timestamp\", \"drone_gps_coordinates\", \"attack_type_raw\"]:\n",
        "    if c in df.columns:\n",
        "        cols_to_drop.append(c)\n",
        "\n",
        "# We'll keep numeric/categorical features; drop label_* originals after deriving targets\n",
        "cols_to_drop += label_cols\n",
        "df = df.drop(columns=cols_to_drop)\n",
        "print(f\"[INFO] Dropped columns: {cols_to_drop}\")\n"
      ],
      "metadata": {
        "colab": {
          "base_uri": "https://localhost:8080/"
        },
        "id": "f4iy-21dTxuc",
        "outputId": "f738b0ec-0029-4557-a1c2-16ba035c1a63"
      },
      "execution_count": 102,
      "outputs": [
        {
          "output_type": "stream",
          "name": "stdout",
          "text": [
            "[INFO] Dropped columns: ['timestamp', 'drone_gps_coordinates', 'attack_type_raw', 'label_normal', 'label_spoofing', 'label_mitm', 'label_ddos', 'label_gps_spoofing', 'label_malware', 'label_jamming', 'label_protocol_exploit']\n"
          ]
        }
      ]
    },
    {
      "cell_type": "code",
      "source": [
        "# -------------------------\n",
        "# 6. Prepare features and encode categorical columns\n",
        "# -------------------------\n",
        "# Identify object (text) columns except 'attack_type' (we'll encode it separately)\n",
        "categorical_cols = df.select_dtypes(include=[\"object\"]).columns.tolist()\n",
        "if \"attack_type\" in categorical_cols:\n",
        "    categorical_cols.remove(\"attack_type\")\n",
        "\n",
        "print(f\"[INFO] Categorical columns to encode: {categorical_cols}\")\n",
        "\n",
        "# One-hot encode categorical cols (safe for models)\n",
        "df_enc = pd.get_dummies(df, columns=categorical_cols, drop_first=True)\n",
        "\n",
        "# Final feature matrix X and labels y_multi (multi-class) and y_bin (binary)\n",
        "X = df_enc.drop(columns=[\"attack_type\", \"is_attack\"])\n",
        "y_multi = df_enc[\"attack_type\"]\n",
        "y_bin = df_enc[\"is_attack\"]\n",
        "\n",
        "# Encode multi-class labels to integers\n",
        "le = LabelEncoder()\n",
        "y_multi_enc = le.fit_transform(y_multi)\n",
        "print(f\"[INFO] Multi-class labels found: {list(le.classes_)}\")"
      ],
      "metadata": {
        "colab": {
          "base_uri": "https://localhost:8080/"
        },
        "id": "vsyMhJ1GT5lX",
        "outputId": "15b9b06e-f8c2-4f6d-d647-34bc0a49329f"
      },
      "execution_count": 103,
      "outputs": [
        {
          "output_type": "stream",
          "name": "stdout",
          "text": [
            "[INFO] Categorical columns to encode: ['communication_protocol', 'encryption_type']\n",
            "[INFO] Multi-class labels found: ['ddos', 'gps_spoofing', 'jamming', 'malware', 'mitm', 'normal', 'protocol_exploit', 'spoofing']\n"
          ]
        }
      ]
    },
    {
      "cell_type": "code",
      "source": [
        "# -------------------------\n",
        "# 7. Train/test split\n",
        "# -------------------------\n",
        "# Classical (multi-class) models\n",
        "X_train_m, X_test_m, y_train_m, y_test_m = train_test_split(\n",
        "    X, y_multi_enc, test_size=0.20, random_state=42, stratify=y_multi_enc\n",
        ")\n",
        "\n",
        "# QML (binary) - use the same feature set but we'll restrict to smaller feature subset for QNN\n",
        "X_train_b, X_test_b, y_train_b, y_test_b = train_test_split(\n",
        "    X, y_bin, test_size=0.20, random_state=42, stratify=y_bin\n",
        ")\n",
        "\n",
        "# Standardize (important for SVM and many models)\n",
        "scaler = StandardScaler()\n",
        "X_train_m_scaled = scaler.fit_transform(X_train_m)\n",
        "X_test_m_scaled = scaler.transform(X_test_m)\n",
        "\n",
        "X_train_b_scaled = scaler.transform(X_train_b)  # use same scaler (fit on multi-class training)\n",
        "X_test_b_scaled = scaler.transform(X_test_b)\n",
        "\n",
        "print(f\"[INFO] Feature dimension: {X_train_m_scaled.shape[1]}\")\n"
      ],
      "metadata": {
        "colab": {
          "base_uri": "https://localhost:8080/"
        },
        "id": "UxiLY3w3T98F",
        "outputId": "9c1e9219-a0bd-4efc-8ede-969c84c0c253"
      },
      "execution_count": 104,
      "outputs": [
        {
          "output_type": "stream",
          "name": "stdout",
          "text": [
            "[INFO] Feature dimension: 27\n"
          ]
        }
      ]
    },
    {
      "cell_type": "code",
      "source": [
        "# -------------------------\n",
        "# 8. Train classical multi-class models\n",
        "# -------------------------\n",
        "models = {\n",
        "    \"Logistic Regression\": LogisticRegression(max_iter=2000, random_state=42),\n",
        "    \"KNN\": KNeighborsClassifier(n_neighbors=5),\n",
        "    \"SVM\": SVC(kernel=\"rbf\", probability=True, random_state=42)\n",
        "}\n",
        "\n",
        "results = {}\n",
        "for name, model in models.items():\n",
        "    print(f\"\\n[TRAIN] {name} (multi-class)...\")\n",
        "    model.fit(X_train_m_scaled, y_train_m)\n",
        "    preds = model.predict(X_test_m_scaled)\n",
        "    acc = accuracy_score(y_test_m, preds)\n",
        "    results[name] = {\"model\": model, \"accuracy\": acc, \"y_pred\": preds}\n",
        "    print(f\"[RESULT] {name} accuracy: {acc:.4f}\")\n",
        "    print(classification_report(y_test_m, preds, target_names=le.classes_))\n"
      ],
      "metadata": {
        "colab": {
          "base_uri": "https://localhost:8080/"
        },
        "id": "lPk5aObnUBcT",
        "outputId": "fd73b612-f113-4321-d199-c91c8d484ac9"
      },
      "execution_count": 105,
      "outputs": [
        {
          "output_type": "stream",
          "name": "stdout",
          "text": [
            "\n",
            "[TRAIN] Logistic Regression (multi-class)...\n",
            "[RESULT] Logistic Regression accuracy: 0.7250\n",
            "                  precision    recall  f1-score   support\n",
            "\n",
            "            ddos       0.00      0.00      0.00       605\n",
            "    gps_spoofing       0.00      0.00      0.00       286\n",
            "         jamming       0.00      0.00      0.00       429\n",
            "         malware       0.00      0.00      0.00       409\n",
            "            mitm       0.00      0.00      0.00       237\n",
            "          normal       0.72      1.00      0.84      6567\n",
            "protocol_exploit       0.00      0.00      0.00       118\n",
            "        spoofing       0.00      0.00      0.00       407\n",
            "\n",
            "        accuracy                           0.72      9058\n",
            "       macro avg       0.09      0.12      0.11      9058\n",
            "    weighted avg       0.53      0.72      0.61      9058\n",
            "\n",
            "\n",
            "[TRAIN] KNN (multi-class)...\n"
          ]
        },
        {
          "output_type": "stream",
          "name": "stderr",
          "text": [
            "/usr/local/lib/python3.12/dist-packages/sklearn/metrics/_classification.py:1565: UndefinedMetricWarning: Precision is ill-defined and being set to 0.0 in labels with no predicted samples. Use `zero_division` parameter to control this behavior.\n",
            "  _warn_prf(average, modifier, f\"{metric.capitalize()} is\", len(result))\n",
            "/usr/local/lib/python3.12/dist-packages/sklearn/metrics/_classification.py:1565: UndefinedMetricWarning: Precision is ill-defined and being set to 0.0 in labels with no predicted samples. Use `zero_division` parameter to control this behavior.\n",
            "  _warn_prf(average, modifier, f\"{metric.capitalize()} is\", len(result))\n",
            "/usr/local/lib/python3.12/dist-packages/sklearn/metrics/_classification.py:1565: UndefinedMetricWarning: Precision is ill-defined and being set to 0.0 in labels with no predicted samples. Use `zero_division` parameter to control this behavior.\n",
            "  _warn_prf(average, modifier, f\"{metric.capitalize()} is\", len(result))\n"
          ]
        },
        {
          "output_type": "stream",
          "name": "stdout",
          "text": [
            "[RESULT] KNN accuracy: 0.6862\n",
            "                  precision    recall  f1-score   support\n",
            "\n",
            "            ddos       0.09      0.03      0.05       605\n",
            "    gps_spoofing       0.03      0.01      0.01       286\n",
            "         jamming       0.05      0.01      0.02       429\n",
            "         malware       0.07      0.01      0.02       409\n",
            "            mitm       0.04      0.00      0.01       237\n",
            "          normal       0.73      0.94      0.82      6567\n",
            "protocol_exploit       0.00      0.00      0.00       118\n",
            "        spoofing       0.04      0.00      0.00       407\n",
            "\n",
            "        accuracy                           0.69      9058\n",
            "       macro avg       0.13      0.13      0.12      9058\n",
            "    weighted avg       0.54      0.69      0.60      9058\n",
            "\n",
            "\n",
            "[TRAIN] SVM (multi-class)...\n",
            "[RESULT] SVM accuracy: 0.7250\n",
            "                  precision    recall  f1-score   support\n",
            "\n",
            "            ddos       0.00      0.00      0.00       605\n",
            "    gps_spoofing       0.00      0.00      0.00       286\n",
            "         jamming       0.00      0.00      0.00       429\n",
            "         malware       0.00      0.00      0.00       409\n",
            "            mitm       0.00      0.00      0.00       237\n",
            "          normal       0.72      1.00      0.84      6567\n",
            "protocol_exploit       0.00      0.00      0.00       118\n",
            "        spoofing       0.00      0.00      0.00       407\n",
            "\n",
            "        accuracy                           0.72      9058\n",
            "       macro avg       0.09      0.12      0.11      9058\n",
            "    weighted avg       0.53      0.72      0.61      9058\n",
            "\n"
          ]
        },
        {
          "output_type": "stream",
          "name": "stderr",
          "text": [
            "/usr/local/lib/python3.12/dist-packages/sklearn/metrics/_classification.py:1565: UndefinedMetricWarning: Precision is ill-defined and being set to 0.0 in labels with no predicted samples. Use `zero_division` parameter to control this behavior.\n",
            "  _warn_prf(average, modifier, f\"{metric.capitalize()} is\", len(result))\n",
            "/usr/local/lib/python3.12/dist-packages/sklearn/metrics/_classification.py:1565: UndefinedMetricWarning: Precision is ill-defined and being set to 0.0 in labels with no predicted samples. Use `zero_division` parameter to control this behavior.\n",
            "  _warn_prf(average, modifier, f\"{metric.capitalize()} is\", len(result))\n",
            "/usr/local/lib/python3.12/dist-packages/sklearn/metrics/_classification.py:1565: UndefinedMetricWarning: Precision is ill-defined and being set to 0.0 in labels with no predicted samples. Use `zero_division` parameter to control this behavior.\n",
            "  _warn_prf(average, modifier, f\"{metric.capitalize()} is\", len(result))\n"
          ]
        }
      ]
    },
    {
      "cell_type": "code",
      "source": [
        "# -------------------------\n",
        "# 9. QML binary classifier (QNN) OR MLP surrogate if pennylane unavailable\n",
        "#    We'll use a small subset of features for the QNN (e.g., first 3 principal features)\n",
        "# -------------------------\n",
        "# Choose k features for the QNN (low-dim). We'll pick the first 3 numeric columns (after encoding).\n",
        "k_qnn = 3\n",
        "if X_train_b_scaled.shape[1] < k_qnn:\n",
        "    k_qnn = X_train_b_scaled.shape[1]\n",
        "\n",
        "X_train_q = X_train_b_scaled[:, :k_qnn]\n",
        "X_test_q = X_test_b_scaled[:, :k_qnn]\n",
        "\n",
        "if QML_AVAILABLE:\n",
        "    print(\"\\n[QML] Training Quantum Neural Network (binary)...\")\n",
        "    n_qubits = k_qnn\n",
        "    dev = qml.device(\"default.qubit\", wires=n_qubits)\n",
        "\n",
        "    # Variational circuit: AngleEmbedding + StronglyEntanglingLayers\n",
        "    def quantum_circuit(params, x=None):\n",
        "        # angle embedding expects length==n_qubits\n",
        "        x_padded = np.resize(x, n_qubits)  # truncate or pad\n",
        "        qml.AngleEmbedding(x_padded, wires=range(n_qubits))\n",
        "        qml.StronglyEntanglingLayers(params, wires=range(n_qubits))\n",
        "        return qml.expval(qml.PauliZ(0))\n",
        "\n",
        "    n_layers = 2\n",
        "    params_shape = qml.StronglyEntanglingLayers.shape(n_layers=n_layers, n_wires=n_qubits)\n",
        "    params = pnp.random.random(params_shape, requires_grad=True)\n",
        "\n",
        "    @qml.qnode(dev, interface=\"autograd\")\n",
        "    def qnode(params, x):\n",
        "        return quantum_circuit(params, x)\n",
        "\n",
        "    def qnn_predict_prob(params, x):\n",
        "        # map expectation [-1,1] -> [0,1]\n",
        "        return (qnode(params, x) + 1) / 2\n",
        "\n",
        "    # Prepare pnp arrays\n",
        "    X_train_q_p = pnp.array(X_train_q, requires_grad=False)\n",
        "    X_test_q_p = pnp.array(X_test_q, requires_grad=False)\n",
        "    y_train_q_p = pnp.array(y_train_b.values, requires_grad=False)\n",
        "\n",
        "    opt = AdamOptimizer(stepsize=0.2)\n",
        "\n",
        "    def cost(params, X, y):\n",
        "        preds = pnp.array([qnn_predict_prob(params, X[i]) for i in range(len(X))])\n",
        "        return pnp.mean((preds - y) ** 2)\n",
        "\n",
        "    epochs = 15\n",
        "    for epoch in range(epochs):\n",
        "        params = opt.step(lambda v: cost(v, X_train_q_p, y_train_q_p), params)\n",
        "        if (epoch + 1) % 5 == 0 or epoch == 0:\n",
        "            c = cost(params, X_train_q_p, y_train_q_p)\n",
        "            print(f\" Epoch {epoch+1}/{epochs}  cost: {c:.4f}\")\n",
        "\n",
        "    # Evaluate QNN\n",
        "    q_probs = [qnn_predict_prob(params, x) for x in X_test_q_p]\n",
        "    q_preds = [1 if float(p) > 0.5 else 0 for p in q_probs]\n",
        "    q_acc = accuracy_score(y_test_b, q_preds)\n",
        "    print(f\"\\n[QNN RESULT] Binary QNN accuracy: {q_acc:.4f}\")\n",
        "    print(classification_report(y_test_b, q_preds))\n",
        "    results[\"Quantum QNN (binary)\"] = {\"model\": \"pennylane_qnn\", \"accuracy\": q_acc, \"y_pred\": q_preds}\n",
        "else:\n",
        "    # Fallback: small MLP surrogate\n",
        "    print(\"\\n[QML fallback] pennylane unavailable: training MLP surrogate (binary)...\")\n",
        "    mlp = MLPClassifier(hidden_layer_sizes=(64, 32), max_iter=300, random_state=42)\n",
        "    mlp.fit(X_train_q, y_train_b)\n",
        "    mlp_preds = mlp.predict(X_test_q)\n",
        "    mlp_acc = accuracy_score(y_test_b, mlp_preds)\n",
        "    print(f\"[MLP surrogate] Binary accuracy: {mlp_acc:.4f}\")\n",
        "    print(classification_report(y_test_b, mlp_preds))\n",
        "    results[\"QNN surrogate (MLP)\"] = {\"model\": mlp, \"accuracy\": mlp_acc, \"y_pred\": mlp_preds}\n"
      ],
      "metadata": {
        "colab": {
          "base_uri": "https://localhost:8080/"
        },
        "id": "2VlWbZZ6UGVu",
        "outputId": "6261bfe9-11d8-4e67-e72e-54809e14611a"
      },
      "execution_count": null,
      "outputs": [
        {
          "output_type": "stream",
          "name": "stdout",
          "text": [
            "\n",
            "[QML] Training Quantum Neural Network (binary)...\n"
          ]
        }
      ]
    },
    {
      "cell_type": "code",
      "source": [
        "# -------------------------\n",
        "# 10. Sanity checks\n",
        "# -------------------------\n",
        "print(\"\\n[Sanity Checks]\")\n",
        "for name, info in results.items():\n",
        "    pred = info[\"y_pred\"]\n",
        "    if len(pred) != X_test_m_scaled.shape[0] and (\"binary\" not in name.lower() and \"qnn\" not in name.lower() and \"surrogate\" not in name.lower()):\n",
        "        print(f\" [WARN] {name} prediction length ({len(pred)}) != multi-class test size ({X_test_m_scaled.shape[0]})\")\n",
        "    else:\n",
        "        print(f\" [OK] {name} predictions ready (accuracy {info['accuracy']:.4f})\")\n",
        "\n",
        "print(\"\\n[Done] IDS training & evaluation complete.\")\n"
      ],
      "metadata": {
        "id": "qmsKRUEPUJxL"
      },
      "execution_count": null,
      "outputs": []
    },
    {
      "cell_type": "markdown",
      "source": [
        "**Graph Neural Networks (GNNs)**"
      ],
      "metadata": {
        "id": "IJ7lz7-yZ6BK"
      }
    },
    {
      "cell_type": "code",
      "source": [
        "import pandas as pd\n",
        "import torch\n",
        "from sklearn.model_selection import train_test_split\n",
        "from sklearn.preprocessing import StandardScaler, LabelEncoder\n",
        "from torch_geometric.data import Data\n",
        "from torch_geometric.nn import GCNConv\n",
        "import torch.nn.functional as F"
      ],
      "metadata": {
        "id": "ZYFZ1t8f-tga"
      },
      "execution_count": null,
      "outputs": []
    },
    {
      "cell_type": "code",
      "metadata": {
        "id": "8d8dde5a"
      },
      "source": [
        "import pandas as pd\n",
        "\n",
        "url = \"https://raw.githubusercontent.com/prof-cs-ohamdas/ML_DL_IDS_UAV/main/drone_communication_dataset.csv\"\n",
        "df = pd.read_csv(url)\n",
        "\n",
        "print(f\"[INFO] Dataset loaded: {df.shape[0]} rows, {df.shape[1]} columns\")"
      ],
      "execution_count": null,
      "outputs": []
    },
    {
      "cell_type": "code",
      "source": [
        "# Drop non-useful columns\n",
        "drop_cols = [\"timestamp\", \"drone_gps_coordinates\"]\n",
        "df = df.drop(columns=[c for c in drop_cols if c in df.columns])\n"
      ],
      "metadata": {
        "id": "uUCzwMN6Zw1Z"
      },
      "execution_count": null,
      "outputs": []
    },
    {
      "cell_type": "code",
      "source": [
        "# Merge labels\n",
        "label_cols = [c for c in df.columns if c.startswith(\"label_\")]\n",
        "df[\"attack_type\"] = df[label_cols].idxmax(axis=1)\n",
        "df[\"attack_type\"] = df[\"attack_type\"].str.replace(\"label_\", \"\")\n",
        "df = df.drop(columns=label_cols)"
      ],
      "metadata": {
        "id": "HO7f3knuaYwj"
      },
      "execution_count": null,
      "outputs": []
    },
    {
      "cell_type": "code",
      "source": [
        "# Encode categorical features\n",
        "categorical_cols = df.select_dtypes(include=[\"object\"]).columns.drop(\"attack_type\")\n",
        "df = pd.get_dummies(df, columns=categorical_cols)"
      ],
      "metadata": {
        "id": "UwlkwPRcagPc"
      },
      "execution_count": null,
      "outputs": []
    },
    {
      "cell_type": "code",
      "source": [
        "# Encode target\n",
        "le = LabelEncoder()\n",
        "df[\"attack_type\"] = le.fit_transform(df[\"attack_type\"])\n",
        "\n",
        "X = df.drop(columns=[\"attack_type\"]).values\n",
        "y = df[\"attack_type\"].values"
      ],
      "metadata": {
        "id": "EYTyKM05akIW"
      },
      "execution_count": null,
      "outputs": []
    },
    {
      "cell_type": "code",
      "source": [
        "# Standardize\n",
        "scaler = StandardScaler()\n",
        "X = scaler.fit_transform(X)\n"
      ],
      "metadata": {
        "id": "bxojz1z6anzz"
      },
      "execution_count": null,
      "outputs": []
    },
    {
      "cell_type": "code",
      "source": [
        "# -------------------------\n",
        "# 2. Build Graph\n",
        "# -------------------------\n",
        "# For simplicity: connect each node to its k nearest neighbors\n",
        "from sklearn.neighbors import kneighbors_graph\n",
        "import numpy as np\n",
        "\n",
        "k = 5\n",
        "adj = kneighbors_graph(X, k, mode=\"connectivity\", include_self=False)\n",
        "edge_index = torch.tensor(np.array(adj.nonzero()), dtype=torch.long)\n",
        "\n",
        "# Convert to PyTorch Geometric Data\n",
        "data = Data(\n",
        "    x=torch.tensor(X, dtype=torch.float),\n",
        "    y=torch.tensor(y, dtype=torch.long),\n",
        "    edge_index=edge_index\n",
        ")\n"
      ],
      "metadata": {
        "id": "Mcm5bfQSaqqe"
      },
      "execution_count": null,
      "outputs": []
    },
    {
      "cell_type": "code",
      "source": [
        "# Train/test split\n",
        "num_nodes = data.num_nodes\n",
        "train_mask = torch.zeros(num_nodes, dtype=torch.bool)\n",
        "test_mask = torch.zeros(num_nodes, dtype=torch.bool)\n",
        "\n",
        "train_idx, test_idx = train_test_split(range(num_nodes), test_size=0.2, stratify=y, random_state=42)\n",
        "train_mask[train_idx] = True\n",
        "test_mask[test_idx] = True\n",
        "data.train_mask = train_mask\n",
        "data.test_mask = test_mask"
      ],
      "metadata": {
        "id": "0qdnAkOxz9Lz"
      },
      "execution_count": null,
      "outputs": []
    },
    {
      "cell_type": "code",
      "source": [
        "# -------------------------\n",
        "# 3. Define GNN Model\n",
        "# -------------------------\n",
        "class GNN(torch.nn.Module):\n",
        "    def __init__(self, in_channels, hidden_channels, out_channels):\n",
        "        super(GNN, self).__init__()\n",
        "        self.conv1 = GCNConv(in_channels, hidden_channels)\n",
        "        self.conv2 = GCNConv(hidden_channels, out_channels)\n",
        "\n",
        "    def forward(self, x, edge_index):\n",
        "        x = self.conv1(x, edge_index)\n",
        "        x = F.relu(x)\n",
        "        x = self.conv2(x, edge_index)\n",
        "        return x\n",
        "\n",
        "model = GNN(in_channels=data.num_node_features, hidden_channels=32, out_channels=len(le.classes_))\n",
        "\n",
        "optimizer = torch.optim.Adam(model.parameters(), lr=0.01, weight_decay=5e-4)\n",
        "loss_fn = torch.nn.CrossEntropyLoss()"
      ],
      "metadata": {
        "id": "gXbFMRbf0Gsq"
      },
      "execution_count": null,
      "outputs": []
    },
    {
      "cell_type": "code",
      "source": [
        "# -------------------------\n",
        "# 4. Train\n",
        "# -------------------------\n",
        "for epoch in range(50):\n",
        "    model.train()\n",
        "    optimizer.zero_grad()\n",
        "    out = model(data.x, data.edge_index)\n",
        "    loss = loss_fn(out[data.train_mask], data.y[data.train_mask])\n",
        "    loss.backward()\n",
        "    optimizer.step()\n",
        "    if epoch % 10 == 0:\n",
        "        print(f\"Epoch {epoch}, Loss: {loss.item():.4f}\")"
      ],
      "metadata": {
        "id": "6Tgv6_zJ0JiR"
      },
      "execution_count": null,
      "outputs": []
    },
    {
      "cell_type": "code",
      "source": [
        "# -------------------------\n",
        "# 5. Test\n",
        "# -------------------------\n",
        "model.eval()\n",
        "preds = out.argmax(dim=1)\n",
        "correct = preds[data.test_mask].eq(data.y[data.test_mask]).sum().item()\n",
        "acc = correct / data.test_mask.sum().item()\n",
        "print(f\"Test Accuracy: {acc:.4f}\")"
      ],
      "metadata": {
        "id": "ufTQX4yn0PgG"
      },
      "execution_count": null,
      "outputs": []
    },
    {
      "cell_type": "markdown",
      "source": [
        "**H-QNN**"
      ],
      "metadata": {
        "id": "dcIcVw1_-RY2"
      }
    },
    {
      "cell_type": "code",
      "source": [
        "import sys\n",
        "import pandas as pd\n",
        "import numpy as np\n",
        "from sklearn.model_selection import train_test_split\n",
        "from sklearn.preprocessing import StandardScaler, LabelEncoder\n",
        "from sklearn.metrics import classification_report, confusion_matrix\n",
        "import torch\n",
        "import torch.nn as nn\n",
        "import torch.optim as optim\n",
        "from torch.utils.data import TensorDataset, DataLoader"
      ],
      "metadata": {
        "id": "z8oxwwG07h4O"
      },
      "execution_count": null,
      "outputs": []
    },
    {
      "cell_type": "code",
      "source": [
        "# Try imports for PennyLane; give helpful message if missing.\n",
        "try:\n",
        "    import pennylane as qml\n",
        "    from pennylane import numpy as pnp\n",
        "    from pennylane import qnn as qml_qnn  # optional alias\n",
        "except Exception as e:\n",
        "    print(\"ERROR: pennylane is required for H-QNN. Install with: pip install pennylane\")\n",
        "    raise"
      ],
      "metadata": {
        "id": "tqOu-wtd7tTU"
      },
      "execution_count": null,
      "outputs": []
    },
    {
      "cell_type": "code",
      "source": [
        "# -------------------------\n",
        "# 1. Load dataset (from GitHub URL)\n",
        "# -------------------------\n",
        "url = \"https://raw.githubusercontent.com/prof-cs-ohamdas/ML_DL_IDS_UAV/main/drone_communication_dataset.csv\"\n",
        "df = pd.read_csv(url)\n",
        "print(f\"[INFO] Dataset loaded: {df.shape[0]} rows, {df.shape[1]} columns\")\n"
      ],
      "metadata": {
        "id": "88srydUr7xDY"
      },
      "execution_count": null,
      "outputs": []
    },
    {
      "cell_type": "code",
      "source": [
        "# -------------------------\n",
        "# 2. Basic cleanup & label handling\n",
        "# -------------------------\n",
        "# Drop obviously useless columns if present\n",
        "drop_cols = [\"timestamp\", \"drone_gps_coordinates\"]\n",
        "df = df.drop(columns=[c for c in drop_cols if c in df.columns])\n",
        "\n",
        "# Find label columns: either many label_* columns or single attack_type/label\n",
        "label_cols = [c for c in df.columns if c.startswith(\"label_\")]\n",
        "\n",
        "if len(label_cols) > 0:\n",
        "    # one-hot style labels -> collapse to single text label\n",
        "    df[\"attack_type\"] = df[label_cols].idxmax(axis=1)\n",
        "    df[\"attack_type\"] = df[\"attack_type\"].str.replace(\"label_\", \"\", regex=False)\n",
        "    df = df.drop(columns=label_cols)\n",
        "elif \"attack_type\" in df.columns:\n",
        "    # already present\n",
        "    pass\n",
        "elif \"label\" in df.columns:\n",
        "    df = df.rename(columns={\"label\": \"attack_type\"})\n",
        "else:\n",
        "    raise ValueError(\"No label columns found. Expecting 'label_*' or 'attack_type' or 'label'.\")\n"
      ],
      "metadata": {
        "id": "uS7VY0JV8Igc"
      },
      "execution_count": null,
      "outputs": []
    },
    {
      "cell_type": "code",
      "source": [
        "# -------------------------\n",
        "# 3. Encode categorical features and target\n",
        "# -------------------------\n",
        "# Separate object dtype columns except 'attack_type'\n",
        "categorical_cols = df.select_dtypes(include=[\"object\"]).columns.tolist()\n",
        "if \"attack_type\" in categorical_cols:\n",
        "    categorical_cols.remove(\"attack_type\")\n",
        "\n",
        "if len(categorical_cols) > 0:\n",
        "    df = pd.get_dummies(df, columns=categorical_cols, drop_first=True)\n",
        "\n",
        "# Encode target labels to integers\n",
        "le = LabelEncoder()\n",
        "df[\"attack_type\"] = le.fit_transform(df[\"attack_type\"])\n",
        "\n",
        "# Final feature matrix and labels\n",
        "X = df.drop(columns=[\"attack_type\"]).values\n",
        "y = df[\"attack_type\"].values\n",
        "print(f\"[INFO] After encoding: X shape = {X.shape}, classes = {list(le.classes_)}\")\n"
      ],
      "metadata": {
        "id": "l0oZhXXH8MVC"
      },
      "execution_count": null,
      "outputs": []
    },
    {
      "cell_type": "code",
      "source": [
        "# -------------------------\n",
        "# 4. Scale numeric features\n",
        "# -------------------------\n",
        "scaler = StandardScaler()\n",
        "X = scaler.fit_transform(X)\n",
        "\n",
        "# -------------------------\n",
        "# 5. Subset and train/test split (we use a smaller training subset for Q-sim speed)\n",
        "# -------------------------\n",
        "# Full test split\n",
        "X_train_full, X_test, y_train_full, y_test = train_test_split(\n",
        "    X, y, test_size=0.20, random_state=42, stratify=y\n",
        ")\n",
        "\n",
        "# Choose a smaller training size for manageable quantum simulation (adjustable)\n",
        "max_train_samples = 2000  # change if you want to train on more samples\n",
        "if X_train_full.shape[0] > max_train_samples:\n",
        "    # stratified downsample\n",
        "    frac = max_train_samples / X_train_full.shape[0]\n",
        "    X_train, _, y_train, _ = train_test_split(\n",
        "        X_train_full, y_train_full, train_size=frac, random_state=42, stratify=y_train_full\n",
        "    )\n",
        "    print(f\"[INFO] Training on a downsampled subset: {X_train.shape[0]} samples (of {X_train_full.shape[0]} full).\")\n",
        "else:\n",
        "    X_train = X_train_full\n",
        "    y_train = y_train_full\n",
        "    print(f\"[INFO] Training on full training set: {X_train.shape[0]} samples.\")\n",
        "\n",
        "# Convert to torch tensors\n",
        "X_train_t = torch.tensor(X_train, dtype=torch.float32)\n",
        "y_train_t = torch.tensor(y_train, dtype=torch.long)\n",
        "X_test_t = torch.tensor(X_test, dtype=torch.float32)\n",
        "y_test_t = torch.tensor(y_test, dtype=torch.long)\n",
        "\n",
        "# Dataloader\n",
        "batch_size = 32\n",
        "train_loader = DataLoader(TensorDataset(X_train_t, y_train_t), batch_size=batch_size, shuffle=True)\n",
        "test_loader = DataLoader(TensorDataset(X_test_t, y_test_t), batch_size=batch_size, shuffle=False)\n"
      ],
      "metadata": {
        "id": "qOiYBPIn8P4Z"
      },
      "execution_count": null,
      "outputs": []
    },
    {
      "cell_type": "code",
      "source": [
        "# -------------------------\n",
        "# 6. Q-circuit & TorchLayer definition (safe & consistent)\n",
        "# -------------------------\n",
        "# Decide how many qubits to use. We'll compress classical features into n_qubits with a linear layer.\n",
        "n_qubits = 4\n",
        "n_layers = 1  # number of variational layers (small to keep simulation reasonable)\n",
        "\n",
        "dev = qml.device(\"default.qubit\", wires=n_qubits)\n",
        "\n",
        "# QNode: inputs will be a vector of length n_qubits (per sample). Return n_qubits expectation values.\n",
        "@qml.qnode(dev, interface=\"torch\")\n",
        "def qnode(inputs, weights):\n",
        "    # angle embedding: inputs length must be <= n_qubits; we'll ensure shape before calling\n",
        "    qml.templates.AngleEmbedding(inputs, wires=range(n_qubits))\n",
        "    qml.templates.StronglyEntanglingLayers(weights, wires=range(n_qubits))\n",
        "    # return a tuple/list of expectation values (one per qubit)\n",
        "    return tuple(qml.expval(qml.PauliZ(i)) for i in range(n_qubits))\n",
        "\n",
        "# Weight shapes must match (n_layers, n_qubits, 3)\n",
        "weight_shapes = {\"weights\": (n_layers, n_qubits, 3)}\n",
        "qlayer = qml.qnn.TorchLayer(qnode, weight_shapes)"
      ],
      "metadata": {
        "id": "YqaNahPd8XqF"
      },
      "execution_count": null,
      "outputs": []
    },
    {
      "cell_type": "code",
      "source": [
        "# -------------------------\n",
        "# 7. Hybrid model: classical compressor -> qlayer -> classifier\n",
        "# -------------------------\n",
        "class HQNNModel(nn.Module):\n",
        "    def __init__(self, in_features, n_qubits, n_classes):\n",
        "        super().__init__()\n",
        "        # compress arbitrary in_features -> n_qubits so quantum layer gets exactly n_qubits inputs\n",
        "        self.fc_pre = nn.Linear(in_features, n_qubits)\n",
        "        self.qlayer = qlayer      # qlayer expects vector length == n_qubits\n",
        "        self.fc_post = nn.Linear(n_qubits, n_classes)\n",
        "\n",
        "    def forward(self, x):\n",
        "        # Ensure 2D: (batch_size, features)\n",
        "        x = x.view(x.shape[0], -1)\n",
        "        # classical compression\n",
        "        x = torch.tanh(self.fc_pre(x))   # -> (batch, n_qubits)\n",
        "        # quantum layer: TorchLayer accepts (batch, n_qubits) and returns (batch, n_qubits)\n",
        "        x = self.qlayer(x)\n",
        "        # final classifier\n",
        "        x = self.fc_post(x)\n",
        "        return x\n",
        "\n",
        "in_features = X_train.shape[1]\n",
        "n_classes = len(np.unique(y))\n",
        "model = HQNNModel(in_features=in_features, n_qubits=n_qubits, n_classes=n_classes)\n",
        "print(f\"[INFO] Model created: in_features={in_features}, n_qubits={n_qubits}, n_classes={n_classes}\")"
      ],
      "metadata": {
        "id": "FMOVyix28cAT"
      },
      "execution_count": null,
      "outputs": []
    },
    {
      "cell_type": "code",
      "source": [
        "# -------------------------\n",
        "# 8. Training loop (minibatches)\n",
        "# -------------------------\n",
        "device = torch.device(\"cpu\")\n",
        "model.to(device)\n",
        "\n",
        "criterion = nn.CrossEntropyLoss()\n",
        "optimizer = optim.Adam(model.parameters(), lr=0.01)\n",
        "\n",
        "n_epochs = 6\n",
        "for epoch in range(1, n_epochs + 1):\n",
        "    model.train()\n",
        "    epoch_loss = 0.0\n",
        "    correct = 0\n",
        "    total = 0\n",
        "    for batch_x, batch_y in train_loader:\n",
        "        batch_x = batch_x.to(device)\n",
        "        batch_y = batch_y.to(device)\n",
        "\n",
        "        optimizer.zero_grad()\n",
        "        outputs = model(batch_x)            # shape (batch_size, n_classes)\n",
        "        loss = criterion(outputs, batch_y)\n",
        "        loss.backward()\n",
        "        optimizer.step()\n",
        "\n",
        "        epoch_loss += loss.item() * batch_x.size(0)\n",
        "        preds = outputs.argmax(dim=1)\n",
        "        correct += (preds == batch_y).sum().item()\n",
        "        total += batch_x.size(0)\n",
        "\n",
        "    epoch_loss /= total\n",
        "    train_acc = correct / total\n",
        "    print(f\"[Epoch {epoch}/{n_epochs}] Loss: {epoch_loss:.4f}, Train Acc: {train_acc:.4f}\")\n"
      ],
      "metadata": {
        "id": "pX-U9MN58lFS"
      },
      "execution_count": null,
      "outputs": []
    },
    {
      "cell_type": "markdown",
      "source": [
        "**XGBoost, LightGBM, CatBoost**"
      ],
      "metadata": {
        "id": "c3ySroVas98L"
      }
    },
    {
      "cell_type": "code",
      "source": [
        "import pandas as pd\n",
        "import numpy as np\n",
        "from sklearn.model_selection import train_test_split\n",
        "from sklearn.preprocessing import StandardScaler, LabelEncoder\n",
        "from sklearn.metrics import accuracy_score, classification_report\n"
      ],
      "metadata": {
        "id": "J_Jh-ifaHUBw"
      },
      "execution_count": null,
      "outputs": []
    },
    {
      "cell_type": "code",
      "source": [
        "# Try importing XGBoost\n",
        "try:\n",
        "    from xgboost import XGBClassifier\n",
        "    xgb_available = True\n",
        "except ImportError:\n",
        "    print(\"Warning: XGBoost not installed. Skipping XGBoost.\")\n",
        "    xgb_available = False"
      ],
      "metadata": {
        "id": "SKunQWuNHXbL"
      },
      "execution_count": null,
      "outputs": []
    },
    {
      "cell_type": "code",
      "source": [
        "# Try importing LightGBM\n",
        "try:\n",
        "    from lightgbm import LGBMClassifier\n",
        "    lgbm_available = True\n",
        "except ImportError:\n",
        "    print(\"Warning: LightGBM not installed. Skipping LightGBM.\")\n",
        "    lgbm_available = False"
      ],
      "metadata": {
        "id": "5PVxEKwjHae6"
      },
      "execution_count": null,
      "outputs": []
    },
    {
      "cell_type": "code",
      "source": [
        "# Try importing CatBoost\n",
        "try:\n",
        "    from catboost import CatBoostClassifier\n",
        "    catboost_available = True\n",
        "except ImportError:\n",
        "    print(\"Warning: CatBoost not installed. Skipping CatBoost.\")\n",
        "    catboost_available = False"
      ],
      "metadata": {
        "id": "rWXIPUvPHf7A"
      },
      "execution_count": null,
      "outputs": []
    },
    {
      "cell_type": "code",
      "source": [
        "# -------------------------\n",
        "# 1. Load and preprocess dataset\n",
        "# -------------------------\n",
        "url = \"https://raw.githubusercontent.com/prof-cs-ohamdas/ML_DL_IDS_UAV/main/drone_communication_dataset.csv\"\n",
        "df = pd.read_csv(url)\n",
        "print(f\"[INFO] Dataset loaded: {df.shape[0]} rows, {df.shape[1]} columns\")\n",
        "\n",
        "# Drop non-useful columns\n",
        "drop_cols = [\"timestamp\", \"drone_gps_coordinates\"]\n",
        "df = df.drop(columns=[c for c in drop_cols if c in df.columns])"
      ],
      "metadata": {
        "id": "KC4aK1GqHiIt"
      },
      "execution_count": null,
      "outputs": []
    },
    {
      "cell_type": "code",
      "source": [
        "# Merge attack labels\n",
        "label_cols = [c for c in df.columns if c.startswith(\"label_\")]\n",
        "df[\"attack_type\"] = df[label_cols].idxmax(axis=1)\n",
        "df[\"attack_type\"] = df[\"attack_type\"].str.replace(\"label_\", \"\")\n",
        "df = df.drop(columns=label_cols)\n"
      ],
      "metadata": {
        "id": "n8nBRFZNHm2z"
      },
      "execution_count": null,
      "outputs": []
    },
    {
      "cell_type": "code",
      "source": [
        "# Encode categorical features\n",
        "categorical_cols = df.select_dtypes(include=[\"object\"]).columns.drop(\"attack_type\")\n",
        "df = pd.get_dummies(df, columns=categorical_cols)"
      ],
      "metadata": {
        "id": "inMU0bb9HqIw"
      },
      "execution_count": null,
      "outputs": []
    },
    {
      "cell_type": "code",
      "source": [
        "# Encode target\n",
        "le = LabelEncoder()\n",
        "df[\"attack_type\"] = le.fit_transform(df[\"attack_type\"])\n",
        "\n",
        "X = df.drop(columns=[\"attack_type\"]).values\n",
        "y = df[\"attack_type\"].values\n"
      ],
      "metadata": {
        "id": "c1sQw0jbHu5E"
      },
      "execution_count": null,
      "outputs": []
    },
    {
      "cell_type": "code",
      "source": [
        "# Standardize\n",
        "scaler = StandardScaler()\n",
        "X = scaler.fit_transform(X)\n",
        "\n",
        "# Train/test split\n",
        "X_train, X_test, y_train, y_test = train_test_split(\n",
        "    X, y, test_size=0.2, random_state=42, stratify=y\n",
        ")"
      ],
      "metadata": {
        "id": "2u8pQsVPHwKd"
      },
      "execution_count": null,
      "outputs": []
    },
    {
      "cell_type": "code",
      "source": [
        "# -------------------------\n",
        "# 2. Boosting Models\n",
        "# -------------------------\n",
        "models = {}\n",
        "\n",
        "if xgb_available:\n",
        "    models[\"XGBoost\"] = XGBClassifier(use_label_encoder=False, eval_metric=\"mlogloss\")\n",
        "\n",
        "if lgbm_available:\n",
        "    models[\"LightGBM\"] = LGBMClassifier()\n",
        "\n",
        "if catboost_available:\n",
        "    models[\"CatBoost\"] = CatBoostClassifier(verbose=0)\n"
      ],
      "metadata": {
        "id": "tmCw6B8UHzQJ"
      },
      "execution_count": null,
      "outputs": []
    },
    {
      "cell_type": "code",
      "source": [
        "# -------------------------\n",
        "# 3. Train and Evaluate\n",
        "# -------------------------\n",
        "for name, model in models.items():\n",
        "    print(f\"\\n================ {name} ================\")\n",
        "    model.fit(X_train, y_train)\n",
        "    preds = model.predict(X_test)\n",
        "    acc = accuracy_score(y_test, preds)\n",
        "    print(f\"{name} Accuracy: {acc:.4f}\")\n",
        "    print(classification_report(y_test, preds, target_names=le.classes_))\n"
      ],
      "metadata": {
        "id": "RokhvjO5H2jW"
      },
      "execution_count": null,
      "outputs": []
    },
    {
      "cell_type": "markdown",
      "source": [
        "**Deep Neural Networks (DNNs)**"
      ],
      "metadata": {
        "id": "nzb-4UC2YrSW"
      }
    },
    {
      "cell_type": "code",
      "source": [
        "import os\n",
        "import pandas as pd\n",
        "import numpy as np\n",
        "from sklearn.model_selection import train_test_split\n",
        "from sklearn.preprocessing import StandardScaler, LabelEncoder\n",
        "from sklearn.metrics import classification_report, confusion_matrix, accuracy_score, hamming_loss\n",
        "from sklearn.neural_network import MLPClassifier\n",
        "from sklearn.multioutput import MultiOutputClassifier\n",
        "import joblib\n",
        "import matplotlib.pyplot as plt"
      ],
      "metadata": {
        "id": "kjGpVLM8Ys9x"
      },
      "execution_count": 4,
      "outputs": []
    },
    {
      "cell_type": "code",
      "source": [
        "# ===============================\n",
        "# 1. Load dataset from GitHub\n",
        "# ===============================\n",
        "import pandas as pd\n",
        "\n",
        "url = \"https://raw.githubusercontent.com/prof-cs-ohamdas/ML_DL_IDS_UAV/main/drone_communication_dataset.csv\"\n",
        "df = pd.read_csv(url)\n",
        "\n",
        "print(f\"[INFO] Dataset loaded from GitHub: {df.shape[0]} rows, {df.shape[1]} columns\")"
      ],
      "metadata": {
        "colab": {
          "base_uri": "https://localhost:8080/"
        },
        "id": "bzoFp91DY0-v",
        "outputId": "1a4aae22-16cb-4e3d-fed5-8692ca5ea672"
      },
      "execution_count": 5,
      "outputs": [
        {
          "output_type": "stream",
          "name": "stdout",
          "text": [
            "[INFO] Dataset loaded from GitHub: 45289 rows, 35 columns\n"
          ]
        }
      ]
    },
    {
      "cell_type": "code",
      "source": [
        "# ===============================\n",
        "# 2. Clone the repo (optional, if you want local copy in Colab)\n",
        "# ===============================\n",
        "!git clone https://github.com/prof-cs-ohamdas/ML_DL_IDS_UAV.git\n",
        "%cd ML_DL_IDS_UAV\n",
        "\n",
        "# Reload from local file (safer if large dataset)\n",
        "df = pd.read_csv(\"drone_communication_dataset.csv\")\n",
        "print(f\"[INFO] Dataset loaded locally: {df.shape[0]} rows, {df.shape[1]} columns\")\n"
      ],
      "metadata": {
        "colab": {
          "base_uri": "https://localhost:8080/"
        },
        "id": "HJLJQoW8Zb1H",
        "outputId": "856b7614-a5ff-4f22-f3ef-d4aa303ae84a"
      },
      "execution_count": 6,
      "outputs": [
        {
          "output_type": "stream",
          "name": "stdout",
          "text": [
            "fatal: destination path 'ML_DL_IDS_UAV' already exists and is not an empty directory.\n",
            "/content/ML_DL_IDS_UAV\n",
            "[INFO] Dataset loaded locally: 45289 rows, 35 columns\n"
          ]
        }
      ]
    },
    {
      "cell_type": "code",
      "source": [
        "# ===============================\n",
        "# 3. Enable Colab interactive table\n",
        "# ===============================\n",
        "from google.colab import data_table\n",
        "data_table.enable_dataframe_formatter()\n",
        "\n",
        "df.head()   # preview in interactive table\n"
      ],
      "metadata": {
        "colab": {
          "base_uri": "https://localhost:8080/",
          "height": 360
        },
        "id": "2pIzDlwgZfG8",
        "outputId": "e7c15dde-0f96-42cc-e149-cc3098c7affe"
      },
      "execution_count": 7,
      "outputs": [
        {
          "output_type": "stream",
          "name": "stdout",
          "text": [
            "Warning: Total number of columns (35) exceeds max_columns (20). Falling back to pandas display.\n"
          ]
        },
        {
          "output_type": "execute_result",
          "data": {
            "text/plain": [
              "             timestamp  signal_strength  packet_loss_rate  round_trip_time  \\\n",
              "0  2019-11-01 00:00:00              -60                 0               50   \n",
              "1  2019-11-01 01:00:00              -64                 0               50   \n",
              "2  2019-11-01 02:00:00              -60                 0              194   \n",
              "3  2019-11-01 03:00:00              -60                 0               50   \n",
              "4  2019-11-01 04:00:00              -69                 0               50   \n",
              "\n",
              "  communication_protocol  frequency_band encryption_type  \\\n",
              "0                 ZigBee             5.0             AES   \n",
              "1                   LoRa             2.4             AES   \n",
              "2                 ZigBee             2.4             AES   \n",
              "3                  Wi-Fi             2.4             AES   \n",
              "4                  Wi-Fi             2.4      Plain-text   \n",
              "\n",
              "                      drone_gps_coordinates  altitude  speed_trajectory  ...  \\\n",
              "0   (-11.69864152850468, 86.89778588010734)       291                60  ...   \n",
              "1  (66.98918792506822, -140.91891468822496)       100                48  ...   \n",
              "2   (-31.711586784829194, 36.5632095665857)       226                30  ...   \n",
              "3    (3.5943733073538198, 74.7992608739666)       100                30  ...   \n",
              "4   (41.4738797417983, -100.00817301602393)       100                30  ...   \n",
              "\n",
              "   intrusion_detection_flags  temporal_patterns  label_normal  label_spoofing  \\\n",
              "0                          0                  0             0               0   \n",
              "1                          0                  0             0               0   \n",
              "2                          0                  0             0               0   \n",
              "3                          0                  0             1               0   \n",
              "4                          0                  0             0               0   \n",
              "\n",
              "   label_mitm  label_ddos  label_gps_spoofing  label_malware  label_jamming  \\\n",
              "0           0           0                   0              0              0   \n",
              "1           0           0                   0              0              0   \n",
              "2           0           0                   0              0              0   \n",
              "3           0           0                   0              0              1   \n",
              "4           0           0                   0              0              0   \n",
              "\n",
              "   label_protocol_exploit  \n",
              "0                       0  \n",
              "1                       0  \n",
              "2                       0  \n",
              "3                       0  \n",
              "4                       0  \n",
              "\n",
              "[5 rows x 35 columns]"
            ],
            "text/html": [
              "\n",
              "  <div id=\"df-e1f03515-2743-4315-9dba-788aa2005389\" class=\"colab-df-container\">\n",
              "    <div>\n",
              "<style scoped>\n",
              "    .dataframe tbody tr th:only-of-type {\n",
              "        vertical-align: middle;\n",
              "    }\n",
              "\n",
              "    .dataframe tbody tr th {\n",
              "        vertical-align: top;\n",
              "    }\n",
              "\n",
              "    .dataframe thead th {\n",
              "        text-align: right;\n",
              "    }\n",
              "</style>\n",
              "<table border=\"1\" class=\"dataframe\">\n",
              "  <thead>\n",
              "    <tr style=\"text-align: right;\">\n",
              "      <th></th>\n",
              "      <th>timestamp</th>\n",
              "      <th>signal_strength</th>\n",
              "      <th>packet_loss_rate</th>\n",
              "      <th>round_trip_time</th>\n",
              "      <th>communication_protocol</th>\n",
              "      <th>frequency_band</th>\n",
              "      <th>encryption_type</th>\n",
              "      <th>drone_gps_coordinates</th>\n",
              "      <th>altitude</th>\n",
              "      <th>speed_trajectory</th>\n",
              "      <th>...</th>\n",
              "      <th>intrusion_detection_flags</th>\n",
              "      <th>temporal_patterns</th>\n",
              "      <th>label_normal</th>\n",
              "      <th>label_spoofing</th>\n",
              "      <th>label_mitm</th>\n",
              "      <th>label_ddos</th>\n",
              "      <th>label_gps_spoofing</th>\n",
              "      <th>label_malware</th>\n",
              "      <th>label_jamming</th>\n",
              "      <th>label_protocol_exploit</th>\n",
              "    </tr>\n",
              "  </thead>\n",
              "  <tbody>\n",
              "    <tr>\n",
              "      <th>0</th>\n",
              "      <td>2019-11-01 00:00:00</td>\n",
              "      <td>-60</td>\n",
              "      <td>0</td>\n",
              "      <td>50</td>\n",
              "      <td>ZigBee</td>\n",
              "      <td>5.0</td>\n",
              "      <td>AES</td>\n",
              "      <td>(-11.69864152850468, 86.89778588010734)</td>\n",
              "      <td>291</td>\n",
              "      <td>60</td>\n",
              "      <td>...</td>\n",
              "      <td>0</td>\n",
              "      <td>0</td>\n",
              "      <td>0</td>\n",
              "      <td>0</td>\n",
              "      <td>0</td>\n",
              "      <td>0</td>\n",
              "      <td>0</td>\n",
              "      <td>0</td>\n",
              "      <td>0</td>\n",
              "      <td>0</td>\n",
              "    </tr>\n",
              "    <tr>\n",
              "      <th>1</th>\n",
              "      <td>2019-11-01 01:00:00</td>\n",
              "      <td>-64</td>\n",
              "      <td>0</td>\n",
              "      <td>50</td>\n",
              "      <td>LoRa</td>\n",
              "      <td>2.4</td>\n",
              "      <td>AES</td>\n",
              "      <td>(66.98918792506822, -140.91891468822496)</td>\n",
              "      <td>100</td>\n",
              "      <td>48</td>\n",
              "      <td>...</td>\n",
              "      <td>0</td>\n",
              "      <td>0</td>\n",
              "      <td>0</td>\n",
              "      <td>0</td>\n",
              "      <td>0</td>\n",
              "      <td>0</td>\n",
              "      <td>0</td>\n",
              "      <td>0</td>\n",
              "      <td>0</td>\n",
              "      <td>0</td>\n",
              "    </tr>\n",
              "    <tr>\n",
              "      <th>2</th>\n",
              "      <td>2019-11-01 02:00:00</td>\n",
              "      <td>-60</td>\n",
              "      <td>0</td>\n",
              "      <td>194</td>\n",
              "      <td>ZigBee</td>\n",
              "      <td>2.4</td>\n",
              "      <td>AES</td>\n",
              "      <td>(-31.711586784829194, 36.5632095665857)</td>\n",
              "      <td>226</td>\n",
              "      <td>30</td>\n",
              "      <td>...</td>\n",
              "      <td>0</td>\n",
              "      <td>0</td>\n",
              "      <td>0</td>\n",
              "      <td>0</td>\n",
              "      <td>0</td>\n",
              "      <td>0</td>\n",
              "      <td>0</td>\n",
              "      <td>0</td>\n",
              "      <td>0</td>\n",
              "      <td>0</td>\n",
              "    </tr>\n",
              "    <tr>\n",
              "      <th>3</th>\n",
              "      <td>2019-11-01 03:00:00</td>\n",
              "      <td>-60</td>\n",
              "      <td>0</td>\n",
              "      <td>50</td>\n",
              "      <td>Wi-Fi</td>\n",
              "      <td>2.4</td>\n",
              "      <td>AES</td>\n",
              "      <td>(3.5943733073538198, 74.7992608739666)</td>\n",
              "      <td>100</td>\n",
              "      <td>30</td>\n",
              "      <td>...</td>\n",
              "      <td>0</td>\n",
              "      <td>0</td>\n",
              "      <td>1</td>\n",
              "      <td>0</td>\n",
              "      <td>0</td>\n",
              "      <td>0</td>\n",
              "      <td>0</td>\n",
              "      <td>0</td>\n",
              "      <td>1</td>\n",
              "      <td>0</td>\n",
              "    </tr>\n",
              "    <tr>\n",
              "      <th>4</th>\n",
              "      <td>2019-11-01 04:00:00</td>\n",
              "      <td>-69</td>\n",
              "      <td>0</td>\n",
              "      <td>50</td>\n",
              "      <td>Wi-Fi</td>\n",
              "      <td>2.4</td>\n",
              "      <td>Plain-text</td>\n",
              "      <td>(41.4738797417983, -100.00817301602393)</td>\n",
              "      <td>100</td>\n",
              "      <td>30</td>\n",
              "      <td>...</td>\n",
              "      <td>0</td>\n",
              "      <td>0</td>\n",
              "      <td>0</td>\n",
              "      <td>0</td>\n",
              "      <td>0</td>\n",
              "      <td>0</td>\n",
              "      <td>0</td>\n",
              "      <td>0</td>\n",
              "      <td>0</td>\n",
              "      <td>0</td>\n",
              "    </tr>\n",
              "  </tbody>\n",
              "</table>\n",
              "<p>5 rows × 35 columns</p>\n",
              "</div>\n",
              "    <div class=\"colab-df-buttons\">\n",
              "\n",
              "  <div class=\"colab-df-container\">\n",
              "    <button class=\"colab-df-convert\" onclick=\"convertToInteractive('df-e1f03515-2743-4315-9dba-788aa2005389')\"\n",
              "            title=\"Convert this dataframe to an interactive table.\"\n",
              "            style=\"display:none;\">\n",
              "\n",
              "  <svg xmlns=\"http://www.w3.org/2000/svg\" height=\"24px\" viewBox=\"0 -960 960 960\">\n",
              "    <path d=\"M120-120v-720h720v720H120Zm60-500h600v-160H180v160Zm220 220h160v-160H400v160Zm0 220h160v-160H400v160ZM180-400h160v-160H180v160Zm440 0h160v-160H620v160ZM180-180h160v-160H180v160Zm440 0h160v-160H620v160Z\"/>\n",
              "  </svg>\n",
              "    </button>\n",
              "\n",
              "  <style>\n",
              "    .colab-df-container {\n",
              "      display:flex;\n",
              "      gap: 12px;\n",
              "    }\n",
              "\n",
              "    .colab-df-convert {\n",
              "      background-color: #E8F0FE;\n",
              "      border: none;\n",
              "      border-radius: 50%;\n",
              "      cursor: pointer;\n",
              "      display: none;\n",
              "      fill: #1967D2;\n",
              "      height: 32px;\n",
              "      padding: 0 0 0 0;\n",
              "      width: 32px;\n",
              "    }\n",
              "\n",
              "    .colab-df-convert:hover {\n",
              "      background-color: #E2EBFA;\n",
              "      box-shadow: 0px 1px 2px rgba(60, 64, 67, 0.3), 0px 1px 3px 1px rgba(60, 64, 67, 0.15);\n",
              "      fill: #174EA6;\n",
              "    }\n",
              "\n",
              "    .colab-df-buttons div {\n",
              "      margin-bottom: 4px;\n",
              "    }\n",
              "\n",
              "    [theme=dark] .colab-df-convert {\n",
              "      background-color: #3B4455;\n",
              "      fill: #D2E3FC;\n",
              "    }\n",
              "\n",
              "    [theme=dark] .colab-df-convert:hover {\n",
              "      background-color: #434B5C;\n",
              "      box-shadow: 0px 1px 3px 1px rgba(0, 0, 0, 0.15);\n",
              "      filter: drop-shadow(0px 1px 2px rgba(0, 0, 0, 0.3));\n",
              "      fill: #FFFFFF;\n",
              "    }\n",
              "  </style>\n",
              "\n",
              "    <script>\n",
              "      const buttonEl =\n",
              "        document.querySelector('#df-e1f03515-2743-4315-9dba-788aa2005389 button.colab-df-convert');\n",
              "      buttonEl.style.display =\n",
              "        google.colab.kernel.accessAllowed ? 'block' : 'none';\n",
              "\n",
              "      async function convertToInteractive(key) {\n",
              "        const element = document.querySelector('#df-e1f03515-2743-4315-9dba-788aa2005389');\n",
              "        const dataTable =\n",
              "          await google.colab.kernel.invokeFunction('convertToInteractive',\n",
              "                                                    [key], {});\n",
              "        if (!dataTable) return;\n",
              "\n",
              "        const docLinkHtml = 'Like what you see? Visit the ' +\n",
              "          '<a target=\"_blank\" href=https://colab.research.google.com/notebooks/data_table.ipynb>data table notebook</a>'\n",
              "          + ' to learn more about interactive tables.';\n",
              "        element.innerHTML = '';\n",
              "        dataTable['output_type'] = 'display_data';\n",
              "        await google.colab.output.renderOutput(dataTable, element);\n",
              "        const docLink = document.createElement('div');\n",
              "        docLink.innerHTML = docLinkHtml;\n",
              "        element.appendChild(docLink);\n",
              "      }\n",
              "    </script>\n",
              "  </div>\n",
              "\n",
              "\n",
              "    <div id=\"df-ac306bdd-b8fb-45a1-92c8-77284e7d285b\">\n",
              "      <button class=\"colab-df-quickchart\" onclick=\"quickchart('df-ac306bdd-b8fb-45a1-92c8-77284e7d285b')\"\n",
              "                title=\"Suggest charts\"\n",
              "                style=\"display:none;\">\n",
              "\n",
              "<svg xmlns=\"http://www.w3.org/2000/svg\" height=\"24px\"viewBox=\"0 0 24 24\"\n",
              "     width=\"24px\">\n",
              "    <g>\n",
              "        <path d=\"M19 3H5c-1.1 0-2 .9-2 2v14c0 1.1.9 2 2 2h14c1.1 0 2-.9 2-2V5c0-1.1-.9-2-2-2zM9 17H7v-7h2v7zm4 0h-2V7h2v10zm4 0h-2v-4h2v4z\"/>\n",
              "    </g>\n",
              "</svg>\n",
              "      </button>\n",
              "\n",
              "<style>\n",
              "  .colab-df-quickchart {\n",
              "      --bg-color: #E8F0FE;\n",
              "      --fill-color: #1967D2;\n",
              "      --hover-bg-color: #E2EBFA;\n",
              "      --hover-fill-color: #174EA6;\n",
              "      --disabled-fill-color: #AAA;\n",
              "      --disabled-bg-color: #DDD;\n",
              "  }\n",
              "\n",
              "  [theme=dark] .colab-df-quickchart {\n",
              "      --bg-color: #3B4455;\n",
              "      --fill-color: #D2E3FC;\n",
              "      --hover-bg-color: #434B5C;\n",
              "      --hover-fill-color: #FFFFFF;\n",
              "      --disabled-bg-color: #3B4455;\n",
              "      --disabled-fill-color: #666;\n",
              "  }\n",
              "\n",
              "  .colab-df-quickchart {\n",
              "    background-color: var(--bg-color);\n",
              "    border: none;\n",
              "    border-radius: 50%;\n",
              "    cursor: pointer;\n",
              "    display: none;\n",
              "    fill: var(--fill-color);\n",
              "    height: 32px;\n",
              "    padding: 0;\n",
              "    width: 32px;\n",
              "  }\n",
              "\n",
              "  .colab-df-quickchart:hover {\n",
              "    background-color: var(--hover-bg-color);\n",
              "    box-shadow: 0 1px 2px rgba(60, 64, 67, 0.3), 0 1px 3px 1px rgba(60, 64, 67, 0.15);\n",
              "    fill: var(--button-hover-fill-color);\n",
              "  }\n",
              "\n",
              "  .colab-df-quickchart-complete:disabled,\n",
              "  .colab-df-quickchart-complete:disabled:hover {\n",
              "    background-color: var(--disabled-bg-color);\n",
              "    fill: var(--disabled-fill-color);\n",
              "    box-shadow: none;\n",
              "  }\n",
              "\n",
              "  .colab-df-spinner {\n",
              "    border: 2px solid var(--fill-color);\n",
              "    border-color: transparent;\n",
              "    border-bottom-color: var(--fill-color);\n",
              "    animation:\n",
              "      spin 1s steps(1) infinite;\n",
              "  }\n",
              "\n",
              "  @keyframes spin {\n",
              "    0% {\n",
              "      border-color: transparent;\n",
              "      border-bottom-color: var(--fill-color);\n",
              "      border-left-color: var(--fill-color);\n",
              "    }\n",
              "    20% {\n",
              "      border-color: transparent;\n",
              "      border-left-color: var(--fill-color);\n",
              "      border-top-color: var(--fill-color);\n",
              "    }\n",
              "    30% {\n",
              "      border-color: transparent;\n",
              "      border-left-color: var(--fill-color);\n",
              "      border-top-color: var(--fill-color);\n",
              "      border-right-color: var(--fill-color);\n",
              "    }\n",
              "    40% {\n",
              "      border-color: transparent;\n",
              "      border-right-color: var(--fill-color);\n",
              "      border-top-color: var(--fill-color);\n",
              "    }\n",
              "    60% {\n",
              "      border-color: transparent;\n",
              "      border-right-color: var(--fill-color);\n",
              "    }\n",
              "    80% {\n",
              "      border-color: transparent;\n",
              "      border-right-color: var(--fill-color);\n",
              "      border-bottom-color: var(--fill-color);\n",
              "    }\n",
              "    90% {\n",
              "      border-color: transparent;\n",
              "      border-bottom-color: var(--fill-color);\n",
              "    }\n",
              "  }\n",
              "</style>\n",
              "\n",
              "      <script>\n",
              "        async function quickchart(key) {\n",
              "          const quickchartButtonEl =\n",
              "            document.querySelector('#' + key + ' button');\n",
              "          quickchartButtonEl.disabled = true;  // To prevent multiple clicks.\n",
              "          quickchartButtonEl.classList.add('colab-df-spinner');\n",
              "          try {\n",
              "            const charts = await google.colab.kernel.invokeFunction(\n",
              "                'suggestCharts', [key], {});\n",
              "          } catch (error) {\n",
              "            console.error('Error during call to suggestCharts:', error);\n",
              "          }\n",
              "          quickchartButtonEl.classList.remove('colab-df-spinner');\n",
              "          quickchartButtonEl.classList.add('colab-df-quickchart-complete');\n",
              "        }\n",
              "        (() => {\n",
              "          let quickchartButtonEl =\n",
              "            document.querySelector('#df-ac306bdd-b8fb-45a1-92c8-77284e7d285b button');\n",
              "          quickchartButtonEl.style.display =\n",
              "            google.colab.kernel.accessAllowed ? 'block' : 'none';\n",
              "        })();\n",
              "      </script>\n",
              "    </div>\n",
              "\n",
              "    </div>\n",
              "  </div>\n"
            ],
            "application/vnd.google.colaboratory.intrinsic+json": {
              "type": "dataframe",
              "variable_name": "df"
            }
          },
          "metadata": {},
          "execution_count": 7
        }
      ]
    },
    {
      "cell_type": "code",
      "source": [
        "# ===============================\n",
        "# 4. Preprocess + IDS (MLP/DNN)\n",
        "# ===============================\n",
        "from sklearn.model_selection import train_test_split\n",
        "from sklearn.preprocessing import StandardScaler, LabelEncoder\n",
        "from sklearn.metrics import classification_report, confusion_matrix, accuracy_score\n",
        "from sklearn.neural_network import MLPClassifier\n",
        "from sklearn.multioutput import MultiOutputClassifier\n",
        "import joblib\n"
      ],
      "metadata": {
        "id": "N53YCUN9ZgAc"
      },
      "execution_count": 8,
      "outputs": []
    },
    {
      "cell_type": "code",
      "source": [
        "# Detect label columns (multi-label setup)\n",
        "label_cols = [c for c in df.columns if c.lower().startswith(\"label_\")]\n",
        "if not label_cols:\n",
        "    label_cols = [df.columns[-1]]\n",
        "print(f\"[INFO] Using label columns: {label_cols}\")\n",
        "\n",
        "X = df.drop(columns=label_cols)\n",
        "Y = df[label_cols].copy()"
      ],
      "metadata": {
        "colab": {
          "base_uri": "https://localhost:8080/"
        },
        "id": "H8QzazngZj7j",
        "outputId": "238166c9-4291-4df6-f10a-6145d992003f"
      },
      "execution_count": 9,
      "outputs": [
        {
          "output_type": "stream",
          "name": "stdout",
          "text": [
            "[INFO] Using label columns: ['label_normal', 'label_spoofing', 'label_mitm', 'label_ddos', 'label_gps_spoofing', 'label_malware', 'label_jamming', 'label_protocol_exploit']\n"
          ]
        }
      ]
    },
    {
      "cell_type": "code",
      "source": [
        "# Encode categorical Y if needed\n",
        "for col in label_cols:\n",
        "    if Y[col].dtype == object:\n",
        "        le = LabelEncoder()\n",
        "        Y[col] = le.fit_transform(Y[col].astype(str))\n"
      ],
      "metadata": {
        "id": "9vx0uMKdZnNR"
      },
      "execution_count": 10,
      "outputs": []
    },
    {
      "cell_type": "code",
      "source": [
        "# Handle missing values in X\n",
        "for col in X.columns:\n",
        "    if X[col].dtype == object:\n",
        "        X[col] = X[col].fillna(X[col].mode().iloc[0])\n",
        "    else:\n",
        "        X[col] = X[col].fillna(X[col].median())"
      ],
      "metadata": {
        "id": "laKAJiJIZsZS"
      },
      "execution_count": 11,
      "outputs": []
    },
    {
      "cell_type": "code",
      "source": [
        "# One-hot encode categorical features\n",
        "categorical_cols = X.select_dtypes(include=['object','category']).columns.tolist()\n",
        "if categorical_cols:\n",
        "    print(f\"[INFO] One-hot encoding: {categorical_cols}\")\n",
        "    X = pd.get_dummies(X, columns=categorical_cols, drop_first=True)"
      ],
      "metadata": {
        "colab": {
          "base_uri": "https://localhost:8080/"
        },
        "id": "HJ_Bv9QVZxzz",
        "outputId": "efe838ed-a19d-45e0-924a-eda407425b5b"
      },
      "execution_count": 12,
      "outputs": [
        {
          "output_type": "stream",
          "name": "stdout",
          "text": [
            "[INFO] One-hot encoding: ['timestamp', 'communication_protocol', 'encryption_type', 'drone_gps_coordinates']\n"
          ]
        }
      ]
    },
    {
      "cell_type": "code",
      "source": [
        "import pandas as pd\n",
        "from sklearn.model_selection import train_test_split\n",
        "from sklearn.preprocessing import StandardScaler\n",
        "\n",
        "# Step 1: Load dataset\n",
        "url = \"https://raw.githubusercontent.com/prof-cs-ohamdas/ML_DL_IDS_UAV/main/drone_communication_dataset.csv\"\n",
        "df = pd.read_csv(url)\n",
        "\n",
        "print(f\"[INFO] Dataset loaded: {df.shape[0]} rows, {df.shape[1]} columns\")\n",
        "\n",
        "# Step 2: Separate features (X) and labels (y)\n",
        "# Drop non-numeric columns automatically\n",
        "X = df.drop(columns=[df.columns[-1]])  # all columns except last\n",
        "y = df.iloc[:, -1]                     # last column is target\n",
        "\n",
        "# Keep only numeric columns for features\n",
        "X = X.select_dtypes(include=[\"int64\", \"float64\"])\n",
        "\n",
        "print(f\"[INFO] Numeric feature matrix: {X.shape[1]} columns after dropping non-numeric\")\n",
        "\n",
        "# Step 3: Scale features\n",
        "scaler = StandardScaler()\n",
        "X_scaled = scaler.fit_transform(X)\n",
        "\n",
        "# Step 4: Train-test split\n",
        "X_train, X_test, y_train, y_test = train_test_split(\n",
        "    X_scaled, y, test_size=0.2, random_state=42, stratify=y\n",
        ")\n",
        "\n",
        "print(\"[INFO] Shapes:\")\n",
        "print(\"X_train:\", X_train.shape)\n",
        "print(\"X_test:\", X_test.shape)\n",
        "print(\"y_train:\", y_train.shape)\n",
        "print(\"y_test:\", y_test.shape)\n"
      ],
      "metadata": {
        "colab": {
          "base_uri": "https://localhost:8080/"
        },
        "id": "0cp9ZTGEa060",
        "outputId": "a931468d-fdc7-401d-8faa-feb94053f94c"
      },
      "execution_count": 18,
      "outputs": [
        {
          "output_type": "stream",
          "name": "stdout",
          "text": [
            "[INFO] Dataset loaded: 45289 rows, 35 columns\n",
            "[INFO] Numeric feature matrix: 30 columns after dropping non-numeric\n",
            "[INFO] Shapes:\n",
            "X_train: (36231, 30)\n",
            "X_test: (9058, 30)\n",
            "y_train: (36231,)\n",
            "y_test: (9058,)\n"
          ]
        }
      ]
    },
    {
      "cell_type": "code",
      "source": [
        "# =============================\n",
        "# IDS on UAV using DNN\n",
        "# =============================\n",
        "\n",
        "import pandas as pd\n",
        "import numpy as np\n",
        "from sklearn.model_selection import train_test_split\n",
        "from sklearn.preprocessing import StandardScaler, LabelEncoder\n",
        "from tensorflow.keras.models import Sequential\n",
        "from tensorflow.keras.layers import Dense, Dropout\n",
        "from tensorflow.keras.utils import to_categorical\n"
      ],
      "metadata": {
        "id": "fhoi14OTbW0F"
      },
      "execution_count": 19,
      "outputs": []
    },
    {
      "cell_type": "code",
      "source": [
        "# -----------------------------\n",
        "# Step 1: Load dataset\n",
        "# -----------------------------\n",
        "url = \"https://raw.githubusercontent.com/prof-cs-ohamdas/ML_DL_IDS_UAV/main/drone_communication_dataset.csv\"\n",
        "df = pd.read_csv(url)\n",
        "\n",
        "print(f\"[INFO] Dataset loaded: {df.shape[0]} rows, {df.shape[1]} columns\")\n"
      ],
      "metadata": {
        "colab": {
          "base_uri": "https://localhost:8080/"
        },
        "id": "n_oYWCorbX8f",
        "outputId": "84795963-7339-463e-d118-455aadc45c0d"
      },
      "execution_count": 20,
      "outputs": [
        {
          "output_type": "stream",
          "name": "stdout",
          "text": [
            "[INFO] Dataset loaded: 45289 rows, 35 columns\n"
          ]
        }
      ]
    },
    {
      "cell_type": "code",
      "source": [
        "# -----------------------------\n",
        "# Step 2: Features (X) and labels (y)\n",
        "# -----------------------------\n",
        "X = df.drop(columns=[df.columns[-1]])   # drop last col (label)\n",
        "y = df.iloc[:, -1]                      # last col is label\n",
        "\n",
        "# Keep only numeric features\n",
        "X = X.select_dtypes(include=[\"int64\", \"float64\"])\n",
        "print(f\"[INFO] Numeric features: {X.shape[1]} columns\")\n"
      ],
      "metadata": {
        "colab": {
          "base_uri": "https://localhost:8080/"
        },
        "id": "5DHiz5g-bexT",
        "outputId": "7b8968b3-3948-4621-d674-0f70734d676d"
      },
      "execution_count": 21,
      "outputs": [
        {
          "output_type": "stream",
          "name": "stdout",
          "text": [
            "[INFO] Numeric features: 30 columns\n"
          ]
        }
      ]
    },
    {
      "cell_type": "code",
      "source": [
        "# -----------------------------\n",
        "# Step 3: Encode labels\n",
        "# -----------------------------\n",
        "le = LabelEncoder()\n",
        "y_encoded = le.fit_transform(y)\n",
        "y_categorical = to_categorical(y_encoded)\n",
        "\n",
        "print(f\"[INFO] Classes found: {len(le.classes_)} -> {list(le.classes_)}\")\n"
      ],
      "metadata": {
        "colab": {
          "base_uri": "https://localhost:8080/"
        },
        "id": "tGwNeRs6bjHe",
        "outputId": "659c356f-ff43-495f-c4a3-929a59591abb"
      },
      "execution_count": 22,
      "outputs": [
        {
          "output_type": "stream",
          "name": "stdout",
          "text": [
            "[INFO] Classes found: 2 -> [np.int64(0), np.int64(1)]\n"
          ]
        }
      ]
    },
    {
      "cell_type": "code",
      "source": [
        "# -----------------------------\n",
        "# Step 4: Scale features\n",
        "# -----------------------------\n",
        "scaler = StandardScaler()\n",
        "X_scaled = scaler.fit_transform(X)"
      ],
      "metadata": {
        "id": "f8LNVfaFbl6f"
      },
      "execution_count": 23,
      "outputs": []
    },
    {
      "cell_type": "code",
      "source": [
        "# -----------------------------\n",
        "# Step 5: Train-test split\n",
        "# -----------------------------\n",
        "X_train, X_test, y_train, y_test = train_test_split(\n",
        "    X_scaled, y_categorical, test_size=0.2, random_state=42, stratify=y_categorical\n",
        ")\n",
        "\n",
        "print(\"[INFO] Train/Test split:\")\n",
        "print(\"X_train:\", X_train.shape)\n",
        "print(\"X_test:\", X_test.shape)"
      ],
      "metadata": {
        "colab": {
          "base_uri": "https://localhost:8080/"
        },
        "id": "tvYdejUDbsVU",
        "outputId": "f6ed8389-ed86-4e98-8fc8-5dcbace866f3"
      },
      "execution_count": 24,
      "outputs": [
        {
          "output_type": "stream",
          "name": "stdout",
          "text": [
            "[INFO] Train/Test split:\n",
            "X_train: (36231, 30)\n",
            "X_test: (9058, 30)\n"
          ]
        }
      ]
    },
    {
      "cell_type": "code",
      "source": [
        "# -----------------------------\n",
        "# Step 6: Build DNN model\n",
        "# -----------------------------\n",
        "model = Sequential([\n",
        "    Dense(128, input_dim=X_train.shape[1], activation=\"relu\"),\n",
        "    Dropout(0.3),\n",
        "    Dense(64, activation=\"relu\"),\n",
        "    Dropout(0.3),\n",
        "    Dense(32, activation=\"relu\"),\n",
        "    Dense(y_categorical.shape[1], activation=\"softmax\")  # multi-class output\n",
        "])\n",
        "\n",
        "model.compile(optimizer=\"adam\", loss=\"categorical_crossentropy\", metrics=[\"accuracy\"])\n",
        "model.summary()"
      ],
      "metadata": {
        "colab": {
          "base_uri": "https://localhost:8080/",
          "height": 396
        },
        "id": "g0rk8GfPbt3k",
        "outputId": "f9159719-b233-4591-f988-4b63f8bb20f7"
      },
      "execution_count": 25,
      "outputs": [
        {
          "output_type": "stream",
          "name": "stderr",
          "text": [
            "/usr/local/lib/python3.12/dist-packages/keras/src/layers/core/dense.py:93: UserWarning: Do not pass an `input_shape`/`input_dim` argument to a layer. When using Sequential models, prefer using an `Input(shape)` object as the first layer in the model instead.\n",
            "  super().__init__(activity_regularizer=activity_regularizer, **kwargs)\n"
          ]
        },
        {
          "output_type": "display_data",
          "data": {
            "text/plain": [
              "\u001b[1mModel: \"sequential\"\u001b[0m\n"
            ],
            "text/html": [
              "<pre style=\"white-space:pre;overflow-x:auto;line-height:normal;font-family:Menlo,'DejaVu Sans Mono',consolas,'Courier New',monospace\"><span style=\"font-weight: bold\">Model: \"sequential\"</span>\n",
              "</pre>\n"
            ]
          },
          "metadata": {}
        },
        {
          "output_type": "display_data",
          "data": {
            "text/plain": [
              "┏━━━━━━━━━━━━━━━━━━━━━━━━━━━━━━━━━┳━━━━━━━━━━━━━━━━━━━━━━━━┳━━━━━━━━━━━━━━━┓\n",
              "┃\u001b[1m \u001b[0m\u001b[1mLayer (type)                   \u001b[0m\u001b[1m \u001b[0m┃\u001b[1m \u001b[0m\u001b[1mOutput Shape          \u001b[0m\u001b[1m \u001b[0m┃\u001b[1m \u001b[0m\u001b[1m      Param #\u001b[0m\u001b[1m \u001b[0m┃\n",
              "┡━━━━━━━━━━━━━━━━━━━━━━━━━━━━━━━━━╇━━━━━━━━━━━━━━━━━━━━━━━━╇━━━━━━━━━━━━━━━┩\n",
              "│ dense (\u001b[38;5;33mDense\u001b[0m)                   │ (\u001b[38;5;45mNone\u001b[0m, \u001b[38;5;34m128\u001b[0m)            │         \u001b[38;5;34m3,968\u001b[0m │\n",
              "├─────────────────────────────────┼────────────────────────┼───────────────┤\n",
              "│ dropout (\u001b[38;5;33mDropout\u001b[0m)               │ (\u001b[38;5;45mNone\u001b[0m, \u001b[38;5;34m128\u001b[0m)            │             \u001b[38;5;34m0\u001b[0m │\n",
              "├─────────────────────────────────┼────────────────────────┼───────────────┤\n",
              "│ dense_1 (\u001b[38;5;33mDense\u001b[0m)                 │ (\u001b[38;5;45mNone\u001b[0m, \u001b[38;5;34m64\u001b[0m)             │         \u001b[38;5;34m8,256\u001b[0m │\n",
              "├─────────────────────────────────┼────────────────────────┼───────────────┤\n",
              "│ dropout_1 (\u001b[38;5;33mDropout\u001b[0m)             │ (\u001b[38;5;45mNone\u001b[0m, \u001b[38;5;34m64\u001b[0m)             │             \u001b[38;5;34m0\u001b[0m │\n",
              "├─────────────────────────────────┼────────────────────────┼───────────────┤\n",
              "│ dense_2 (\u001b[38;5;33mDense\u001b[0m)                 │ (\u001b[38;5;45mNone\u001b[0m, \u001b[38;5;34m32\u001b[0m)             │         \u001b[38;5;34m2,080\u001b[0m │\n",
              "├─────────────────────────────────┼────────────────────────┼───────────────┤\n",
              "│ dense_3 (\u001b[38;5;33mDense\u001b[0m)                 │ (\u001b[38;5;45mNone\u001b[0m, \u001b[38;5;34m2\u001b[0m)              │            \u001b[38;5;34m66\u001b[0m │\n",
              "└─────────────────────────────────┴────────────────────────┴───────────────┘\n"
            ],
            "text/html": [
              "<pre style=\"white-space:pre;overflow-x:auto;line-height:normal;font-family:Menlo,'DejaVu Sans Mono',consolas,'Courier New',monospace\">┏━━━━━━━━━━━━━━━━━━━━━━━━━━━━━━━━━┳━━━━━━━━━━━━━━━━━━━━━━━━┳━━━━━━━━━━━━━━━┓\n",
              "┃<span style=\"font-weight: bold\"> Layer (type)                    </span>┃<span style=\"font-weight: bold\"> Output Shape           </span>┃<span style=\"font-weight: bold\">       Param # </span>┃\n",
              "┡━━━━━━━━━━━━━━━━━━━━━━━━━━━━━━━━━╇━━━━━━━━━━━━━━━━━━━━━━━━╇━━━━━━━━━━━━━━━┩\n",
              "│ dense (<span style=\"color: #0087ff; text-decoration-color: #0087ff\">Dense</span>)                   │ (<span style=\"color: #00d7ff; text-decoration-color: #00d7ff\">None</span>, <span style=\"color: #00af00; text-decoration-color: #00af00\">128</span>)            │         <span style=\"color: #00af00; text-decoration-color: #00af00\">3,968</span> │\n",
              "├─────────────────────────────────┼────────────────────────┼───────────────┤\n",
              "│ dropout (<span style=\"color: #0087ff; text-decoration-color: #0087ff\">Dropout</span>)               │ (<span style=\"color: #00d7ff; text-decoration-color: #00d7ff\">None</span>, <span style=\"color: #00af00; text-decoration-color: #00af00\">128</span>)            │             <span style=\"color: #00af00; text-decoration-color: #00af00\">0</span> │\n",
              "├─────────────────────────────────┼────────────────────────┼───────────────┤\n",
              "│ dense_1 (<span style=\"color: #0087ff; text-decoration-color: #0087ff\">Dense</span>)                 │ (<span style=\"color: #00d7ff; text-decoration-color: #00d7ff\">None</span>, <span style=\"color: #00af00; text-decoration-color: #00af00\">64</span>)             │         <span style=\"color: #00af00; text-decoration-color: #00af00\">8,256</span> │\n",
              "├─────────────────────────────────┼────────────────────────┼───────────────┤\n",
              "│ dropout_1 (<span style=\"color: #0087ff; text-decoration-color: #0087ff\">Dropout</span>)             │ (<span style=\"color: #00d7ff; text-decoration-color: #00d7ff\">None</span>, <span style=\"color: #00af00; text-decoration-color: #00af00\">64</span>)             │             <span style=\"color: #00af00; text-decoration-color: #00af00\">0</span> │\n",
              "├─────────────────────────────────┼────────────────────────┼───────────────┤\n",
              "│ dense_2 (<span style=\"color: #0087ff; text-decoration-color: #0087ff\">Dense</span>)                 │ (<span style=\"color: #00d7ff; text-decoration-color: #00d7ff\">None</span>, <span style=\"color: #00af00; text-decoration-color: #00af00\">32</span>)             │         <span style=\"color: #00af00; text-decoration-color: #00af00\">2,080</span> │\n",
              "├─────────────────────────────────┼────────────────────────┼───────────────┤\n",
              "│ dense_3 (<span style=\"color: #0087ff; text-decoration-color: #0087ff\">Dense</span>)                 │ (<span style=\"color: #00d7ff; text-decoration-color: #00d7ff\">None</span>, <span style=\"color: #00af00; text-decoration-color: #00af00\">2</span>)              │            <span style=\"color: #00af00; text-decoration-color: #00af00\">66</span> │\n",
              "└─────────────────────────────────┴────────────────────────┴───────────────┘\n",
              "</pre>\n"
            ]
          },
          "metadata": {}
        },
        {
          "output_type": "display_data",
          "data": {
            "text/plain": [
              "\u001b[1m Total params: \u001b[0m\u001b[38;5;34m14,370\u001b[0m (56.13 KB)\n"
            ],
            "text/html": [
              "<pre style=\"white-space:pre;overflow-x:auto;line-height:normal;font-family:Menlo,'DejaVu Sans Mono',consolas,'Courier New',monospace\"><span style=\"font-weight: bold\"> Total params: </span><span style=\"color: #00af00; text-decoration-color: #00af00\">14,370</span> (56.13 KB)\n",
              "</pre>\n"
            ]
          },
          "metadata": {}
        },
        {
          "output_type": "display_data",
          "data": {
            "text/plain": [
              "\u001b[1m Trainable params: \u001b[0m\u001b[38;5;34m14,370\u001b[0m (56.13 KB)\n"
            ],
            "text/html": [
              "<pre style=\"white-space:pre;overflow-x:auto;line-height:normal;font-family:Menlo,'DejaVu Sans Mono',consolas,'Courier New',monospace\"><span style=\"font-weight: bold\"> Trainable params: </span><span style=\"color: #00af00; text-decoration-color: #00af00\">14,370</span> (56.13 KB)\n",
              "</pre>\n"
            ]
          },
          "metadata": {}
        },
        {
          "output_type": "display_data",
          "data": {
            "text/plain": [
              "\u001b[1m Non-trainable params: \u001b[0m\u001b[38;5;34m0\u001b[0m (0.00 B)\n"
            ],
            "text/html": [
              "<pre style=\"white-space:pre;overflow-x:auto;line-height:normal;font-family:Menlo,'DejaVu Sans Mono',consolas,'Courier New',monospace\"><span style=\"font-weight: bold\"> Non-trainable params: </span><span style=\"color: #00af00; text-decoration-color: #00af00\">0</span> (0.00 B)\n",
              "</pre>\n"
            ]
          },
          "metadata": {}
        }
      ]
    },
    {
      "cell_type": "code",
      "source": [
        "# -----------------------------\n",
        "# Step 7: Train model\n",
        "# -----------------------------\n",
        "history = model.fit(\n",
        "    X_train, y_train,\n",
        "    epochs=20,\n",
        "    batch_size=64,\n",
        "    validation_split=0.2,\n",
        "    verbose=1\n",
        ")"
      ],
      "metadata": {
        "colab": {
          "base_uri": "https://localhost:8080/"
        },
        "id": "TXy5-aHubzYq",
        "outputId": "d9ec1a01-fa92-4aaa-8022-a5929903eed0"
      },
      "execution_count": 26,
      "outputs": [
        {
          "output_type": "stream",
          "name": "stdout",
          "text": [
            "Epoch 1/20\n",
            "\u001b[1m453/453\u001b[0m \u001b[32m━━━━━━━━━━━━━━━━━━━━\u001b[0m\u001b[37m\u001b[0m \u001b[1m5s\u001b[0m 5ms/step - accuracy: 0.9387 - loss: 0.1902 - val_accuracy: 0.9774 - val_loss: 0.1120\n",
            "Epoch 2/20\n",
            "\u001b[1m453/453\u001b[0m \u001b[32m━━━━━━━━━━━━━━━━━━━━\u001b[0m\u001b[37m\u001b[0m \u001b[1m2s\u001b[0m 4ms/step - accuracy: 0.9802 - loss: 0.1044 - val_accuracy: 0.9774 - val_loss: 0.1091\n",
            "Epoch 3/20\n",
            "\u001b[1m453/453\u001b[0m \u001b[32m━━━━━━━━━━━━━━━━━━━━\u001b[0m\u001b[37m\u001b[0m \u001b[1m4s\u001b[0m 8ms/step - accuracy: 0.9787 - loss: 0.1091 - val_accuracy: 0.9774 - val_loss: 0.1102\n",
            "Epoch 4/20\n",
            "\u001b[1m453/453\u001b[0m \u001b[32m━━━━━━━━━━━━━━━━━━━━\u001b[0m\u001b[37m\u001b[0m \u001b[1m3s\u001b[0m 3ms/step - accuracy: 0.9799 - loss: 0.1008 - val_accuracy: 0.9774 - val_loss: 0.1092\n",
            "Epoch 5/20\n",
            "\u001b[1m453/453\u001b[0m \u001b[32m━━━━━━━━━━━━━━━━━━━━\u001b[0m\u001b[37m\u001b[0m \u001b[1m1s\u001b[0m 3ms/step - accuracy: 0.9802 - loss: 0.0991 - val_accuracy: 0.9774 - val_loss: 0.1092\n",
            "Epoch 6/20\n",
            "\u001b[1m453/453\u001b[0m \u001b[32m━━━━━━━━━━━━━━━━━━━━\u001b[0m\u001b[37m\u001b[0m \u001b[1m3s\u001b[0m 3ms/step - accuracy: 0.9783 - loss: 0.1063 - val_accuracy: 0.9774 - val_loss: 0.1099\n",
            "Epoch 7/20\n",
            "\u001b[1m453/453\u001b[0m \u001b[32m━━━━━━━━━━━━━━━━━━━━\u001b[0m\u001b[37m\u001b[0m \u001b[1m1s\u001b[0m 3ms/step - accuracy: 0.9798 - loss: 0.0990 - val_accuracy: 0.9774 - val_loss: 0.1089\n",
            "Epoch 8/20\n",
            "\u001b[1m453/453\u001b[0m \u001b[32m━━━━━━━━━━━━━━━━━━━━\u001b[0m\u001b[37m\u001b[0m \u001b[1m1s\u001b[0m 3ms/step - accuracy: 0.9795 - loss: 0.1000 - val_accuracy: 0.9774 - val_loss: 0.1087\n",
            "Epoch 9/20\n",
            "\u001b[1m453/453\u001b[0m \u001b[32m━━━━━━━━━━━━━━━━━━━━\u001b[0m\u001b[37m\u001b[0m \u001b[1m2s\u001b[0m 3ms/step - accuracy: 0.9806 - loss: 0.0963 - val_accuracy: 0.9774 - val_loss: 0.1095\n",
            "Epoch 10/20\n",
            "\u001b[1m453/453\u001b[0m \u001b[32m━━━━━━━━━━━━━━━━━━━━\u001b[0m\u001b[37m\u001b[0m \u001b[1m2s\u001b[0m 4ms/step - accuracy: 0.9792 - loss: 0.1005 - val_accuracy: 0.9774 - val_loss: 0.1092\n",
            "Epoch 11/20\n",
            "\u001b[1m453/453\u001b[0m \u001b[32m━━━━━━━━━━━━━━━━━━━━\u001b[0m\u001b[37m\u001b[0m \u001b[1m2s\u001b[0m 3ms/step - accuracy: 0.9799 - loss: 0.0957 - val_accuracy: 0.9774 - val_loss: 0.1091\n",
            "Epoch 12/20\n",
            "\u001b[1m453/453\u001b[0m \u001b[32m━━━━━━━━━━━━━━━━━━━━\u001b[0m\u001b[37m\u001b[0m \u001b[1m1s\u001b[0m 3ms/step - accuracy: 0.9792 - loss: 0.0988 - val_accuracy: 0.9774 - val_loss: 0.1094\n",
            "Epoch 13/20\n",
            "\u001b[1m453/453\u001b[0m \u001b[32m━━━━━━━━━━━━━━━━━━━━\u001b[0m\u001b[37m\u001b[0m \u001b[1m1s\u001b[0m 3ms/step - accuracy: 0.9810 - loss: 0.0923 - val_accuracy: 0.9774 - val_loss: 0.1123\n",
            "Epoch 14/20\n",
            "\u001b[1m453/453\u001b[0m \u001b[32m━━━━━━━━━━━━━━━━━━━━\u001b[0m\u001b[37m\u001b[0m \u001b[1m1s\u001b[0m 3ms/step - accuracy: 0.9788 - loss: 0.1007 - val_accuracy: 0.9774 - val_loss: 0.1099\n",
            "Epoch 15/20\n",
            "\u001b[1m453/453\u001b[0m \u001b[32m━━━━━━━━━━━━━━━━━━━━\u001b[0m\u001b[37m\u001b[0m \u001b[1m1s\u001b[0m 3ms/step - accuracy: 0.9796 - loss: 0.0952 - val_accuracy: 0.9774 - val_loss: 0.1098\n",
            "Epoch 16/20\n",
            "\u001b[1m453/453\u001b[0m \u001b[32m━━━━━━━━━━━━━━━━━━━━\u001b[0m\u001b[37m\u001b[0m \u001b[1m1s\u001b[0m 3ms/step - accuracy: 0.9800 - loss: 0.0936 - val_accuracy: 0.9774 - val_loss: 0.1095\n",
            "Epoch 17/20\n",
            "\u001b[1m453/453\u001b[0m \u001b[32m━━━━━━━━━━━━━━━━━━━━\u001b[0m\u001b[37m\u001b[0m \u001b[1m1s\u001b[0m 3ms/step - accuracy: 0.9794 - loss: 0.0959 - val_accuracy: 0.9774 - val_loss: 0.1102\n",
            "Epoch 18/20\n",
            "\u001b[1m453/453\u001b[0m \u001b[32m━━━━━━━━━━━━━━━━━━━━\u001b[0m\u001b[37m\u001b[0m \u001b[1m3s\u001b[0m 4ms/step - accuracy: 0.9793 - loss: 0.0966 - val_accuracy: 0.9774 - val_loss: 0.1099\n",
            "Epoch 19/20\n",
            "\u001b[1m453/453\u001b[0m \u001b[32m━━━━━━━━━━━━━━━━━━━━\u001b[0m\u001b[37m\u001b[0m \u001b[1m2s\u001b[0m 3ms/step - accuracy: 0.9790 - loss: 0.0977 - val_accuracy: 0.9774 - val_loss: 0.1099\n",
            "Epoch 20/20\n",
            "\u001b[1m453/453\u001b[0m \u001b[32m━━━━━━━━━━━━━━━━━━━━\u001b[0m\u001b[37m\u001b[0m \u001b[1m2s\u001b[0m 3ms/step - accuracy: 0.9777 - loss: 0.1011 - val_accuracy: 0.9774 - val_loss: 0.1101\n"
          ]
        }
      ]
    },
    {
      "cell_type": "code",
      "source": [
        "# -----------------------------\n",
        "# Step 8: Evaluate model\n",
        "# -----------------------------\n",
        "loss, acc = model.evaluate(X_test, y_test, verbose=0)\n",
        "print(f\"[RESULT] Test Accuracy: {acc*100:.2f}%\")\n"
      ],
      "metadata": {
        "colab": {
          "base_uri": "https://localhost:8080/"
        },
        "id": "5Gtvx80acLvv",
        "outputId": "b98940df-b9fa-4c30-8968-e48610814399"
      },
      "execution_count": 27,
      "outputs": [
        {
          "output_type": "stream",
          "name": "stdout",
          "text": [
            "[RESULT] Test Accuracy: 97.89%\n"
          ]
        }
      ]
    },
    {
      "cell_type": "markdown",
      "source": [
        "**Federated Learning (FL)**"
      ],
      "metadata": {
        "id": "-9ncyDodaMss"
      }
    },
    {
      "cell_type": "code",
      "source": [
        "# Federated Learning IDS Example for UAV 5G Network\n",
        "# Using Flower (flwr) and Logistic Regression\n",
        "\n",
        "import flwr as fl\n",
        "import pandas as pd\n",
        "import numpy as np\n",
        "from sklearn.linear_model import LogisticRegression\n",
        "from sklearn.preprocessing import StandardScaler, LabelEncoder\n",
        "from sklearn.metrics import accuracy_score\n",
        "from sklearn.model_selection import train_test_split"
      ],
      "metadata": {
        "id": "7mVuw2YAs24J"
      },
      "execution_count": null,
      "outputs": []
    },
    {
      "cell_type": "code",
      "metadata": {
        "id": "up-L5k3OqxBM"
      },
      "source": [
        "# -------------------------\n",
        "# 4. Start Federated Learning\n",
        "# -------------------------\n",
        "from flwr.server.server import ServerConfig\n",
        "import flwr as fl # Import flwr here as well\n",
        "import numpy as np # Import numpy\n",
        "\n",
        "# Define the number of clients\n",
        "num_clients = 3 # Use the existing variable\n",
        "\n",
        "# Prepare data for clients (example: split X_train, y_train)\n",
        "# In a real FL scenario, each client would have its own data\n",
        "# For simulation, we'll split the training data further.\n",
        "# The train/test split was already done in previous cells, resulting in X_train_m, y_train_m, X_test_m, y_test_m\n",
        "# and X_train_b, y_train_b, X_test_b, y_test_b.\n",
        "\n",
        "# We'll use the binary split data for FL for simplicity (is_attack target)\n",
        "# Let's split X_train_b and y_train_b into num_clients partitions\n",
        "\n",
        "X_train_b_split = np.array_split(X_train_b, num_clients)\n",
        "y_train_b_split = np.array_split(y_train_b, num_clients)\n",
        "\n",
        "client_data = {str(i): (X_train_b_split[i], y_train_b_split[i]) for i in range(num_clients)}\n",
        "\n",
        "print(f\"[INFO] Data split into {num_clients} partitions for FL clients before starting simulation.\")\n",
        "\n",
        "\n",
        "def client_fn(cid: str):\n",
        "    # client_data is now defined before this function is used in start_simulation\n",
        "    return UAVClient(cid, client_data[int(cid)])\n",
        "\n",
        "\n",
        "strategy = fl.server.strategy.FedAvg()\n",
        "fl.simulation.start_simulation(\n",
        "    client_fn=client_fn,\n",
        "    num_clients=num_clients,\n",
        "    config=ServerConfig(num_rounds=5),\n",
        "    strategy=strategy,\n",
        ")"
      ],
      "execution_count": null,
      "outputs": []
    },
    {
      "cell_type": "code",
      "metadata": {
        "id": "3237f0df"
      },
      "source": [
        "# -------------------------\n",
        "# 6. Prepare features and encode categorical columns\n",
        "# -------------------------\n",
        "# Identify object (text) columns except 'attack_type' (we'll encode it separately)\n",
        "categorical_cols = df.select_dtypes(include=[\"object\"]).columns.tolist()\n",
        "if \"attack_type\" in categorical_cols:\n",
        "    categorical_cols.remove(\"attack_type\")\n",
        "\n",
        "print(f\"[INFO] Categorical columns to encode: {categorical_cols}\")\n",
        "\n",
        "# One-hot encode categorical cols (safe for models)\n",
        "df_enc = pd.get_dummies(df, columns=categorical_cols, drop_first=True)\n",
        "\n",
        "# Final feature matrix X and labels y_multi (multi-class) and y_bin (binary)\n",
        "X = df_enc.drop(columns=[\"attack_type\", \"is_attack\"])\n",
        "y_multi = df_enc[\"attack_type\"]\n",
        "y_bin = df_enc[\"is_attack\"]\n",
        "\n",
        "# Encode multi-class labels to integers\n",
        "le = LabelEncoder()\n",
        "y_multi_enc = le.fit_transform(y_multi)\n",
        "print(f\"[INFO] Multi-class labels found: {list(le.classes_)}\")"
      ],
      "execution_count": null,
      "outputs": []
    }
  ]
}